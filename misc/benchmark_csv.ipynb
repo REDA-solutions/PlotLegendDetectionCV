{
 "cells": [
  {
   "cell_type": "code",
   "execution_count": 32,
   "metadata": {},
   "outputs": [],
   "source": [
    "import pandas as pd\n",
    "import plotly.express as px"
   ]
  },
  {
   "cell_type": "code",
   "execution_count": 33,
   "metadata": {},
   "outputs": [],
   "source": [
    "df = pd.read_csv(\"benchmarking.csv\")"
   ]
  },
  {
   "cell_type": "code",
   "execution_count": 34,
   "metadata": {},
   "outputs": [
    {
     "data": {
      "text/html": [
       "<div>\n",
       "<style scoped>\n",
       "    .dataframe tbody tr th:only-of-type {\n",
       "        vertical-align: middle;\n",
       "    }\n",
       "\n",
       "    .dataframe tbody tr th {\n",
       "        vertical-align: top;\n",
       "    }\n",
       "\n",
       "    .dataframe thead th {\n",
       "        text-align: right;\n",
       "    }\n",
       "</style>\n",
       "<table border=\"1\" class=\"dataframe\">\n",
       "  <thead>\n",
       "    <tr style=\"text-align: right;\">\n",
       "      <th></th>\n",
       "      <th>time</th>\n",
       "      <th>score</th>\n",
       "    </tr>\n",
       "    <tr>\n",
       "      <th>name</th>\n",
       "      <th></th>\n",
       "      <th></th>\n",
       "    </tr>\n",
       "  </thead>\n",
       "  <tbody>\n",
       "    <tr>\n",
       "      <th>doctr_db_mobilenet_v3_large_crnn_mobilenet_v3_small</th>\n",
       "      <td>26.743971</td>\n",
       "      <td>0.429688</td>\n",
       "    </tr>\n",
       "    <tr>\n",
       "      <th>doctr_db_mobilenet_v3_large_crnn_vgg16_bn</th>\n",
       "      <td>27.536392</td>\n",
       "      <td>0.429688</td>\n",
       "    </tr>\n",
       "    <tr>\n",
       "      <th>doctr_db_resnet50_crnn_mobilenet_v3_small</th>\n",
       "      <td>26.192921</td>\n",
       "      <td>0.429688</td>\n",
       "    </tr>\n",
       "    <tr>\n",
       "      <th>doctr_db_resnet50_crnn_vgg16_bn</th>\n",
       "      <td>25.877255</td>\n",
       "      <td>0.429688</td>\n",
       "    </tr>\n",
       "    <tr>\n",
       "      <th>doctr_db_resnet50_rotation_crnn_mobilenet_v3_small</th>\n",
       "      <td>25.706661</td>\n",
       "      <td>0.429688</td>\n",
       "    </tr>\n",
       "    <tr>\n",
       "      <th>doctr_db_resnet50_rotation_crnn_vgg16_bn</th>\n",
       "      <td>25.799156</td>\n",
       "      <td>0.429688</td>\n",
       "    </tr>\n",
       "    <tr>\n",
       "      <th>pytesseract_-l eng+grc -c tessedit_char_blacklist=0123456789 --psm 11_15</th>\n",
       "      <td>0.321562</td>\n",
       "      <td>0.480381</td>\n",
       "    </tr>\n",
       "  </tbody>\n",
       "</table>\n",
       "</div>"
      ],
      "text/plain": [
       "                                                         time     score\n",
       "name                                                                   \n",
       "doctr_db_mobilenet_v3_large_crnn_mobilenet_v3_s...  26.743971  0.429688\n",
       "doctr_db_mobilenet_v3_large_crnn_vgg16_bn           27.536392  0.429688\n",
       "doctr_db_resnet50_crnn_mobilenet_v3_small           26.192921  0.429688\n",
       "doctr_db_resnet50_crnn_vgg16_bn                     25.877255  0.429688\n",
       "doctr_db_resnet50_rotation_crnn_mobilenet_v3_small  25.706661  0.429688\n",
       "doctr_db_resnet50_rotation_crnn_vgg16_bn            25.799156  0.429688\n",
       "pytesseract_-l eng+grc -c tessedit_char_blackli...   0.321562  0.480381"
      ]
     },
     "execution_count": 34,
     "metadata": {},
     "output_type": "execute_result"
    }
   ],
   "source": [
    "df.groupby(\"name\").mean()"
   ]
  },
  {
   "cell_type": "code",
   "execution_count": 35,
   "metadata": {},
   "outputs": [
    {
     "data": {
      "application/vnd.plotly.v1+json": {
       "config": {
        "plotlyServerURL": "https://plot.ly"
       },
       "data": [
        {
         "alignmentgroup": "True",
         "hovertemplate": "name=%{x}<br>time=%{y}<extra></extra>",
         "legendgroup": "",
         "marker": {
          "color": "#636efa"
         },
         "name": "",
         "notched": false,
         "offsetgroup": "",
         "orientation": "v",
         "showlegend": false,
         "type": "box",
         "x": [
          "doctr_db_mobilenet_v3_large_crnn_vgg16_bn",
          "doctr_db_mobilenet_v3_large_crnn_vgg16_bn",
          "doctr_db_mobilenet_v3_large_crnn_mobilenet_v3_small",
          "doctr_db_mobilenet_v3_large_crnn_mobilenet_v3_small",
          "doctr_db_resnet50_crnn_vgg16_bn",
          "doctr_db_resnet50_crnn_vgg16_bn",
          "doctr_db_resnet50_crnn_mobilenet_v3_small",
          "doctr_db_resnet50_crnn_mobilenet_v3_small",
          "doctr_db_resnet50_rotation_crnn_vgg16_bn",
          "doctr_db_resnet50_rotation_crnn_vgg16_bn",
          "doctr_db_resnet50_rotation_crnn_mobilenet_v3_small",
          "doctr_db_resnet50_rotation_crnn_mobilenet_v3_small",
          "pytesseract_-l eng+grc -c tessedit_char_blacklist=0123456789 --psm 11_15",
          "pytesseract_-l eng+grc -c tessedit_char_blacklist=0123456789 --psm 11_15",
          "pytesseract_-l eng+grc -c tessedit_char_blacklist=0123456789 --psm 11_15",
          "pytesseract_-l eng+grc -c tessedit_char_blacklist=0123456789 --psm 11_15",
          "pytesseract_-l eng+grc -c tessedit_char_blacklist=0123456789 --psm 11_15",
          "pytesseract_-l eng+grc -c tessedit_char_blacklist=0123456789 --psm 11_15",
          "pytesseract_-l eng+grc -c tessedit_char_blacklist=0123456789 --psm 11_15",
          "pytesseract_-l eng+grc -c tessedit_char_blacklist=0123456789 --psm 11_15",
          "pytesseract_-l eng+grc -c tessedit_char_blacklist=0123456789 --psm 11_15",
          "pytesseract_-l eng+grc -c tessedit_char_blacklist=0123456789 --psm 11_15",
          "pytesseract_-l eng+grc -c tessedit_char_blacklist=0123456789 --psm 11_15",
          "pytesseract_-l eng+grc -c tessedit_char_blacklist=0123456789 --psm 11_15",
          "pytesseract_-l eng+grc -c tessedit_char_blacklist=0123456789 --psm 11_15",
          "pytesseract_-l eng+grc -c tessedit_char_blacklist=0123456789 --psm 11_15",
          "pytesseract_-l eng+grc -c tessedit_char_blacklist=0123456789 --psm 11_15",
          "pytesseract_-l eng+grc -c tessedit_char_blacklist=0123456789 --psm 11_15",
          "pytesseract_-l eng+grc -c tessedit_char_blacklist=0123456789 --psm 11_15",
          "pytesseract_-l eng+grc -c tessedit_char_blacklist=0123456789 --psm 11_15",
          "pytesseract_-l eng+grc -c tessedit_char_blacklist=0123456789 --psm 11_15",
          "pytesseract_-l eng+grc -c tessedit_char_blacklist=0123456789 --psm 11_15",
          "pytesseract_-l eng+grc -c tessedit_char_blacklist=0123456789 --psm 11_15",
          "pytesseract_-l eng+grc -c tessedit_char_blacklist=0123456789 --psm 11_15",
          "pytesseract_-l eng+grc -c tessedit_char_blacklist=0123456789 --psm 11_15",
          "pytesseract_-l eng+grc -c tessedit_char_blacklist=0123456789 --psm 11_15",
          "pytesseract_-l eng+grc -c tessedit_char_blacklist=0123456789 --psm 11_15",
          "pytesseract_-l eng+grc -c tessedit_char_blacklist=0123456789 --psm 11_15",
          "pytesseract_-l eng+grc -c tessedit_char_blacklist=0123456789 --psm 11_15",
          "pytesseract_-l eng+grc -c tessedit_char_blacklist=0123456789 --psm 11_15",
          "pytesseract_-l eng+grc -c tessedit_char_blacklist=0123456789 --psm 11_15",
          "pytesseract_-l eng+grc -c tessedit_char_blacklist=0123456789 --psm 11_15",
          "pytesseract_-l eng+grc -c tessedit_char_blacklist=0123456789 --psm 11_15",
          "pytesseract_-l eng+grc -c tessedit_char_blacklist=0123456789 --psm 11_15",
          "pytesseract_-l eng+grc -c tessedit_char_blacklist=0123456789 --psm 11_15",
          "pytesseract_-l eng+grc -c tessedit_char_blacklist=0123456789 --psm 11_15",
          "pytesseract_-l eng+grc -c tessedit_char_blacklist=0123456789 --psm 11_15",
          "pytesseract_-l eng+grc -c tessedit_char_blacklist=0123456789 --psm 11_15",
          "pytesseract_-l eng+grc -c tessedit_char_blacklist=0123456789 --psm 11_15",
          "pytesseract_-l eng+grc -c tessedit_char_blacklist=0123456789 --psm 11_15",
          "pytesseract_-l eng+grc -c tessedit_char_blacklist=0123456789 --psm 11_15",
          "pytesseract_-l eng+grc -c tessedit_char_blacklist=0123456789 --psm 11_15",
          "pytesseract_-l eng+grc -c tessedit_char_blacklist=0123456789 --psm 11_15",
          "pytesseract_-l eng+grc -c tessedit_char_blacklist=0123456789 --psm 11_15",
          "pytesseract_-l eng+grc -c tessedit_char_blacklist=0123456789 --psm 11_15",
          "pytesseract_-l eng+grc -c tessedit_char_blacklist=0123456789 --psm 11_15",
          "pytesseract_-l eng+grc -c tessedit_char_blacklist=0123456789 --psm 11_15",
          "pytesseract_-l eng+grc -c tessedit_char_blacklist=0123456789 --psm 11_15",
          "pytesseract_-l eng+grc -c tessedit_char_blacklist=0123456789 --psm 11_15",
          "pytesseract_-l eng+grc -c tessedit_char_blacklist=0123456789 --psm 11_15",
          "pytesseract_-l eng+grc -c tessedit_char_blacklist=0123456789 --psm 11_15",
          "pytesseract_-l eng+grc -c tessedit_char_blacklist=0123456789 --psm 11_15",
          "pytesseract_-l eng+grc -c tessedit_char_blacklist=0123456789 --psm 11_15",
          "pytesseract_-l eng+grc -c tessedit_char_blacklist=0123456789 --psm 11_15",
          "pytesseract_-l eng+grc -c tessedit_char_blacklist=0123456789 --psm 11_15",
          "pytesseract_-l eng+grc -c tessedit_char_blacklist=0123456789 --psm 11_15",
          "pytesseract_-l eng+grc -c tessedit_char_blacklist=0123456789 --psm 11_15",
          "pytesseract_-l eng+grc -c tessedit_char_blacklist=0123456789 --psm 11_15",
          "pytesseract_-l eng+grc -c tessedit_char_blacklist=0123456789 --psm 11_15",
          "pytesseract_-l eng+grc -c tessedit_char_blacklist=0123456789 --psm 11_15",
          "pytesseract_-l eng+grc -c tessedit_char_blacklist=0123456789 --psm 11_15",
          "pytesseract_-l eng+grc -c tessedit_char_blacklist=0123456789 --psm 11_15",
          "pytesseract_-l eng+grc -c tessedit_char_blacklist=0123456789 --psm 11_15",
          "pytesseract_-l eng+grc -c tessedit_char_blacklist=0123456789 --psm 11_15",
          "pytesseract_-l eng+grc -c tessedit_char_blacklist=0123456789 --psm 11_15",
          "pytesseract_-l eng+grc -c tessedit_char_blacklist=0123456789 --psm 11_15",
          "pytesseract_-l eng+grc -c tessedit_char_blacklist=0123456789 --psm 11_15",
          "pytesseract_-l eng+grc -c tessedit_char_blacklist=0123456789 --psm 11_15",
          "pytesseract_-l eng+grc -c tessedit_char_blacklist=0123456789 --psm 11_15",
          "pytesseract_-l eng+grc -c tessedit_char_blacklist=0123456789 --psm 11_15",
          "pytesseract_-l eng+grc -c tessedit_char_blacklist=0123456789 --psm 11_15",
          "pytesseract_-l eng+grc -c tessedit_char_blacklist=0123456789 --psm 11_15",
          "pytesseract_-l eng+grc -c tessedit_char_blacklist=0123456789 --psm 11_15",
          "pytesseract_-l eng+grc -c tessedit_char_blacklist=0123456789 --psm 11_15",
          "pytesseract_-l eng+grc -c tessedit_char_blacklist=0123456789 --psm 11_15",
          "pytesseract_-l eng+grc -c tessedit_char_blacklist=0123456789 --psm 11_15",
          "pytesseract_-l eng+grc -c tessedit_char_blacklist=0123456789 --psm 11_15",
          "pytesseract_-l eng+grc -c tessedit_char_blacklist=0123456789 --psm 11_15",
          "pytesseract_-l eng+grc -c tessedit_char_blacklist=0123456789 --psm 11_15",
          "pytesseract_-l eng+grc -c tessedit_char_blacklist=0123456789 --psm 11_15",
          "pytesseract_-l eng+grc -c tessedit_char_blacklist=0123456789 --psm 11_15",
          "pytesseract_-l eng+grc -c tessedit_char_blacklist=0123456789 --psm 11_15",
          "pytesseract_-l eng+grc -c tessedit_char_blacklist=0123456789 --psm 11_15",
          "pytesseract_-l eng+grc -c tessedit_char_blacklist=0123456789 --psm 11_15",
          "pytesseract_-l eng+grc -c tessedit_char_blacklist=0123456789 --psm 11_15",
          "pytesseract_-l eng+grc -c tessedit_char_blacklist=0123456789 --psm 11_15",
          "pytesseract_-l eng+grc -c tessedit_char_blacklist=0123456789 --psm 11_15",
          "pytesseract_-l eng+grc -c tessedit_char_blacklist=0123456789 --psm 11_15",
          "pytesseract_-l eng+grc -c tessedit_char_blacklist=0123456789 --psm 11_15",
          "pytesseract_-l eng+grc -c tessedit_char_blacklist=0123456789 --psm 11_15",
          "pytesseract_-l eng+grc -c tessedit_char_blacklist=0123456789 --psm 11_15",
          "pytesseract_-l eng+grc -c tessedit_char_blacklist=0123456789 --psm 11_15",
          "pytesseract_-l eng+grc -c tessedit_char_blacklist=0123456789 --psm 11_15",
          "pytesseract_-l eng+grc -c tessedit_char_blacklist=0123456789 --psm 11_15",
          "pytesseract_-l eng+grc -c tessedit_char_blacklist=0123456789 --psm 11_15",
          "pytesseract_-l eng+grc -c tessedit_char_blacklist=0123456789 --psm 11_15",
          "pytesseract_-l eng+grc -c tessedit_char_blacklist=0123456789 --psm 11_15",
          "pytesseract_-l eng+grc -c tessedit_char_blacklist=0123456789 --psm 11_15",
          "pytesseract_-l eng+grc -c tessedit_char_blacklist=0123456789 --psm 11_15",
          "pytesseract_-l eng+grc -c tessedit_char_blacklist=0123456789 --psm 11_15",
          "pytesseract_-l eng+grc -c tessedit_char_blacklist=0123456789 --psm 11_15",
          "pytesseract_-l eng+grc -c tessedit_char_blacklist=0123456789 --psm 11_15",
          "pytesseract_-l eng+grc -c tessedit_char_blacklist=0123456789 --psm 11_15",
          "pytesseract_-l eng+grc -c tessedit_char_blacklist=0123456789 --psm 11_15",
          "pytesseract_-l eng+grc -c tessedit_char_blacklist=0123456789 --psm 11_15",
          "pytesseract_-l eng+grc -c tessedit_char_blacklist=0123456789 --psm 11_15",
          "pytesseract_-l eng+grc -c tessedit_char_blacklist=0123456789 --psm 11_15",
          "pytesseract_-l eng+grc -c tessedit_char_blacklist=0123456789 --psm 11_15",
          "pytesseract_-l eng+grc -c tessedit_char_blacklist=0123456789 --psm 11_15",
          "pytesseract_-l eng+grc -c tessedit_char_blacklist=0123456789 --psm 11_15",
          "pytesseract_-l eng+grc -c tessedit_char_blacklist=0123456789 --psm 11_15",
          "pytesseract_-l eng+grc -c tessedit_char_blacklist=0123456789 --psm 11_15",
          "pytesseract_-l eng+grc -c tessedit_char_blacklist=0123456789 --psm 11_15",
          "pytesseract_-l eng+grc -c tessedit_char_blacklist=0123456789 --psm 11_15",
          "pytesseract_-l eng+grc -c tessedit_char_blacklist=0123456789 --psm 11_15",
          "pytesseract_-l eng+grc -c tessedit_char_blacklist=0123456789 --psm 11_15",
          "pytesseract_-l eng+grc -c tessedit_char_blacklist=0123456789 --psm 11_15",
          "pytesseract_-l eng+grc -c tessedit_char_blacklist=0123456789 --psm 11_15",
          "pytesseract_-l eng+grc -c tessedit_char_blacklist=0123456789 --psm 11_15",
          "pytesseract_-l eng+grc -c tessedit_char_blacklist=0123456789 --psm 11_15",
          "pytesseract_-l eng+grc -c tessedit_char_blacklist=0123456789 --psm 11_15",
          "pytesseract_-l eng+grc -c tessedit_char_blacklist=0123456789 --psm 11_15",
          "pytesseract_-l eng+grc -c tessedit_char_blacklist=0123456789 --psm 11_15",
          "pytesseract_-l eng+grc -c tessedit_char_blacklist=0123456789 --psm 11_15",
          "pytesseract_-l eng+grc -c tessedit_char_blacklist=0123456789 --psm 11_15",
          "pytesseract_-l eng+grc -c tessedit_char_blacklist=0123456789 --psm 11_15",
          "pytesseract_-l eng+grc -c tessedit_char_blacklist=0123456789 --psm 11_15",
          "pytesseract_-l eng+grc -c tessedit_char_blacklist=0123456789 --psm 11_15",
          "pytesseract_-l eng+grc -c tessedit_char_blacklist=0123456789 --psm 11_15",
          "pytesseract_-l eng+grc -c tessedit_char_blacklist=0123456789 --psm 11_15",
          "pytesseract_-l eng+grc -c tessedit_char_blacklist=0123456789 --psm 11_15",
          "pytesseract_-l eng+grc -c tessedit_char_blacklist=0123456789 --psm 11_15",
          "pytesseract_-l eng+grc -c tessedit_char_blacklist=0123456789 --psm 11_15",
          "pytesseract_-l eng+grc -c tessedit_char_blacklist=0123456789 --psm 11_15",
          "pytesseract_-l eng+grc -c tessedit_char_blacklist=0123456789 --psm 11_15",
          "pytesseract_-l eng+grc -c tessedit_char_blacklist=0123456789 --psm 11_15",
          "pytesseract_-l eng+grc -c tessedit_char_blacklist=0123456789 --psm 11_15",
          "pytesseract_-l eng+grc -c tessedit_char_blacklist=0123456789 --psm 11_15",
          "pytesseract_-l eng+grc -c tessedit_char_blacklist=0123456789 --psm 11_15",
          "pytesseract_-l eng+grc -c tessedit_char_blacklist=0123456789 --psm 11_15",
          "pytesseract_-l eng+grc -c tessedit_char_blacklist=0123456789 --psm 11_15",
          "pytesseract_-l eng+grc -c tessedit_char_blacklist=0123456789 --psm 11_15",
          "pytesseract_-l eng+grc -c tessedit_char_blacklist=0123456789 --psm 11_15",
          "pytesseract_-l eng+grc -c tessedit_char_blacklist=0123456789 --psm 11_15",
          "pytesseract_-l eng+grc -c tessedit_char_blacklist=0123456789 --psm 11_15",
          "pytesseract_-l eng+grc -c tessedit_char_blacklist=0123456789 --psm 11_15",
          "pytesseract_-l eng+grc -c tessedit_char_blacklist=0123456789 --psm 11_15",
          "pytesseract_-l eng+grc -c tessedit_char_blacklist=0123456789 --psm 11_15",
          "pytesseract_-l eng+grc -c tessedit_char_blacklist=0123456789 --psm 11_15",
          "pytesseract_-l eng+grc -c tessedit_char_blacklist=0123456789 --psm 11_15",
          "pytesseract_-l eng+grc -c tessedit_char_blacklist=0123456789 --psm 11_15",
          "pytesseract_-l eng+grc -c tessedit_char_blacklist=0123456789 --psm 11_15",
          "pytesseract_-l eng+grc -c tessedit_char_blacklist=0123456789 --psm 11_15",
          "pytesseract_-l eng+grc -c tessedit_char_blacklist=0123456789 --psm 11_15",
          "pytesseract_-l eng+grc -c tessedit_char_blacklist=0123456789 --psm 11_15",
          "pytesseract_-l eng+grc -c tessedit_char_blacklist=0123456789 --psm 11_15",
          "pytesseract_-l eng+grc -c tessedit_char_blacklist=0123456789 --psm 11_15",
          "pytesseract_-l eng+grc -c tessedit_char_blacklist=0123456789 --psm 11_15",
          "pytesseract_-l eng+grc -c tessedit_char_blacklist=0123456789 --psm 11_15",
          "pytesseract_-l eng+grc -c tessedit_char_blacklist=0123456789 --psm 11_15",
          "pytesseract_-l eng+grc -c tessedit_char_blacklist=0123456789 --psm 11_15",
          "pytesseract_-l eng+grc -c tessedit_char_blacklist=0123456789 --psm 11_15",
          "pytesseract_-l eng+grc -c tessedit_char_blacklist=0123456789 --psm 11_15",
          "pytesseract_-l eng+grc -c tessedit_char_blacklist=0123456789 --psm 11_15",
          "pytesseract_-l eng+grc -c tessedit_char_blacklist=0123456789 --psm 11_15",
          "pytesseract_-l eng+grc -c tessedit_char_blacklist=0123456789 --psm 11_15",
          "pytesseract_-l eng+grc -c tessedit_char_blacklist=0123456789 --psm 11_15",
          "pytesseract_-l eng+grc -c tessedit_char_blacklist=0123456789 --psm 11_15",
          "pytesseract_-l eng+grc -c tessedit_char_blacklist=0123456789 --psm 11_15",
          "pytesseract_-l eng+grc -c tessedit_char_blacklist=0123456789 --psm 11_15",
          "pytesseract_-l eng+grc -c tessedit_char_blacklist=0123456789 --psm 11_15",
          "pytesseract_-l eng+grc -c tessedit_char_blacklist=0123456789 --psm 11_15",
          "pytesseract_-l eng+grc -c tessedit_char_blacklist=0123456789 --psm 11_15",
          "pytesseract_-l eng+grc -c tessedit_char_blacklist=0123456789 --psm 11_15",
          "pytesseract_-l eng+grc -c tessedit_char_blacklist=0123456789 --psm 11_15",
          "pytesseract_-l eng+grc -c tessedit_char_blacklist=0123456789 --psm 11_15",
          "pytesseract_-l eng+grc -c tessedit_char_blacklist=0123456789 --psm 11_15",
          "pytesseract_-l eng+grc -c tessedit_char_blacklist=0123456789 --psm 11_15",
          "pytesseract_-l eng+grc -c tessedit_char_blacklist=0123456789 --psm 11_15",
          "pytesseract_-l eng+grc -c tessedit_char_blacklist=0123456789 --psm 11_15",
          "pytesseract_-l eng+grc -c tessedit_char_blacklist=0123456789 --psm 11_15",
          "pytesseract_-l eng+grc -c tessedit_char_blacklist=0123456789 --psm 11_15",
          "pytesseract_-l eng+grc -c tessedit_char_blacklist=0123456789 --psm 11_15",
          "pytesseract_-l eng+grc -c tessedit_char_blacklist=0123456789 --psm 11_15",
          "pytesseract_-l eng+grc -c tessedit_char_blacklist=0123456789 --psm 11_15",
          "pytesseract_-l eng+grc -c tessedit_char_blacklist=0123456789 --psm 11_15",
          "pytesseract_-l eng+grc -c tessedit_char_blacklist=0123456789 --psm 11_15",
          "pytesseract_-l eng+grc -c tessedit_char_blacklist=0123456789 --psm 11_15",
          "pytesseract_-l eng+grc -c tessedit_char_blacklist=0123456789 --psm 11_15",
          "pytesseract_-l eng+grc -c tessedit_char_blacklist=0123456789 --psm 11_15",
          "pytesseract_-l eng+grc -c tessedit_char_blacklist=0123456789 --psm 11_15",
          "pytesseract_-l eng+grc -c tessedit_char_blacklist=0123456789 --psm 11_15",
          "pytesseract_-l eng+grc -c tessedit_char_blacklist=0123456789 --psm 11_15",
          "pytesseract_-l eng+grc -c tessedit_char_blacklist=0123456789 --psm 11_15",
          "pytesseract_-l eng+grc -c tessedit_char_blacklist=0123456789 --psm 11_15",
          "pytesseract_-l eng+grc -c tessedit_char_blacklist=0123456789 --psm 11_15",
          "pytesseract_-l eng+grc -c tessedit_char_blacklist=0123456789 --psm 11_15",
          "pytesseract_-l eng+grc -c tessedit_char_blacklist=0123456789 --psm 11_15",
          "pytesseract_-l eng+grc -c tessedit_char_blacklist=0123456789 --psm 11_15",
          "pytesseract_-l eng+grc -c tessedit_char_blacklist=0123456789 --psm 11_15",
          "pytesseract_-l eng+grc -c tessedit_char_blacklist=0123456789 --psm 11_15",
          "pytesseract_-l eng+grc -c tessedit_char_blacklist=0123456789 --psm 11_15",
          "pytesseract_-l eng+grc -c tessedit_char_blacklist=0123456789 --psm 11_15",
          "pytesseract_-l eng+grc -c tessedit_char_blacklist=0123456789 --psm 11_15",
          "pytesseract_-l eng+grc -c tessedit_char_blacklist=0123456789 --psm 11_15",
          "pytesseract_-l eng+grc -c tessedit_char_blacklist=0123456789 --psm 11_15",
          "pytesseract_-l eng+grc -c tessedit_char_blacklist=0123456789 --psm 11_15",
          "pytesseract_-l eng+grc -c tessedit_char_blacklist=0123456789 --psm 11_15",
          "pytesseract_-l eng+grc -c tessedit_char_blacklist=0123456789 --psm 11_15",
          "pytesseract_-l eng+grc -c tessedit_char_blacklist=0123456789 --psm 11_15",
          "pytesseract_-l eng+grc -c tessedit_char_blacklist=0123456789 --psm 11_15",
          "pytesseract_-l eng+grc -c tessedit_char_blacklist=0123456789 --psm 11_15",
          "pytesseract_-l eng+grc -c tessedit_char_blacklist=0123456789 --psm 11_15",
          "pytesseract_-l eng+grc -c tessedit_char_blacklist=0123456789 --psm 11_15",
          "pytesseract_-l eng+grc -c tessedit_char_blacklist=0123456789 --psm 11_15",
          "pytesseract_-l eng+grc -c tessedit_char_blacklist=0123456789 --psm 11_15",
          "pytesseract_-l eng+grc -c tessedit_char_blacklist=0123456789 --psm 11_15",
          "pytesseract_-l eng+grc -c tessedit_char_blacklist=0123456789 --psm 11_15",
          "pytesseract_-l eng+grc -c tessedit_char_blacklist=0123456789 --psm 11_15",
          "pytesseract_-l eng+grc -c tessedit_char_blacklist=0123456789 --psm 11_15",
          "pytesseract_-l eng+grc -c tessedit_char_blacklist=0123456789 --psm 11_15",
          "pytesseract_-l eng+grc -c tessedit_char_blacklist=0123456789 --psm 11_15",
          "pytesseract_-l eng+grc -c tessedit_char_blacklist=0123456789 --psm 11_15",
          "pytesseract_-l eng+grc -c tessedit_char_blacklist=0123456789 --psm 11_15",
          "pytesseract_-l eng+grc -c tessedit_char_blacklist=0123456789 --psm 11_15",
          "pytesseract_-l eng+grc -c tessedit_char_blacklist=0123456789 --psm 11_15",
          "pytesseract_-l eng+grc -c tessedit_char_blacklist=0123456789 --psm 11_15",
          "pytesseract_-l eng+grc -c tessedit_char_blacklist=0123456789 --psm 11_15",
          "pytesseract_-l eng+grc -c tessedit_char_blacklist=0123456789 --psm 11_15",
          "pytesseract_-l eng+grc -c tessedit_char_blacklist=0123456789 --psm 11_15",
          "pytesseract_-l eng+grc -c tessedit_char_blacklist=0123456789 --psm 11_15",
          "pytesseract_-l eng+grc -c tessedit_char_blacklist=0123456789 --psm 11_15",
          "pytesseract_-l eng+grc -c tessedit_char_blacklist=0123456789 --psm 11_15",
          "pytesseract_-l eng+grc -c tessedit_char_blacklist=0123456789 --psm 11_15",
          "pytesseract_-l eng+grc -c tessedit_char_blacklist=0123456789 --psm 11_15",
          "pytesseract_-l eng+grc -c tessedit_char_blacklist=0123456789 --psm 11_15",
          "pytesseract_-l eng+grc -c tessedit_char_blacklist=0123456789 --psm 11_15",
          "pytesseract_-l eng+grc -c tessedit_char_blacklist=0123456789 --psm 11_15",
          "pytesseract_-l eng+grc -c tessedit_char_blacklist=0123456789 --psm 11_15",
          "pytesseract_-l eng+grc -c tessedit_char_blacklist=0123456789 --psm 11_15",
          "pytesseract_-l eng+grc -c tessedit_char_blacklist=0123456789 --psm 11_15",
          "pytesseract_-l eng+grc -c tessedit_char_blacklist=0123456789 --psm 11_15",
          "pytesseract_-l eng+grc -c tessedit_char_blacklist=0123456789 --psm 11_15",
          "pytesseract_-l eng+grc -c tessedit_char_blacklist=0123456789 --psm 11_15",
          "pytesseract_-l eng+grc -c tessedit_char_blacklist=0123456789 --psm 11_15",
          "pytesseract_-l eng+grc -c tessedit_char_blacklist=0123456789 --psm 11_15",
          "pytesseract_-l eng+grc -c tessedit_char_blacklist=0123456789 --psm 11_15",
          "pytesseract_-l eng+grc -c tessedit_char_blacklist=0123456789 --psm 11_15",
          "pytesseract_-l eng+grc -c tessedit_char_blacklist=0123456789 --psm 11_15",
          "pytesseract_-l eng+grc -c tessedit_char_blacklist=0123456789 --psm 11_15",
          "pytesseract_-l eng+grc -c tessedit_char_blacklist=0123456789 --psm 11_15",
          "pytesseract_-l eng+grc -c tessedit_char_blacklist=0123456789 --psm 11_15",
          "pytesseract_-l eng+grc -c tessedit_char_blacklist=0123456789 --psm 11_15",
          "pytesseract_-l eng+grc -c tessedit_char_blacklist=0123456789 --psm 11_15",
          "pytesseract_-l eng+grc -c tessedit_char_blacklist=0123456789 --psm 11_15",
          "pytesseract_-l eng+grc -c tessedit_char_blacklist=0123456789 --psm 11_15",
          "pytesseract_-l eng+grc -c tessedit_char_blacklist=0123456789 --psm 11_15",
          "pytesseract_-l eng+grc -c tessedit_char_blacklist=0123456789 --psm 11_15",
          "pytesseract_-l eng+grc -c tessedit_char_blacklist=0123456789 --psm 11_15",
          "pytesseract_-l eng+grc -c tessedit_char_blacklist=0123456789 --psm 11_15",
          "pytesseract_-l eng+grc -c tessedit_char_blacklist=0123456789 --psm 11_15",
          "pytesseract_-l eng+grc -c tessedit_char_blacklist=0123456789 --psm 11_15",
          "pytesseract_-l eng+grc -c tessedit_char_blacklist=0123456789 --psm 11_15",
          "pytesseract_-l eng+grc -c tessedit_char_blacklist=0123456789 --psm 11_15",
          "pytesseract_-l eng+grc -c tessedit_char_blacklist=0123456789 --psm 11_15",
          "pytesseract_-l eng+grc -c tessedit_char_blacklist=0123456789 --psm 11_15",
          "pytesseract_-l eng+grc -c tessedit_char_blacklist=0123456789 --psm 11_15",
          "pytesseract_-l eng+grc -c tessedit_char_blacklist=0123456789 --psm 11_15",
          "pytesseract_-l eng+grc -c tessedit_char_blacklist=0123456789 --psm 11_15",
          "pytesseract_-l eng+grc -c tessedit_char_blacklist=0123456789 --psm 11_15",
          "pytesseract_-l eng+grc -c tessedit_char_blacklist=0123456789 --psm 11_15",
          "pytesseract_-l eng+grc -c tessedit_char_blacklist=0123456789 --psm 11_15",
          "pytesseract_-l eng+grc -c tessedit_char_blacklist=0123456789 --psm 11_15",
          "pytesseract_-l eng+grc -c tessedit_char_blacklist=0123456789 --psm 11_15",
          "pytesseract_-l eng+grc -c tessedit_char_blacklist=0123456789 --psm 11_15",
          "pytesseract_-l eng+grc -c tessedit_char_blacklist=0123456789 --psm 11_15",
          "pytesseract_-l eng+grc -c tessedit_char_blacklist=0123456789 --psm 11_15",
          "pytesseract_-l eng+grc -c tessedit_char_blacklist=0123456789 --psm 11_15",
          "pytesseract_-l eng+grc -c tessedit_char_blacklist=0123456789 --psm 11_15",
          "pytesseract_-l eng+grc -c tessedit_char_blacklist=0123456789 --psm 11_15",
          "pytesseract_-l eng+grc -c tessedit_char_blacklist=0123456789 --psm 11_15",
          "pytesseract_-l eng+grc -c tessedit_char_blacklist=0123456789 --psm 11_15",
          "pytesseract_-l eng+grc -c tessedit_char_blacklist=0123456789 --psm 11_15",
          "pytesseract_-l eng+grc -c tessedit_char_blacklist=0123456789 --psm 11_15",
          "pytesseract_-l eng+grc -c tessedit_char_blacklist=0123456789 --psm 11_15",
          "pytesseract_-l eng+grc -c tessedit_char_blacklist=0123456789 --psm 11_15",
          "pytesseract_-l eng+grc -c tessedit_char_blacklist=0123456789 --psm 11_15",
          "pytesseract_-l eng+grc -c tessedit_char_blacklist=0123456789 --psm 11_15",
          "pytesseract_-l eng+grc -c tessedit_char_blacklist=0123456789 --psm 11_15",
          "pytesseract_-l eng+grc -c tessedit_char_blacklist=0123456789 --psm 11_15",
          "pytesseract_-l eng+grc -c tessedit_char_blacklist=0123456789 --psm 11_15",
          "pytesseract_-l eng+grc -c tessedit_char_blacklist=0123456789 --psm 11_15",
          "pytesseract_-l eng+grc -c tessedit_char_blacklist=0123456789 --psm 11_15",
          "pytesseract_-l eng+grc -c tessedit_char_blacklist=0123456789 --psm 11_15",
          "pytesseract_-l eng+grc -c tessedit_char_blacklist=0123456789 --psm 11_15",
          "pytesseract_-l eng+grc -c tessedit_char_blacklist=0123456789 --psm 11_15",
          "pytesseract_-l eng+grc -c tessedit_char_blacklist=0123456789 --psm 11_15",
          "pytesseract_-l eng+grc -c tessedit_char_blacklist=0123456789 --psm 11_15",
          "pytesseract_-l eng+grc -c tessedit_char_blacklist=0123456789 --psm 11_15",
          "pytesseract_-l eng+grc -c tessedit_char_blacklist=0123456789 --psm 11_15",
          "pytesseract_-l eng+grc -c tessedit_char_blacklist=0123456789 --psm 11_15",
          "pytesseract_-l eng+grc -c tessedit_char_blacklist=0123456789 --psm 11_15",
          "pytesseract_-l eng+grc -c tessedit_char_blacklist=0123456789 --psm 11_15",
          "pytesseract_-l eng+grc -c tessedit_char_blacklist=0123456789 --psm 11_15",
          "pytesseract_-l eng+grc -c tessedit_char_blacklist=0123456789 --psm 11_15",
          "pytesseract_-l eng+grc -c tessedit_char_blacklist=0123456789 --psm 11_15",
          "pytesseract_-l eng+grc -c tessedit_char_blacklist=0123456789 --psm 11_15",
          "pytesseract_-l eng+grc -c tessedit_char_blacklist=0123456789 --psm 11_15",
          "pytesseract_-l eng+grc -c tessedit_char_blacklist=0123456789 --psm 11_15",
          "pytesseract_-l eng+grc -c tessedit_char_blacklist=0123456789 --psm 11_15",
          "pytesseract_-l eng+grc -c tessedit_char_blacklist=0123456789 --psm 11_15",
          "pytesseract_-l eng+grc -c tessedit_char_blacklist=0123456789 --psm 11_15",
          "pytesseract_-l eng+grc -c tessedit_char_blacklist=0123456789 --psm 11_15",
          "pytesseract_-l eng+grc -c tessedit_char_blacklist=0123456789 --psm 11_15",
          "pytesseract_-l eng+grc -c tessedit_char_blacklist=0123456789 --psm 11_15",
          "pytesseract_-l eng+grc -c tessedit_char_blacklist=0123456789 --psm 11_15",
          "pytesseract_-l eng+grc -c tessedit_char_blacklist=0123456789 --psm 11_15",
          "pytesseract_-l eng+grc -c tessedit_char_blacklist=0123456789 --psm 11_15",
          "pytesseract_-l eng+grc -c tessedit_char_blacklist=0123456789 --psm 11_15",
          "pytesseract_-l eng+grc -c tessedit_char_blacklist=0123456789 --psm 11_15",
          "pytesseract_-l eng+grc -c tessedit_char_blacklist=0123456789 --psm 11_15",
          "pytesseract_-l eng+grc -c tessedit_char_blacklist=0123456789 --psm 11_15",
          "pytesseract_-l eng+grc -c tessedit_char_blacklist=0123456789 --psm 11_15",
          "pytesseract_-l eng+grc -c tessedit_char_blacklist=0123456789 --psm 11_15",
          "pytesseract_-l eng+grc -c tessedit_char_blacklist=0123456789 --psm 11_15",
          "pytesseract_-l eng+grc -c tessedit_char_blacklist=0123456789 --psm 11_15",
          "pytesseract_-l eng+grc -c tessedit_char_blacklist=0123456789 --psm 11_15",
          "pytesseract_-l eng+grc -c tessedit_char_blacklist=0123456789 --psm 11_15",
          "pytesseract_-l eng+grc -c tessedit_char_blacklist=0123456789 --psm 11_15",
          "pytesseract_-l eng+grc -c tessedit_char_blacklist=0123456789 --psm 11_15",
          "pytesseract_-l eng+grc -c tessedit_char_blacklist=0123456789 --psm 11_15",
          "pytesseract_-l eng+grc -c tessedit_char_blacklist=0123456789 --psm 11_15",
          "pytesseract_-l eng+grc -c tessedit_char_blacklist=0123456789 --psm 11_15",
          "pytesseract_-l eng+grc -c tessedit_char_blacklist=0123456789 --psm 11_15",
          "pytesseract_-l eng+grc -c tessedit_char_blacklist=0123456789 --psm 11_15",
          "pytesseract_-l eng+grc -c tessedit_char_blacklist=0123456789 --psm 11_15",
          "pytesseract_-l eng+grc -c tessedit_char_blacklist=0123456789 --psm 11_15",
          "pytesseract_-l eng+grc -c tessedit_char_blacklist=0123456789 --psm 11_15",
          "pytesseract_-l eng+grc -c tessedit_char_blacklist=0123456789 --psm 11_15",
          "pytesseract_-l eng+grc -c tessedit_char_blacklist=0123456789 --psm 11_15",
          "pytesseract_-l eng+grc -c tessedit_char_blacklist=0123456789 --psm 11_15",
          "pytesseract_-l eng+grc -c tessedit_char_blacklist=0123456789 --psm 11_15",
          "pytesseract_-l eng+grc -c tessedit_char_blacklist=0123456789 --psm 11_15",
          "pytesseract_-l eng+grc -c tessedit_char_blacklist=0123456789 --psm 11_15",
          "pytesseract_-l eng+grc -c tessedit_char_blacklist=0123456789 --psm 11_15",
          "pytesseract_-l eng+grc -c tessedit_char_blacklist=0123456789 --psm 11_15",
          "pytesseract_-l eng+grc -c tessedit_char_blacklist=0123456789 --psm 11_15",
          "pytesseract_-l eng+grc -c tessedit_char_blacklist=0123456789 --psm 11_15",
          "pytesseract_-l eng+grc -c tessedit_char_blacklist=0123456789 --psm 11_15",
          "pytesseract_-l eng+grc -c tessedit_char_blacklist=0123456789 --psm 11_15",
          "pytesseract_-l eng+grc -c tessedit_char_blacklist=0123456789 --psm 11_15",
          "pytesseract_-l eng+grc -c tessedit_char_blacklist=0123456789 --psm 11_15",
          "pytesseract_-l eng+grc -c tessedit_char_blacklist=0123456789 --psm 11_15",
          "pytesseract_-l eng+grc -c tessedit_char_blacklist=0123456789 --psm 11_15",
          "pytesseract_-l eng+grc -c tessedit_char_blacklist=0123456789 --psm 11_15",
          "pytesseract_-l eng+grc -c tessedit_char_blacklist=0123456789 --psm 11_15",
          "pytesseract_-l eng+grc -c tessedit_char_blacklist=0123456789 --psm 11_15",
          "pytesseract_-l eng+grc -c tessedit_char_blacklist=0123456789 --psm 11_15",
          "pytesseract_-l eng+grc -c tessedit_char_blacklist=0123456789 --psm 11_15",
          "pytesseract_-l eng+grc -c tessedit_char_blacklist=0123456789 --psm 11_15",
          "pytesseract_-l eng+grc -c tessedit_char_blacklist=0123456789 --psm 11_15",
          "pytesseract_-l eng+grc -c tessedit_char_blacklist=0123456789 --psm 11_15",
          "pytesseract_-l eng+grc -c tessedit_char_blacklist=0123456789 --psm 11_15",
          "pytesseract_-l eng+grc -c tessedit_char_blacklist=0123456789 --psm 11_15",
          "pytesseract_-l eng+grc -c tessedit_char_blacklist=0123456789 --psm 11_15",
          "pytesseract_-l eng+grc -c tessedit_char_blacklist=0123456789 --psm 11_15",
          "pytesseract_-l eng+grc -c tessedit_char_blacklist=0123456789 --psm 11_15",
          "pytesseract_-l eng+grc -c tessedit_char_blacklist=0123456789 --psm 11_15",
          "pytesseract_-l eng+grc -c tessedit_char_blacklist=0123456789 --psm 11_15",
          "pytesseract_-l eng+grc -c tessedit_char_blacklist=0123456789 --psm 11_15",
          "pytesseract_-l eng+grc -c tessedit_char_blacklist=0123456789 --psm 11_15",
          "pytesseract_-l eng+grc -c tessedit_char_blacklist=0123456789 --psm 11_15",
          "pytesseract_-l eng+grc -c tessedit_char_blacklist=0123456789 --psm 11_15",
          "pytesseract_-l eng+grc -c tessedit_char_blacklist=0123456789 --psm 11_15",
          "pytesseract_-l eng+grc -c tessedit_char_blacklist=0123456789 --psm 11_15",
          "pytesseract_-l eng+grc -c tessedit_char_blacklist=0123456789 --psm 11_15",
          "pytesseract_-l eng+grc -c tessedit_char_blacklist=0123456789 --psm 11_15",
          "pytesseract_-l eng+grc -c tessedit_char_blacklist=0123456789 --psm 11_15",
          "pytesseract_-l eng+grc -c tessedit_char_blacklist=0123456789 --psm 11_15",
          "pytesseract_-l eng+grc -c tessedit_char_blacklist=0123456789 --psm 11_15",
          "pytesseract_-l eng+grc -c tessedit_char_blacklist=0123456789 --psm 11_15",
          "pytesseract_-l eng+grc -c tessedit_char_blacklist=0123456789 --psm 11_15",
          "pytesseract_-l eng+grc -c tessedit_char_blacklist=0123456789 --psm 11_15",
          "pytesseract_-l eng+grc -c tessedit_char_blacklist=0123456789 --psm 11_15",
          "pytesseract_-l eng+grc -c tessedit_char_blacklist=0123456789 --psm 11_15",
          "pytesseract_-l eng+grc -c tessedit_char_blacklist=0123456789 --psm 11_15",
          "pytesseract_-l eng+grc -c tessedit_char_blacklist=0123456789 --psm 11_15",
          "pytesseract_-l eng+grc -c tessedit_char_blacklist=0123456789 --psm 11_15",
          "pytesseract_-l eng+grc -c tessedit_char_blacklist=0123456789 --psm 11_15",
          "pytesseract_-l eng+grc -c tessedit_char_blacklist=0123456789 --psm 11_15",
          "pytesseract_-l eng+grc -c tessedit_char_blacklist=0123456789 --psm 11_15",
          "pytesseract_-l eng+grc -c tessedit_char_blacklist=0123456789 --psm 11_15",
          "pytesseract_-l eng+grc -c tessedit_char_blacklist=0123456789 --psm 11_15",
          "pytesseract_-l eng+grc -c tessedit_char_blacklist=0123456789 --psm 11_15",
          "pytesseract_-l eng+grc -c tessedit_char_blacklist=0123456789 --psm 11_15",
          "pytesseract_-l eng+grc -c tessedit_char_blacklist=0123456789 --psm 11_15",
          "pytesseract_-l eng+grc -c tessedit_char_blacklist=0123456789 --psm 11_15",
          "pytesseract_-l eng+grc -c tessedit_char_blacklist=0123456789 --psm 11_15",
          "pytesseract_-l eng+grc -c tessedit_char_blacklist=0123456789 --psm 11_15",
          "pytesseract_-l eng+grc -c tessedit_char_blacklist=0123456789 --psm 11_15",
          "pytesseract_-l eng+grc -c tessedit_char_blacklist=0123456789 --psm 11_15",
          "pytesseract_-l eng+grc -c tessedit_char_blacklist=0123456789 --psm 11_15",
          "pytesseract_-l eng+grc -c tessedit_char_blacklist=0123456789 --psm 11_15",
          "pytesseract_-l eng+grc -c tessedit_char_blacklist=0123456789 --psm 11_15",
          "pytesseract_-l eng+grc -c tessedit_char_blacklist=0123456789 --psm 11_15",
          "pytesseract_-l eng+grc -c tessedit_char_blacklist=0123456789 --psm 11_15",
          "pytesseract_-l eng+grc -c tessedit_char_blacklist=0123456789 --psm 11_15",
          "pytesseract_-l eng+grc -c tessedit_char_blacklist=0123456789 --psm 11_15",
          "pytesseract_-l eng+grc -c tessedit_char_blacklist=0123456789 --psm 11_15",
          "pytesseract_-l eng+grc -c tessedit_char_blacklist=0123456789 --psm 11_15",
          "pytesseract_-l eng+grc -c tessedit_char_blacklist=0123456789 --psm 11_15",
          "pytesseract_-l eng+grc -c tessedit_char_blacklist=0123456789 --psm 11_15",
          "pytesseract_-l eng+grc -c tessedit_char_blacklist=0123456789 --psm 11_15",
          "pytesseract_-l eng+grc -c tessedit_char_blacklist=0123456789 --psm 11_15",
          "pytesseract_-l eng+grc -c tessedit_char_blacklist=0123456789 --psm 11_15",
          "pytesseract_-l eng+grc -c tessedit_char_blacklist=0123456789 --psm 11_15",
          "pytesseract_-l eng+grc -c tessedit_char_blacklist=0123456789 --psm 11_15",
          "pytesseract_-l eng+grc -c tessedit_char_blacklist=0123456789 --psm 11_15",
          "pytesseract_-l eng+grc -c tessedit_char_blacklist=0123456789 --psm 11_15",
          "pytesseract_-l eng+grc -c tessedit_char_blacklist=0123456789 --psm 11_15",
          "pytesseract_-l eng+grc -c tessedit_char_blacklist=0123456789 --psm 11_15",
          "pytesseract_-l eng+grc -c tessedit_char_blacklist=0123456789 --psm 11_15",
          "pytesseract_-l eng+grc -c tessedit_char_blacklist=0123456789 --psm 11_15",
          "pytesseract_-l eng+grc -c tessedit_char_blacklist=0123456789 --psm 11_15",
          "pytesseract_-l eng+grc -c tessedit_char_blacklist=0123456789 --psm 11_15",
          "pytesseract_-l eng+grc -c tessedit_char_blacklist=0123456789 --psm 11_15",
          "pytesseract_-l eng+grc -c tessedit_char_blacklist=0123456789 --psm 11_15",
          "pytesseract_-l eng+grc -c tessedit_char_blacklist=0123456789 --psm 11_15",
          "pytesseract_-l eng+grc -c tessedit_char_blacklist=0123456789 --psm 11_15",
          "pytesseract_-l eng+grc -c tessedit_char_blacklist=0123456789 --psm 11_15",
          "pytesseract_-l eng+grc -c tessedit_char_blacklist=0123456789 --psm 11_15",
          "pytesseract_-l eng+grc -c tessedit_char_blacklist=0123456789 --psm 11_15",
          "pytesseract_-l eng+grc -c tessedit_char_blacklist=0123456789 --psm 11_15",
          "pytesseract_-l eng+grc -c tessedit_char_blacklist=0123456789 --psm 11_15",
          "pytesseract_-l eng+grc -c tessedit_char_blacklist=0123456789 --psm 11_15",
          "pytesseract_-l eng+grc -c tessedit_char_blacklist=0123456789 --psm 11_15",
          "pytesseract_-l eng+grc -c tessedit_char_blacklist=0123456789 --psm 11_15",
          "pytesseract_-l eng+grc -c tessedit_char_blacklist=0123456789 --psm 11_15",
          "pytesseract_-l eng+grc -c tessedit_char_blacklist=0123456789 --psm 11_15",
          "pytesseract_-l eng+grc -c tessedit_char_blacklist=0123456789 --psm 11_15",
          "pytesseract_-l eng+grc -c tessedit_char_blacklist=0123456789 --psm 11_15",
          "pytesseract_-l eng+grc -c tessedit_char_blacklist=0123456789 --psm 11_15",
          "pytesseract_-l eng+grc -c tessedit_char_blacklist=0123456789 --psm 11_15",
          "pytesseract_-l eng+grc -c tessedit_char_blacklist=0123456789 --psm 11_15",
          "pytesseract_-l eng+grc -c tessedit_char_blacklist=0123456789 --psm 11_15",
          "pytesseract_-l eng+grc -c tessedit_char_blacklist=0123456789 --psm 11_15",
          "pytesseract_-l eng+grc -c tessedit_char_blacklist=0123456789 --psm 11_15",
          "pytesseract_-l eng+grc -c tessedit_char_blacklist=0123456789 --psm 11_15",
          "pytesseract_-l eng+grc -c tessedit_char_blacklist=0123456789 --psm 11_15",
          "pytesseract_-l eng+grc -c tessedit_char_blacklist=0123456789 --psm 11_15",
          "pytesseract_-l eng+grc -c tessedit_char_blacklist=0123456789 --psm 11_15",
          "pytesseract_-l eng+grc -c tessedit_char_blacklist=0123456789 --psm 11_15",
          "pytesseract_-l eng+grc -c tessedit_char_blacklist=0123456789 --psm 11_15",
          "pytesseract_-l eng+grc -c tessedit_char_blacklist=0123456789 --psm 11_15",
          "pytesseract_-l eng+grc -c tessedit_char_blacklist=0123456789 --psm 11_15",
          "pytesseract_-l eng+grc -c tessedit_char_blacklist=0123456789 --psm 11_15",
          "pytesseract_-l eng+grc -c tessedit_char_blacklist=0123456789 --psm 11_15",
          "pytesseract_-l eng+grc -c tessedit_char_blacklist=0123456789 --psm 11_15",
          "pytesseract_-l eng+grc -c tessedit_char_blacklist=0123456789 --psm 11_15",
          "pytesseract_-l eng+grc -c tessedit_char_blacklist=0123456789 --psm 11_15",
          "pytesseract_-l eng+grc -c tessedit_char_blacklist=0123456789 --psm 11_15",
          "pytesseract_-l eng+grc -c tessedit_char_blacklist=0123456789 --psm 11_15",
          "pytesseract_-l eng+grc -c tessedit_char_blacklist=0123456789 --psm 11_15",
          "pytesseract_-l eng+grc -c tessedit_char_blacklist=0123456789 --psm 11_15",
          "pytesseract_-l eng+grc -c tessedit_char_blacklist=0123456789 --psm 11_15",
          "pytesseract_-l eng+grc -c tessedit_char_blacklist=0123456789 --psm 11_15",
          "pytesseract_-l eng+grc -c tessedit_char_blacklist=0123456789 --psm 11_15",
          "pytesseract_-l eng+grc -c tessedit_char_blacklist=0123456789 --psm 11_15",
          "pytesseract_-l eng+grc -c tessedit_char_blacklist=0123456789 --psm 11_15",
          "pytesseract_-l eng+grc -c tessedit_char_blacklist=0123456789 --psm 11_15",
          "pytesseract_-l eng+grc -c tessedit_char_blacklist=0123456789 --psm 11_15",
          "pytesseract_-l eng+grc -c tessedit_char_blacklist=0123456789 --psm 11_15",
          "pytesseract_-l eng+grc -c tessedit_char_blacklist=0123456789 --psm 11_15",
          "pytesseract_-l eng+grc -c tessedit_char_blacklist=0123456789 --psm 11_15",
          "pytesseract_-l eng+grc -c tessedit_char_blacklist=0123456789 --psm 11_15",
          "pytesseract_-l eng+grc -c tessedit_char_blacklist=0123456789 --psm 11_15",
          "pytesseract_-l eng+grc -c tessedit_char_blacklist=0123456789 --psm 11_15",
          "pytesseract_-l eng+grc -c tessedit_char_blacklist=0123456789 --psm 11_15",
          "pytesseract_-l eng+grc -c tessedit_char_blacklist=0123456789 --psm 11_15",
          "pytesseract_-l eng+grc -c tessedit_char_blacklist=0123456789 --psm 11_15",
          "pytesseract_-l eng+grc -c tessedit_char_blacklist=0123456789 --psm 11_15",
          "pytesseract_-l eng+grc -c tessedit_char_blacklist=0123456789 --psm 11_15",
          "pytesseract_-l eng+grc -c tessedit_char_blacklist=0123456789 --psm 11_15",
          "pytesseract_-l eng+grc -c tessedit_char_blacklist=0123456789 --psm 11_15",
          "pytesseract_-l eng+grc -c tessedit_char_blacklist=0123456789 --psm 11_15",
          "pytesseract_-l eng+grc -c tessedit_char_blacklist=0123456789 --psm 11_15",
          "pytesseract_-l eng+grc -c tessedit_char_blacklist=0123456789 --psm 11_15",
          "pytesseract_-l eng+grc -c tessedit_char_blacklist=0123456789 --psm 11_15",
          "pytesseract_-l eng+grc -c tessedit_char_blacklist=0123456789 --psm 11_15",
          "pytesseract_-l eng+grc -c tessedit_char_blacklist=0123456789 --psm 11_15",
          "pytesseract_-l eng+grc -c tessedit_char_blacklist=0123456789 --psm 11_15",
          "pytesseract_-l eng+grc -c tessedit_char_blacklist=0123456789 --psm 11_15",
          "pytesseract_-l eng+grc -c tessedit_char_blacklist=0123456789 --psm 11_15",
          "pytesseract_-l eng+grc -c tessedit_char_blacklist=0123456789 --psm 11_15",
          "pytesseract_-l eng+grc -c tessedit_char_blacklist=0123456789 --psm 11_15",
          "pytesseract_-l eng+grc -c tessedit_char_blacklist=0123456789 --psm 11_15",
          "pytesseract_-l eng+grc -c tessedit_char_blacklist=0123456789 --psm 11_15",
          "pytesseract_-l eng+grc -c tessedit_char_blacklist=0123456789 --psm 11_15",
          "pytesseract_-l eng+grc -c tessedit_char_blacklist=0123456789 --psm 11_15",
          "pytesseract_-l eng+grc -c tessedit_char_blacklist=0123456789 --psm 11_15",
          "pytesseract_-l eng+grc -c tessedit_char_blacklist=0123456789 --psm 11_15",
          "pytesseract_-l eng+grc -c tessedit_char_blacklist=0123456789 --psm 11_15",
          "pytesseract_-l eng+grc -c tessedit_char_blacklist=0123456789 --psm 11_15",
          "pytesseract_-l eng+grc -c tessedit_char_blacklist=0123456789 --psm 11_15",
          "pytesseract_-l eng+grc -c tessedit_char_blacklist=0123456789 --psm 11_15",
          "pytesseract_-l eng+grc -c tessedit_char_blacklist=0123456789 --psm 11_15",
          "pytesseract_-l eng+grc -c tessedit_char_blacklist=0123456789 --psm 11_15",
          "pytesseract_-l eng+grc -c tessedit_char_blacklist=0123456789 --psm 11_15",
          "pytesseract_-l eng+grc -c tessedit_char_blacklist=0123456789 --psm 11_15",
          "pytesseract_-l eng+grc -c tessedit_char_blacklist=0123456789 --psm 11_15",
          "pytesseract_-l eng+grc -c tessedit_char_blacklist=0123456789 --psm 11_15",
          "pytesseract_-l eng+grc -c tessedit_char_blacklist=0123456789 --psm 11_15",
          "pytesseract_-l eng+grc -c tessedit_char_blacklist=0123456789 --psm 11_15",
          "pytesseract_-l eng+grc -c tessedit_char_blacklist=0123456789 --psm 11_15",
          "pytesseract_-l eng+grc -c tessedit_char_blacklist=0123456789 --psm 11_15",
          "pytesseract_-l eng+grc -c tessedit_char_blacklist=0123456789 --psm 11_15",
          "pytesseract_-l eng+grc -c tessedit_char_blacklist=0123456789 --psm 11_15",
          "pytesseract_-l eng+grc -c tessedit_char_blacklist=0123456789 --psm 11_15",
          "pytesseract_-l eng+grc -c tessedit_char_blacklist=0123456789 --psm 11_15",
          "pytesseract_-l eng+grc -c tessedit_char_blacklist=0123456789 --psm 11_15",
          "pytesseract_-l eng+grc -c tessedit_char_blacklist=0123456789 --psm 11_15",
          "pytesseract_-l eng+grc -c tessedit_char_blacklist=0123456789 --psm 11_15",
          "pytesseract_-l eng+grc -c tessedit_char_blacklist=0123456789 --psm 11_15",
          "pytesseract_-l eng+grc -c tessedit_char_blacklist=0123456789 --psm 11_15",
          "pytesseract_-l eng+grc -c tessedit_char_blacklist=0123456789 --psm 11_15",
          "pytesseract_-l eng+grc -c tessedit_char_blacklist=0123456789 --psm 11_15",
          "pytesseract_-l eng+grc -c tessedit_char_blacklist=0123456789 --psm 11_15",
          "pytesseract_-l eng+grc -c tessedit_char_blacklist=0123456789 --psm 11_15",
          "pytesseract_-l eng+grc -c tessedit_char_blacklist=0123456789 --psm 11_15",
          "pytesseract_-l eng+grc -c tessedit_char_blacklist=0123456789 --psm 11_15",
          "pytesseract_-l eng+grc -c tessedit_char_blacklist=0123456789 --psm 11_15",
          "pytesseract_-l eng+grc -c tessedit_char_blacklist=0123456789 --psm 11_15",
          "pytesseract_-l eng+grc -c tessedit_char_blacklist=0123456789 --psm 11_15",
          "pytesseract_-l eng+grc -c tessedit_char_blacklist=0123456789 --psm 11_15",
          "pytesseract_-l eng+grc -c tessedit_char_blacklist=0123456789 --psm 11_15",
          "pytesseract_-l eng+grc -c tessedit_char_blacklist=0123456789 --psm 11_15",
          "pytesseract_-l eng+grc -c tessedit_char_blacklist=0123456789 --psm 11_15",
          "pytesseract_-l eng+grc -c tessedit_char_blacklist=0123456789 --psm 11_15",
          "pytesseract_-l eng+grc -c tessedit_char_blacklist=0123456789 --psm 11_15",
          "pytesseract_-l eng+grc -c tessedit_char_blacklist=0123456789 --psm 11_15",
          "pytesseract_-l eng+grc -c tessedit_char_blacklist=0123456789 --psm 11_15",
          "pytesseract_-l eng+grc -c tessedit_char_blacklist=0123456789 --psm 11_15",
          "pytesseract_-l eng+grc -c tessedit_char_blacklist=0123456789 --psm 11_15",
          "pytesseract_-l eng+grc -c tessedit_char_blacklist=0123456789 --psm 11_15",
          "pytesseract_-l eng+grc -c tessedit_char_blacklist=0123456789 --psm 11_15",
          "pytesseract_-l eng+grc -c tessedit_char_blacklist=0123456789 --psm 11_15",
          "pytesseract_-l eng+grc -c tessedit_char_blacklist=0123456789 --psm 11_15",
          "pytesseract_-l eng+grc -c tessedit_char_blacklist=0123456789 --psm 11_15",
          "pytesseract_-l eng+grc -c tessedit_char_blacklist=0123456789 --psm 11_15",
          "pytesseract_-l eng+grc -c tessedit_char_blacklist=0123456789 --psm 11_15",
          "pytesseract_-l eng+grc -c tessedit_char_blacklist=0123456789 --psm 11_15",
          "pytesseract_-l eng+grc -c tessedit_char_blacklist=0123456789 --psm 11_15",
          "pytesseract_-l eng+grc -c tessedit_char_blacklist=0123456789 --psm 11_15",
          "pytesseract_-l eng+grc -c tessedit_char_blacklist=0123456789 --psm 11_15",
          "pytesseract_-l eng+grc -c tessedit_char_blacklist=0123456789 --psm 11_15",
          "pytesseract_-l eng+grc -c tessedit_char_blacklist=0123456789 --psm 11_15",
          "pytesseract_-l eng+grc -c tessedit_char_blacklist=0123456789 --psm 11_15",
          "pytesseract_-l eng+grc -c tessedit_char_blacklist=0123456789 --psm 11_15",
          "pytesseract_-l eng+grc -c tessedit_char_blacklist=0123456789 --psm 11_15",
          "pytesseract_-l eng+grc -c tessedit_char_blacklist=0123456789 --psm 11_15",
          "pytesseract_-l eng+grc -c tessedit_char_blacklist=0123456789 --psm 11_15",
          "pytesseract_-l eng+grc -c tessedit_char_blacklist=0123456789 --psm 11_15",
          "pytesseract_-l eng+grc -c tessedit_char_blacklist=0123456789 --psm 11_15",
          "pytesseract_-l eng+grc -c tessedit_char_blacklist=0123456789 --psm 11_15",
          "pytesseract_-l eng+grc -c tessedit_char_blacklist=0123456789 --psm 11_15",
          "pytesseract_-l eng+grc -c tessedit_char_blacklist=0123456789 --psm 11_15",
          "pytesseract_-l eng+grc -c tessedit_char_blacklist=0123456789 --psm 11_15",
          "pytesseract_-l eng+grc -c tessedit_char_blacklist=0123456789 --psm 11_15",
          "pytesseract_-l eng+grc -c tessedit_char_blacklist=0123456789 --psm 11_15",
          "pytesseract_-l eng+grc -c tessedit_char_blacklist=0123456789 --psm 11_15",
          "pytesseract_-l eng+grc -c tessedit_char_blacklist=0123456789 --psm 11_15",
          "pytesseract_-l eng+grc -c tessedit_char_blacklist=0123456789 --psm 11_15",
          "pytesseract_-l eng+grc -c tessedit_char_blacklist=0123456789 --psm 11_15",
          "pytesseract_-l eng+grc -c tessedit_char_blacklist=0123456789 --psm 11_15",
          "pytesseract_-l eng+grc -c tessedit_char_blacklist=0123456789 --psm 11_15",
          "pytesseract_-l eng+grc -c tessedit_char_blacklist=0123456789 --psm 11_15",
          "pytesseract_-l eng+grc -c tessedit_char_blacklist=0123456789 --psm 11_15",
          "pytesseract_-l eng+grc -c tessedit_char_blacklist=0123456789 --psm 11_15",
          "pytesseract_-l eng+grc -c tessedit_char_blacklist=0123456789 --psm 11_15",
          "pytesseract_-l eng+grc -c tessedit_char_blacklist=0123456789 --psm 11_15",
          "pytesseract_-l eng+grc -c tessedit_char_blacklist=0123456789 --psm 11_15",
          "pytesseract_-l eng+grc -c tessedit_char_blacklist=0123456789 --psm 11_15",
          "pytesseract_-l eng+grc -c tessedit_char_blacklist=0123456789 --psm 11_15",
          "pytesseract_-l eng+grc -c tessedit_char_blacklist=0123456789 --psm 11_15",
          "pytesseract_-l eng+grc -c tessedit_char_blacklist=0123456789 --psm 11_15",
          "pytesseract_-l eng+grc -c tessedit_char_blacklist=0123456789 --psm 11_15",
          "pytesseract_-l eng+grc -c tessedit_char_blacklist=0123456789 --psm 11_15",
          "pytesseract_-l eng+grc -c tessedit_char_blacklist=0123456789 --psm 11_15",
          "pytesseract_-l eng+grc -c tessedit_char_blacklist=0123456789 --psm 11_15",
          "pytesseract_-l eng+grc -c tessedit_char_blacklist=0123456789 --psm 11_15",
          "pytesseract_-l eng+grc -c tessedit_char_blacklist=0123456789 --psm 11_15",
          "pytesseract_-l eng+grc -c tessedit_char_blacklist=0123456789 --psm 11_15",
          "pytesseract_-l eng+grc -c tessedit_char_blacklist=0123456789 --psm 11_15",
          "pytesseract_-l eng+grc -c tessedit_char_blacklist=0123456789 --psm 11_15",
          "pytesseract_-l eng+grc -c tessedit_char_blacklist=0123456789 --psm 11_15",
          "pytesseract_-l eng+grc -c tessedit_char_blacklist=0123456789 --psm 11_15",
          "pytesseract_-l eng+grc -c tessedit_char_blacklist=0123456789 --psm 11_15",
          "pytesseract_-l eng+grc -c tessedit_char_blacklist=0123456789 --psm 11_15",
          "pytesseract_-l eng+grc -c tessedit_char_blacklist=0123456789 --psm 11_15",
          "pytesseract_-l eng+grc -c tessedit_char_blacklist=0123456789 --psm 11_15",
          "pytesseract_-l eng+grc -c tessedit_char_blacklist=0123456789 --psm 11_15",
          "pytesseract_-l eng+grc -c tessedit_char_blacklist=0123456789 --psm 11_15",
          "pytesseract_-l eng+grc -c tessedit_char_blacklist=0123456789 --psm 11_15",
          "pytesseract_-l eng+grc -c tessedit_char_blacklist=0123456789 --psm 11_15",
          "pytesseract_-l eng+grc -c tessedit_char_blacklist=0123456789 --psm 11_15",
          "pytesseract_-l eng+grc -c tessedit_char_blacklist=0123456789 --psm 11_15",
          "pytesseract_-l eng+grc -c tessedit_char_blacklist=0123456789 --psm 11_15",
          "pytesseract_-l eng+grc -c tessedit_char_blacklist=0123456789 --psm 11_15",
          "pytesseract_-l eng+grc -c tessedit_char_blacklist=0123456789 --psm 11_15",
          "pytesseract_-l eng+grc -c tessedit_char_blacklist=0123456789 --psm 11_15",
          "pytesseract_-l eng+grc -c tessedit_char_blacklist=0123456789 --psm 11_15",
          "pytesseract_-l eng+grc -c tessedit_char_blacklist=0123456789 --psm 11_15",
          "pytesseract_-l eng+grc -c tessedit_char_blacklist=0123456789 --psm 11_15",
          "pytesseract_-l eng+grc -c tessedit_char_blacklist=0123456789 --psm 11_15",
          "pytesseract_-l eng+grc -c tessedit_char_blacklist=0123456789 --psm 11_15",
          "pytesseract_-l eng+grc -c tessedit_char_blacklist=0123456789 --psm 11_15",
          "pytesseract_-l eng+grc -c tessedit_char_blacklist=0123456789 --psm 11_15",
          "pytesseract_-l eng+grc -c tessedit_char_blacklist=0123456789 --psm 11_15",
          "pytesseract_-l eng+grc -c tessedit_char_blacklist=0123456789 --psm 11_15",
          "pytesseract_-l eng+grc -c tessedit_char_blacklist=0123456789 --psm 11_15",
          "pytesseract_-l eng+grc -c tessedit_char_blacklist=0123456789 --psm 11_15",
          "pytesseract_-l eng+grc -c tessedit_char_blacklist=0123456789 --psm 11_15",
          "pytesseract_-l eng+grc -c tessedit_char_blacklist=0123456789 --psm 11_15",
          "pytesseract_-l eng+grc -c tessedit_char_blacklist=0123456789 --psm 11_15",
          "pytesseract_-l eng+grc -c tessedit_char_blacklist=0123456789 --psm 11_15",
          "pytesseract_-l eng+grc -c tessedit_char_blacklist=0123456789 --psm 11_15",
          "pytesseract_-l eng+grc -c tessedit_char_blacklist=0123456789 --psm 11_15",
          "pytesseract_-l eng+grc -c tessedit_char_blacklist=0123456789 --psm 11_15",
          "pytesseract_-l eng+grc -c tessedit_char_blacklist=0123456789 --psm 11_15",
          "pytesseract_-l eng+grc -c tessedit_char_blacklist=0123456789 --psm 11_15",
          "pytesseract_-l eng+grc -c tessedit_char_blacklist=0123456789 --psm 11_15",
          "pytesseract_-l eng+grc -c tessedit_char_blacklist=0123456789 --psm 11_15",
          "pytesseract_-l eng+grc -c tessedit_char_blacklist=0123456789 --psm 11_15",
          "pytesseract_-l eng+grc -c tessedit_char_blacklist=0123456789 --psm 11_15",
          "pytesseract_-l eng+grc -c tessedit_char_blacklist=0123456789 --psm 11_15",
          "pytesseract_-l eng+grc -c tessedit_char_blacklist=0123456789 --psm 11_15",
          "pytesseract_-l eng+grc -c tessedit_char_blacklist=0123456789 --psm 11_15",
          "pytesseract_-l eng+grc -c tessedit_char_blacklist=0123456789 --psm 11_15",
          "pytesseract_-l eng+grc -c tessedit_char_blacklist=0123456789 --psm 11_15",
          "pytesseract_-l eng+grc -c tessedit_char_blacklist=0123456789 --psm 11_15",
          "pytesseract_-l eng+grc -c tessedit_char_blacklist=0123456789 --psm 11_15",
          "pytesseract_-l eng+grc -c tessedit_char_blacklist=0123456789 --psm 11_15",
          "pytesseract_-l eng+grc -c tessedit_char_blacklist=0123456789 --psm 11_15",
          "pytesseract_-l eng+grc -c tessedit_char_blacklist=0123456789 --psm 11_15",
          "pytesseract_-l eng+grc -c tessedit_char_blacklist=0123456789 --psm 11_15",
          "pytesseract_-l eng+grc -c tessedit_char_blacklist=0123456789 --psm 11_15",
          "pytesseract_-l eng+grc -c tessedit_char_blacklist=0123456789 --psm 11_15",
          "pytesseract_-l eng+grc -c tessedit_char_blacklist=0123456789 --psm 11_15",
          "pytesseract_-l eng+grc -c tessedit_char_blacklist=0123456789 --psm 11_15",
          "pytesseract_-l eng+grc -c tessedit_char_blacklist=0123456789 --psm 11_15",
          "pytesseract_-l eng+grc -c tessedit_char_blacklist=0123456789 --psm 11_15",
          "pytesseract_-l eng+grc -c tessedit_char_blacklist=0123456789 --psm 11_15",
          "pytesseract_-l eng+grc -c tessedit_char_blacklist=0123456789 --psm 11_15",
          "pytesseract_-l eng+grc -c tessedit_char_blacklist=0123456789 --psm 11_15",
          "pytesseract_-l eng+grc -c tessedit_char_blacklist=0123456789 --psm 11_15",
          "pytesseract_-l eng+grc -c tessedit_char_blacklist=0123456789 --psm 11_15",
          "pytesseract_-l eng+grc -c tessedit_char_blacklist=0123456789 --psm 11_15",
          "pytesseract_-l eng+grc -c tessedit_char_blacklist=0123456789 --psm 11_15",
          "pytesseract_-l eng+grc -c tessedit_char_blacklist=0123456789 --psm 11_15",
          "pytesseract_-l eng+grc -c tessedit_char_blacklist=0123456789 --psm 11_15",
          "pytesseract_-l eng+grc -c tessedit_char_blacklist=0123456789 --psm 11_15",
          "pytesseract_-l eng+grc -c tessedit_char_blacklist=0123456789 --psm 11_15",
          "pytesseract_-l eng+grc -c tessedit_char_blacklist=0123456789 --psm 11_15",
          "pytesseract_-l eng+grc -c tessedit_char_blacklist=0123456789 --psm 11_15",
          "pytesseract_-l eng+grc -c tessedit_char_blacklist=0123456789 --psm 11_15",
          "pytesseract_-l eng+grc -c tessedit_char_blacklist=0123456789 --psm 11_15",
          "pytesseract_-l eng+grc -c tessedit_char_blacklist=0123456789 --psm 11_15",
          "pytesseract_-l eng+grc -c tessedit_char_blacklist=0123456789 --psm 11_15",
          "pytesseract_-l eng+grc -c tessedit_char_blacklist=0123456789 --psm 11_15",
          "pytesseract_-l eng+grc -c tessedit_char_blacklist=0123456789 --psm 11_15",
          "pytesseract_-l eng+grc -c tessedit_char_blacklist=0123456789 --psm 11_15",
          "pytesseract_-l eng+grc -c tessedit_char_blacklist=0123456789 --psm 11_15",
          "pytesseract_-l eng+grc -c tessedit_char_blacklist=0123456789 --psm 11_15",
          "pytesseract_-l eng+grc -c tessedit_char_blacklist=0123456789 --psm 11_15",
          "pytesseract_-l eng+grc -c tessedit_char_blacklist=0123456789 --psm 11_15",
          "pytesseract_-l eng+grc -c tessedit_char_blacklist=0123456789 --psm 11_15",
          "pytesseract_-l eng+grc -c tessedit_char_blacklist=0123456789 --psm 11_15",
          "pytesseract_-l eng+grc -c tessedit_char_blacklist=0123456789 --psm 11_15",
          "pytesseract_-l eng+grc -c tessedit_char_blacklist=0123456789 --psm 11_15",
          "pytesseract_-l eng+grc -c tessedit_char_blacklist=0123456789 --psm 11_15",
          "pytesseract_-l eng+grc -c tessedit_char_blacklist=0123456789 --psm 11_15",
          "pytesseract_-l eng+grc -c tessedit_char_blacklist=0123456789 --psm 11_15",
          "pytesseract_-l eng+grc -c tessedit_char_blacklist=0123456789 --psm 11_15",
          "pytesseract_-l eng+grc -c tessedit_char_blacklist=0123456789 --psm 11_15",
          "pytesseract_-l eng+grc -c tessedit_char_blacklist=0123456789 --psm 11_15",
          "pytesseract_-l eng+grc -c tessedit_char_blacklist=0123456789 --psm 11_15",
          "pytesseract_-l eng+grc -c tessedit_char_blacklist=0123456789 --psm 11_15",
          "pytesseract_-l eng+grc -c tessedit_char_blacklist=0123456789 --psm 11_15",
          "pytesseract_-l eng+grc -c tessedit_char_blacklist=0123456789 --psm 11_15",
          "pytesseract_-l eng+grc -c tessedit_char_blacklist=0123456789 --psm 11_15",
          "pytesseract_-l eng+grc -c tessedit_char_blacklist=0123456789 --psm 11_15",
          "pytesseract_-l eng+grc -c tessedit_char_blacklist=0123456789 --psm 11_15",
          "pytesseract_-l eng+grc -c tessedit_char_blacklist=0123456789 --psm 11_15",
          "pytesseract_-l eng+grc -c tessedit_char_blacklist=0123456789 --psm 11_15",
          "pytesseract_-l eng+grc -c tessedit_char_blacklist=0123456789 --psm 11_15",
          "pytesseract_-l eng+grc -c tessedit_char_blacklist=0123456789 --psm 11_15",
          "pytesseract_-l eng+grc -c tessedit_char_blacklist=0123456789 --psm 11_15",
          "pytesseract_-l eng+grc -c tessedit_char_blacklist=0123456789 --psm 11_15",
          "pytesseract_-l eng+grc -c tessedit_char_blacklist=0123456789 --psm 11_15",
          "pytesseract_-l eng+grc -c tessedit_char_blacklist=0123456789 --psm 11_15",
          "pytesseract_-l eng+grc -c tessedit_char_blacklist=0123456789 --psm 11_15",
          "pytesseract_-l eng+grc -c tessedit_char_blacklist=0123456789 --psm 11_15"
         ],
         "x0": " ",
         "xaxis": "x",
         "y": [
          27.16713810000001,
          27.905646399999995,
          26.8462395,
          26.64170180000002,
          25.507383199999992,
          26.247127500000005,
          25.44344749999999,
          26.942395000000037,
          26.03884089999997,
          25.55947049999997,
          25.599183400000012,
          25.814139599999976,
          0.3219730999990133,
          0.2991173999907914,
          0.4056315000052564,
          0.3039600000047358,
          0.3158287999976892,
          0.3050144000008004,
          0.2885271999984979,
          0.2631919999985257,
          0.418785800007754,
          0.326289300006465,
          0.4275727000058396,
          0.362650199997006,
          0.3435882000048877,
          0.3343650000024354,
          0.3142246999923372,
          0.2888113999943016,
          0.2841019000043161,
          0.2754562999907648,
          0.3158198999881279,
          0.3039574999856995,
          0.3324830000055954,
          0.285834900001646,
          0.2864782999968156,
          0.327344000004814,
          0.3036200999922585,
          0.3867129999998724,
          0.3095975000032922,
          0.4113512000039918,
          0.2890392999979667,
          0.3235988999949768,
          0.2756164999882458,
          0.2959248000115622,
          0.3287662999937311,
          0.3188431000016862,
          0.3719207999965874,
          0.3223133999999845,
          0.4662543000013102,
          0.3089293999946676,
          0.2795941000076709,
          0.310519500009832,
          0.267987200000789,
          0.3671246000012615,
          0.3175742000021273,
          0.32286820000445,
          0.2890457000030437,
          0.3410900000017136,
          0.3197519999957876,
          0.2911374999966938,
          0.3212613000068813,
          0.3241462000005413,
          0.3832933999947272,
          0.289892000000691,
          0.3704938999871956,
          0.2949033000040799,
          0.3209482000092976,
          0.3301558999955887,
          0.4254597000108333,
          0.3165012999961618,
          0.3422819999977946,
          0.3475605999992694,
          0.3311537999979919,
          0.2917198999930406,
          0.3318013999960385,
          0.3890107999905012,
          0.3104439000017009,
          0.3197465999983251,
          0.390766700002132,
          0.3212238999985857,
          0.3326057999947807,
          0.3524694000079762,
          0.305225000003702,
          0.3429851999972015,
          0.3229253000026801,
          0.2769802000111667,
          0.2711656999890692,
          0.2876963000016985,
          0.3202232999901753,
          0.3408615999942412,
          0.382144099989091,
          0.302821799996309,
          0.3833226999995531,
          0.3353365999937523,
          0.32301870000083,
          0.2617495999875245,
          0.3163342000043485,
          0.2812414999934844,
          0.3192808000021614,
          0.2845319000043673,
          0.3118742999940878,
          0.3246102999983122,
          0.311552400002256,
          0.2859596999915084,
          0.319878800000879,
          0.3092154000041773,
          0.3422787000017706,
          0.3625648999877739,
          0.2652564999880269,
          0.3042472999950405,
          0.3142222000024048,
          0.2991403000050923,
          0.2789638999965973,
          0.291477799997665,
          0.3072334000025876,
          0.3290651999996044,
          0.3260245999990729,
          0.2851796000031754,
          0.2720267999975476,
          0.2786198999965563,
          0.3178559999942081,
          0.2523898999934317,
          0.4561747999978252,
          0.2897475000063423,
          0.3227552000025753,
          0.3579631999891717,
          0.326858300002641,
          0.3331973000022117,
          0.3237389999994775,
          0.2839469000027748,
          0.3030309000023408,
          0.3073370999918552,
          0.4111522000021068,
          0.3474416999961249,
          0.2870800999953644,
          0.3168857999989996,
          0.3334959999920102,
          0.2858377999946242,
          0.3582278999965638,
          0.3595866999967256,
          0.3462359999975888,
          0.3086041000060504,
          0.287959299996146,
          0.3208007000066573,
          0.3561557999928482,
          0.3475279999984195,
          0.3204799999948591,
          0.2448239999939687,
          0.2848680000024615,
          0.331818699996802,
          0.3174338000098942,
          0.3075925999874016,
          0.3497295999986818,
          0.3349185999977635,
          0.3329040000098757,
          0.3718797000037739,
          0.3088596000015968,
          0.347465499988175,
          0.3612334999925224,
          0.2740044999954989,
          0.3312600000062957,
          0.2860431000008248,
          0.3244160000031115,
          0.3256237999885343,
          0.3057217000023229,
          0.3631671000039205,
          0.2493801999953575,
          0.3318147999962093,
          0.3222543000010773,
          0.3043734999955632,
          0.3216350000002421,
          0.3758157999982359,
          0.2987962000042898,
          0.2783381000044755,
          0.3202181999949971,
          0.2934435000061057,
          0.2918594000075245,
          0.2784955999959493,
          0.32718510000268,
          0.3092112000013003,
          0.3139618999994127,
          0.3784001000021817,
          0.3203641000000061,
          0.3117195000086212,
          0.3127252999984193,
          0.3617213999968953,
          0.3210648000094807,
          0.3346450999961234,
          0.2942799000011291,
          0.3238003000005847,
          0.3490019000018947,
          0.3401921000040602,
          0.2985420999902999,
          0.3037946000113152,
          0.3369048999884398,
          0.3266870999941602,
          0.3560766000009607,
          0.3058601999946404,
          0.3384373000008054,
          0.2997050999983912,
          0.3304184999869903,
          0.3208721999981208,
          0.3164907999889692,
          0.303169999999227,
          0.3398005999915767,
          0.2924495999905048,
          0.3096032000030391,
          0.2743550000013783,
          0.3723054000001866,
          0.306765200002701,
          0.282659300006344,
          0.3372132999938912,
          0.3456739999965066,
          0.2978602000075625,
          0.3422445000032894,
          0.2891822999954456,
          0.2854938999953447,
          0.2784070999914547,
          0.2888224000053014,
          0.3088592999993125,
          0.2732668999960879,
          0.2999076999985846,
          0.3010761000041384,
          0.2911307000031229,
          0.3085208999982569,
          0.3281248999992385,
          0.3063415999931749,
          0.3193570000003092,
          0.2734397999884095,
          0.3343938000034541,
          0.3238314999907743,
          0.2835774999985005,
          0.4066212000034284,
          0.3337554000027012,
          0.3201822999981232,
          0.2936621999979252,
          0.2916190999967512,
          0.345066100009717,
          0.3529420999984722,
          0.3564842000050703,
          0.2953845000010915,
          0.3344449999858625,
          0.3907255999947665,
          0.2780524999980116,
          0.2962625999934971,
          0.3634023000049637,
          0.2944758999947225,
          0.3617356000031577,
          0.3437656999885803,
          0.2835808000090765,
          0.2797392000065883,
          0.3445916000055149,
          0.311023500005831,
          0.3668498000042746,
          0.2780044999963138,
          0.2864193999994313,
          0.3019136999937473,
          0.3327293999900576,
          0.3239549999998417,
          0.3406079999986104,
          0.2675596000044606,
          0.2856982000084827,
          0.2885020000103395,
          0.2986649999947985,
          0.3107689000025857,
          0.3196255000075325,
          0.2869952000037301,
          0.3141772999952081,
          0.3248653000046033,
          0.4109825000050477,
          0.2715173000033246,
          0.3076457999995909,
          0.3369851999887032,
          0.4023429999942891,
          0.320850199990673,
          0.2871810999931767,
          0.3162216999917291,
          0.40421970000898,
          0.2854018999933032,
          0.2946235999988857,
          0.2979946000123163,
          0.3005278000055114,
          0.3317553999950178,
          0.3247264999954495,
          0.3214597000041976,
          0.475351100001717,
          0.3313724999898113,
          0.3733846999966772,
          0.3426648999884492,
          0.3215063999959966,
          0.2931979999993928,
          0.3285402999899816,
          0.3635562999988906,
          0.3095302000001538,
          0.3157224000024143,
          0.2970236000110162,
          0.3344794000004185,
          0.3207486000028439,
          0.2621240000007674,
          0.2866772999987006,
          0.2953842999995686,
          0.3311786000122083,
          0.2908072000136599,
          0.3506562000111444,
          0.4137641999986954,
          0.3360738000046694,
          0.4057212000043364,
          0.3099809999985154,
          0.2718725000013364,
          0.3437576000142144,
          0.3227443999930983,
          0.3182608999923104,
          0.2641533999994863,
          0.312826599998516,
          0.2872583999997005,
          0.3427941999980248,
          0.3546586000011302,
          0.3317423999978928,
          0.4364456999901449,
          0.3288430999964475,
          0.3460100999946007,
          0.3381550999911269,
          0.3964611999981571,
          0.3796962999913376,
          0.3301137999951606,
          0.2936404999927617,
          0.4451073999953223,
          0.334212200003094,
          0.3147023000055924,
          0.2848137999972095,
          0.3244649000116624,
          0.3162145999958738,
          0.3446150999952806,
          0.3347622000001138,
          0.3089516000036383,
          0.2982779000012669,
          0.3434363000123994,
          0.3215718999999808,
          0.3492052999936277,
          0.3117635999951744,
          0.3142801999929361,
          0.322724500001641,
          0.3123286999907577,
          0.3290549000084866,
          0.373109399995883,
          0.3047915000061039,
          0.307689900000696,
          0.2946688000083668,
          0.3252842999936547,
          0.3246585000015329,
          0.3220913999975892,
          0.3026195999991614,
          0.2891183000028832,
          0.2704919000098016,
          0.290905699992436,
          0.3870337999978801,
          0.335424899996724,
          0.2993329000019002,
          0.2881335999991279,
          0.2772518999991007,
          0.2574121999932686,
          0.3206905999977607,
          0.2430122999940067,
          0.306916600005934,
          0.3174950999964494,
          0.3058677000080934,
          0.3025291999947512,
          0.3000725000019884,
          0.3069080999994185,
          0.3098648000013781,
          0.2939370999956736,
          0.336614500003634,
          0.3474519000010332,
          0.3111975000065285,
          0.2736995000013849,
          0.3542488000093726,
          0.3037099999928614,
          0.3347993999923346,
          0.2682908000133466,
          0.2694611000042641,
          0.3788333999982569,
          0.2949706999934278,
          0.3453430000081425,
          0.3095946999965235,
          0.3087346999964211,
          0.2505769999988843,
          0.270035800000187,
          0.3435641999967629,
          0.3467564000020502,
          0.3035206000058679,
          0.2805852000019513,
          0.3114639999985229,
          0.3341432000015629,
          0.3230371999961789,
          0.3610359000012977,
          0.3511306000000331,
          0.318167599994922,
          0.3150229000020772,
          0.336550799998804,
          0.2627493999898433,
          0.2668925000034505,
          0.2972159999917494,
          0.2893406000075629,
          0.3220134000002872,
          0.3063822999974945,
          0.2741452000045683,
          0.2884982999967178,
          0.3200684000039473,
          0.3113143999944441,
          0.2722226000041701,
          0.3224445000087144,
          0.3903850999922724,
          0.2781617000000551,
          0.2873775000043679,
          0.3102776000014273,
          0.2781030000041937,
          0.3045345999998972,
          0.3435223000124097,
          0.3223748000018531,
          0.2951407999935327,
          0.3031754999974509,
          0.404696800003876,
          0.2971202999906381,
          0.3595801999908872,
          0.3341911999887088,
          0.3282334999967133,
          0.4895570000080624,
          0.2803194000007352,
          0.3070742999989306,
          0.3385886000032769,
          0.373743199990713,
          0.2763625999941723,
          0.2841074000025401,
          0.3174089000094682,
          0.3088257000054,
          0.3079198999912478,
          0.3279813999979524,
          0.3149921000003814,
          0.2798619000095641,
          0.325974799998221,
          0.3426604000123916,
          0.3187688000034541,
          0.3327860999997938,
          0.4738182000000961,
          0.3024259000085294,
          0.3228308999969158,
          0.2750046000001021,
          0.308985700001358,
          0.2974620000022696,
          0.3061037000006763,
          0.2931703999929596,
          0.3136911999899894,
          0.3082409999915398,
          0.3853414999903179,
          0.2957141999941086,
          0.3347603000001982,
          0.3005560000019613,
          0.3534397000039462,
          0.3669695999997202,
          0.3111310999956913,
          0.3435601999954087,
          0.2670508000010159,
          0.3447457000002032,
          0.2909848999988753,
          0.2863762999913888,
          0.2991543999960413,
          0.3166189999901689,
          0.2935618000046816,
          0.3511266999994404,
          0.3637482999911299,
          0.3027604000089923,
          0.3208377999981167,
          0.2645859000040218,
          0.311536100009107,
          0.3598704999894835,
          0.2973666999896522,
          0.3236520000064047,
          0.3041834000032395,
          0.3450607000122545,
          0.285175099998014,
          0.340320100003737,
          0.2921390999981668,
          0.332858000008855,
          0.3265608999936376,
          0.4166435000079218,
          0.336070599994855,
          0.2793589999928372,
          0.3037329000071622,
          0.2914650000020629,
          0.3063462999998592,
          0.3637564000091515,
          0.3344628000049852,
          0.3027734000061173,
          0.319201599995722,
          0.2940536999958567,
          0.2972728999884566,
          0.3012311000056797,
          0.321540199991432,
          0.3164059999980964,
          0.3070882000029087,
          0.2685115999920526,
          0.3172850999981165,
          0.2997240000113379,
          0.3994549999915762,
          0.3063198999880114,
          0.2970799999893643,
          0.3095025000075111,
          0.3181922000076156,
          0.3157083999976748,
          0.4025655000004917,
          0.2962686000100802,
          0.3132834999996703,
          0.2812699999922188,
          0.3387379000050714,
          0.304872399996384,
          0.3903439999994589,
          0.3101138999918476,
          0.3343893999990541,
          0.322931199989398,
          0.3225551999930758,
          0.433156200000667,
          0.2982068999990588,
          0.3669135999953141,
          0.3486411000048974,
          0.3315758999960962,
          0.2875668000051519,
          0.3109999000007519,
          0.3099134999938542,
          0.3049756999971578,
          0.3490566999971634,
          0.3055344999884255,
          0.3571653000108199,
          0.3086448000103701,
          0.3963672999962,
          0.3226162000064505,
          0.3704068000079132,
          0.2884584999992512,
          0.2954127999983029,
          0.3940969000104815,
          0.3459912999969674,
          0.3197170000057667,
          0.2989596999977948,
          0.314967099999194,
          0.3190627000003587,
          0.2786894000018947,
          0.3152249999984633,
          0.3215485999971861,
          0.3826259000052232,
          0.3264013000007253,
          0.4778320999903371,
          0.395715900012874,
          0.3713800999976229,
          0.2682396000018343,
          0.2545820999948773,
          0.3242686000012327,
          0.3186934999976074,
          0.3259753000020282,
          0.2914837999996962,
          0.3265726999961771,
          0.281614499996067,
          0.3737944000022253,
          0.3452364999975543,
          0.3553350999864051,
          0.294026000003214,
          0.3355333000072278,
          0.3049295999953756,
          0.325798300007591,
          0.3309364000015193,
          0.320575200006715,
          0.2767244999995455,
          0.3539180999941891,
          0.3325188000017078,
          0.3006364000029862,
          0.3192198999895481,
          0.3259798999933991,
          0.3548553000000538,
          0.3114163999998709,
          0.321576999995159,
          0.3046522999939043,
          0.3079315999930259,
          0.3470453999907477,
          0.3231763999938266,
          0.376824500010116,
          0.311948399990797,
          0.454839300000458,
          0.3444384999893373,
          0.3481663000129629,
          0.3141943999944487,
          0.2801244000002043,
          0.3058063999924343,
          0.3219916999951238,
          0.3070028999936767,
          0.2874107000097865,
          0.3176196999993408,
          0.3171127000096021,
          0.2879231000115396,
          0.3120496999908937,
          0.2821428000024752,
          0.3152033999940613,
          0.3328260999987833,
          0.3311114999960409,
          0.3108777000015834,
          0.2857835000031627,
          0.3675918999942951,
          0.2954405999917071,
          0.3323056000081124,
          0.3667484000034164,
          0.3140442000003531,
          0.2777208999905269,
          0.3237333000142826,
          0.3881658000027528,
          0.2932118000026094,
          0.3007650999934412,
          0.324259399989387,
          0.2960276999947382,
          0.4924100999924121,
          0.346340499992948,
          0.3307709000073373,
          0.2978908000077354,
          0.3446245000086492,
          0.3295974999928148,
          0.2978683999972418,
          0.3334574000036809,
          0.2972547000099439,
          0.3121217000007164,
          0.3151294999988749,
          0.344540500009316,
          0.3326711999980034,
          0.2849362999986624,
          0.3516435000055935,
          0.296619799992186,
          0.3035870999883627,
          0.2937030000030063,
          0.3488122999988263,
          0.3821876000001794,
          0.3167804999975487,
          0.2851548000035109,
          0.319931699996232,
          0.3227733000094304,
          0.2865252000046894,
          0.4327504999964731,
          0.3276304000028176,
          0.2872465999971609,
          0.4180197999958182,
          0.3243114999932004,
          0.2586221999954432,
          0.3038384999963455,
          0.2592835000104969,
          0.2999317999929189,
          0.3062887999985832,
          0.3362125999992713,
          0.314348300002166,
          0.3295429999998305,
          0.3253319000068586,
          0.3176843999972334,
          0.3247380999964662,
          0.3265520999993896,
          0.4522811999922851,
          0.350807499999064,
          0.3344015999900875,
          0.3391271000000415,
          0.2956214000005275,
          0.3680620000086492,
          0.33380359999137,
          0.3212535000056959,
          0.3162979000044288,
          0.3093438999931095,
          0.3037325000041164,
          0.2751656000036746,
          0.2860722000041278,
          0.3372658000007504,
          0.3296815999929094,
          0.280555599994841,
          0.3145896999922115,
          0.349453300004825,
          0.3474866999895312,
          0.2959771000023465,
          0.3085124999925028,
          0.3487209000013536,
          0.3149034999951254,
          0.2952847999986261,
          0.3817699999926844,
          0.3252514999912819,
          0.3221281000005547,
          0.3029240999894682,
          0.3173757000040496,
          0.3191276999859838,
          0.3576046999951359,
          0.3342528000066522,
          0.3569816999952309,
          0.2867332000023452,
          0.2983582000015303,
          0.3214889999944716,
          0.3089488999976311,
          0.3065149000030942,
          0.2953178999887313,
          0.3315678000071784,
          0.3218182999989949,
          0.3012190000008559,
          0.3098349000065354,
          0.3008245999953942,
          0.3277038999949582,
          0.3298795000009704,
          0.2962374999915482,
          0.3067280999966897,
          0.3597938000020804,
          0.3629581999994116,
          0.2890970000007655,
          0.3207141000020783,
          0.3237315000005765,
          0.2658069000026444,
          0.2745971999975154
         ],
         "y0": " ",
         "yaxis": "y"
        }
       ],
       "layout": {
        "boxmode": "group",
        "legend": {
         "tracegroupgap": 0
        },
        "margin": {
         "t": 60
        },
        "template": {
         "data": {
          "bar": [
           {
            "error_x": {
             "color": "#2a3f5f"
            },
            "error_y": {
             "color": "#2a3f5f"
            },
            "marker": {
             "line": {
              "color": "#E5ECF6",
              "width": 0.5
             },
             "pattern": {
              "fillmode": "overlay",
              "size": 10,
              "solidity": 0.2
             }
            },
            "type": "bar"
           }
          ],
          "barpolar": [
           {
            "marker": {
             "line": {
              "color": "#E5ECF6",
              "width": 0.5
             },
             "pattern": {
              "fillmode": "overlay",
              "size": 10,
              "solidity": 0.2
             }
            },
            "type": "barpolar"
           }
          ],
          "carpet": [
           {
            "aaxis": {
             "endlinecolor": "#2a3f5f",
             "gridcolor": "white",
             "linecolor": "white",
             "minorgridcolor": "white",
             "startlinecolor": "#2a3f5f"
            },
            "baxis": {
             "endlinecolor": "#2a3f5f",
             "gridcolor": "white",
             "linecolor": "white",
             "minorgridcolor": "white",
             "startlinecolor": "#2a3f5f"
            },
            "type": "carpet"
           }
          ],
          "choropleth": [
           {
            "colorbar": {
             "outlinewidth": 0,
             "ticks": ""
            },
            "type": "choropleth"
           }
          ],
          "contour": [
           {
            "colorbar": {
             "outlinewidth": 0,
             "ticks": ""
            },
            "colorscale": [
             [
              0,
              "#0d0887"
             ],
             [
              0.1111111111111111,
              "#46039f"
             ],
             [
              0.2222222222222222,
              "#7201a8"
             ],
             [
              0.3333333333333333,
              "#9c179e"
             ],
             [
              0.4444444444444444,
              "#bd3786"
             ],
             [
              0.5555555555555556,
              "#d8576b"
             ],
             [
              0.6666666666666666,
              "#ed7953"
             ],
             [
              0.7777777777777778,
              "#fb9f3a"
             ],
             [
              0.8888888888888888,
              "#fdca26"
             ],
             [
              1,
              "#f0f921"
             ]
            ],
            "type": "contour"
           }
          ],
          "contourcarpet": [
           {
            "colorbar": {
             "outlinewidth": 0,
             "ticks": ""
            },
            "type": "contourcarpet"
           }
          ],
          "heatmap": [
           {
            "colorbar": {
             "outlinewidth": 0,
             "ticks": ""
            },
            "colorscale": [
             [
              0,
              "#0d0887"
             ],
             [
              0.1111111111111111,
              "#46039f"
             ],
             [
              0.2222222222222222,
              "#7201a8"
             ],
             [
              0.3333333333333333,
              "#9c179e"
             ],
             [
              0.4444444444444444,
              "#bd3786"
             ],
             [
              0.5555555555555556,
              "#d8576b"
             ],
             [
              0.6666666666666666,
              "#ed7953"
             ],
             [
              0.7777777777777778,
              "#fb9f3a"
             ],
             [
              0.8888888888888888,
              "#fdca26"
             ],
             [
              1,
              "#f0f921"
             ]
            ],
            "type": "heatmap"
           }
          ],
          "heatmapgl": [
           {
            "colorbar": {
             "outlinewidth": 0,
             "ticks": ""
            },
            "colorscale": [
             [
              0,
              "#0d0887"
             ],
             [
              0.1111111111111111,
              "#46039f"
             ],
             [
              0.2222222222222222,
              "#7201a8"
             ],
             [
              0.3333333333333333,
              "#9c179e"
             ],
             [
              0.4444444444444444,
              "#bd3786"
             ],
             [
              0.5555555555555556,
              "#d8576b"
             ],
             [
              0.6666666666666666,
              "#ed7953"
             ],
             [
              0.7777777777777778,
              "#fb9f3a"
             ],
             [
              0.8888888888888888,
              "#fdca26"
             ],
             [
              1,
              "#f0f921"
             ]
            ],
            "type": "heatmapgl"
           }
          ],
          "histogram": [
           {
            "marker": {
             "pattern": {
              "fillmode": "overlay",
              "size": 10,
              "solidity": 0.2
             }
            },
            "type": "histogram"
           }
          ],
          "histogram2d": [
           {
            "colorbar": {
             "outlinewidth": 0,
             "ticks": ""
            },
            "colorscale": [
             [
              0,
              "#0d0887"
             ],
             [
              0.1111111111111111,
              "#46039f"
             ],
             [
              0.2222222222222222,
              "#7201a8"
             ],
             [
              0.3333333333333333,
              "#9c179e"
             ],
             [
              0.4444444444444444,
              "#bd3786"
             ],
             [
              0.5555555555555556,
              "#d8576b"
             ],
             [
              0.6666666666666666,
              "#ed7953"
             ],
             [
              0.7777777777777778,
              "#fb9f3a"
             ],
             [
              0.8888888888888888,
              "#fdca26"
             ],
             [
              1,
              "#f0f921"
             ]
            ],
            "type": "histogram2d"
           }
          ],
          "histogram2dcontour": [
           {
            "colorbar": {
             "outlinewidth": 0,
             "ticks": ""
            },
            "colorscale": [
             [
              0,
              "#0d0887"
             ],
             [
              0.1111111111111111,
              "#46039f"
             ],
             [
              0.2222222222222222,
              "#7201a8"
             ],
             [
              0.3333333333333333,
              "#9c179e"
             ],
             [
              0.4444444444444444,
              "#bd3786"
             ],
             [
              0.5555555555555556,
              "#d8576b"
             ],
             [
              0.6666666666666666,
              "#ed7953"
             ],
             [
              0.7777777777777778,
              "#fb9f3a"
             ],
             [
              0.8888888888888888,
              "#fdca26"
             ],
             [
              1,
              "#f0f921"
             ]
            ],
            "type": "histogram2dcontour"
           }
          ],
          "mesh3d": [
           {
            "colorbar": {
             "outlinewidth": 0,
             "ticks": ""
            },
            "type": "mesh3d"
           }
          ],
          "parcoords": [
           {
            "line": {
             "colorbar": {
              "outlinewidth": 0,
              "ticks": ""
             }
            },
            "type": "parcoords"
           }
          ],
          "pie": [
           {
            "automargin": true,
            "type": "pie"
           }
          ],
          "scatter": [
           {
            "fillpattern": {
             "fillmode": "overlay",
             "size": 10,
             "solidity": 0.2
            },
            "type": "scatter"
           }
          ],
          "scatter3d": [
           {
            "line": {
             "colorbar": {
              "outlinewidth": 0,
              "ticks": ""
             }
            },
            "marker": {
             "colorbar": {
              "outlinewidth": 0,
              "ticks": ""
             }
            },
            "type": "scatter3d"
           }
          ],
          "scattercarpet": [
           {
            "marker": {
             "colorbar": {
              "outlinewidth": 0,
              "ticks": ""
             }
            },
            "type": "scattercarpet"
           }
          ],
          "scattergeo": [
           {
            "marker": {
             "colorbar": {
              "outlinewidth": 0,
              "ticks": ""
             }
            },
            "type": "scattergeo"
           }
          ],
          "scattergl": [
           {
            "marker": {
             "colorbar": {
              "outlinewidth": 0,
              "ticks": ""
             }
            },
            "type": "scattergl"
           }
          ],
          "scattermapbox": [
           {
            "marker": {
             "colorbar": {
              "outlinewidth": 0,
              "ticks": ""
             }
            },
            "type": "scattermapbox"
           }
          ],
          "scatterpolar": [
           {
            "marker": {
             "colorbar": {
              "outlinewidth": 0,
              "ticks": ""
             }
            },
            "type": "scatterpolar"
           }
          ],
          "scatterpolargl": [
           {
            "marker": {
             "colorbar": {
              "outlinewidth": 0,
              "ticks": ""
             }
            },
            "type": "scatterpolargl"
           }
          ],
          "scatterternary": [
           {
            "marker": {
             "colorbar": {
              "outlinewidth": 0,
              "ticks": ""
             }
            },
            "type": "scatterternary"
           }
          ],
          "surface": [
           {
            "colorbar": {
             "outlinewidth": 0,
             "ticks": ""
            },
            "colorscale": [
             [
              0,
              "#0d0887"
             ],
             [
              0.1111111111111111,
              "#46039f"
             ],
             [
              0.2222222222222222,
              "#7201a8"
             ],
             [
              0.3333333333333333,
              "#9c179e"
             ],
             [
              0.4444444444444444,
              "#bd3786"
             ],
             [
              0.5555555555555556,
              "#d8576b"
             ],
             [
              0.6666666666666666,
              "#ed7953"
             ],
             [
              0.7777777777777778,
              "#fb9f3a"
             ],
             [
              0.8888888888888888,
              "#fdca26"
             ],
             [
              1,
              "#f0f921"
             ]
            ],
            "type": "surface"
           }
          ],
          "table": [
           {
            "cells": {
             "fill": {
              "color": "#EBF0F8"
             },
             "line": {
              "color": "white"
             }
            },
            "header": {
             "fill": {
              "color": "#C8D4E3"
             },
             "line": {
              "color": "white"
             }
            },
            "type": "table"
           }
          ]
         },
         "layout": {
          "annotationdefaults": {
           "arrowcolor": "#2a3f5f",
           "arrowhead": 0,
           "arrowwidth": 1
          },
          "autotypenumbers": "strict",
          "coloraxis": {
           "colorbar": {
            "outlinewidth": 0,
            "ticks": ""
           }
          },
          "colorscale": {
           "diverging": [
            [
             0,
             "#8e0152"
            ],
            [
             0.1,
             "#c51b7d"
            ],
            [
             0.2,
             "#de77ae"
            ],
            [
             0.3,
             "#f1b6da"
            ],
            [
             0.4,
             "#fde0ef"
            ],
            [
             0.5,
             "#f7f7f7"
            ],
            [
             0.6,
             "#e6f5d0"
            ],
            [
             0.7,
             "#b8e186"
            ],
            [
             0.8,
             "#7fbc41"
            ],
            [
             0.9,
             "#4d9221"
            ],
            [
             1,
             "#276419"
            ]
           ],
           "sequential": [
            [
             0,
             "#0d0887"
            ],
            [
             0.1111111111111111,
             "#46039f"
            ],
            [
             0.2222222222222222,
             "#7201a8"
            ],
            [
             0.3333333333333333,
             "#9c179e"
            ],
            [
             0.4444444444444444,
             "#bd3786"
            ],
            [
             0.5555555555555556,
             "#d8576b"
            ],
            [
             0.6666666666666666,
             "#ed7953"
            ],
            [
             0.7777777777777778,
             "#fb9f3a"
            ],
            [
             0.8888888888888888,
             "#fdca26"
            ],
            [
             1,
             "#f0f921"
            ]
           ],
           "sequentialminus": [
            [
             0,
             "#0d0887"
            ],
            [
             0.1111111111111111,
             "#46039f"
            ],
            [
             0.2222222222222222,
             "#7201a8"
            ],
            [
             0.3333333333333333,
             "#9c179e"
            ],
            [
             0.4444444444444444,
             "#bd3786"
            ],
            [
             0.5555555555555556,
             "#d8576b"
            ],
            [
             0.6666666666666666,
             "#ed7953"
            ],
            [
             0.7777777777777778,
             "#fb9f3a"
            ],
            [
             0.8888888888888888,
             "#fdca26"
            ],
            [
             1,
             "#f0f921"
            ]
           ]
          },
          "colorway": [
           "#636efa",
           "#EF553B",
           "#00cc96",
           "#ab63fa",
           "#FFA15A",
           "#19d3f3",
           "#FF6692",
           "#B6E880",
           "#FF97FF",
           "#FECB52"
          ],
          "font": {
           "color": "#2a3f5f"
          },
          "geo": {
           "bgcolor": "white",
           "lakecolor": "white",
           "landcolor": "#E5ECF6",
           "showlakes": true,
           "showland": true,
           "subunitcolor": "white"
          },
          "hoverlabel": {
           "align": "left"
          },
          "hovermode": "closest",
          "mapbox": {
           "style": "light"
          },
          "paper_bgcolor": "white",
          "plot_bgcolor": "#E5ECF6",
          "polar": {
           "angularaxis": {
            "gridcolor": "white",
            "linecolor": "white",
            "ticks": ""
           },
           "bgcolor": "#E5ECF6",
           "radialaxis": {
            "gridcolor": "white",
            "linecolor": "white",
            "ticks": ""
           }
          },
          "scene": {
           "xaxis": {
            "backgroundcolor": "#E5ECF6",
            "gridcolor": "white",
            "gridwidth": 2,
            "linecolor": "white",
            "showbackground": true,
            "ticks": "",
            "zerolinecolor": "white"
           },
           "yaxis": {
            "backgroundcolor": "#E5ECF6",
            "gridcolor": "white",
            "gridwidth": 2,
            "linecolor": "white",
            "showbackground": true,
            "ticks": "",
            "zerolinecolor": "white"
           },
           "zaxis": {
            "backgroundcolor": "#E5ECF6",
            "gridcolor": "white",
            "gridwidth": 2,
            "linecolor": "white",
            "showbackground": true,
            "ticks": "",
            "zerolinecolor": "white"
           }
          },
          "shapedefaults": {
           "line": {
            "color": "#2a3f5f"
           }
          },
          "ternary": {
           "aaxis": {
            "gridcolor": "white",
            "linecolor": "white",
            "ticks": ""
           },
           "baxis": {
            "gridcolor": "white",
            "linecolor": "white",
            "ticks": ""
           },
           "bgcolor": "#E5ECF6",
           "caxis": {
            "gridcolor": "white",
            "linecolor": "white",
            "ticks": ""
           }
          },
          "title": {
           "x": 0.05
          },
          "xaxis": {
           "automargin": true,
           "gridcolor": "white",
           "linecolor": "white",
           "ticks": "",
           "title": {
            "standoff": 15
           },
           "zerolinecolor": "white",
           "zerolinewidth": 2
          },
          "yaxis": {
           "automargin": true,
           "gridcolor": "white",
           "linecolor": "white",
           "ticks": "",
           "title": {
            "standoff": 15
           },
           "zerolinecolor": "white",
           "zerolinewidth": 2
          }
         }
        },
        "xaxis": {
         "anchor": "y",
         "domain": [
          0,
          1
         ],
         "title": {
          "text": "name"
         }
        },
        "yaxis": {
         "anchor": "x",
         "domain": [
          0,
          1
         ],
         "title": {
          "text": "time"
         }
        }
       }
      }
     },
     "metadata": {},
     "output_type": "display_data"
    }
   ],
   "source": [
    "px.box(df, x=\"name\", y=\"time\")#, x=\"name\")"
   ]
  },
  {
   "cell_type": "code",
   "execution_count": 36,
   "metadata": {},
   "outputs": [
    {
     "data": {
      "application/vnd.plotly.v1+json": {
       "config": {
        "plotlyServerURL": "https://plot.ly"
       },
       "data": [
        {
         "alignmentgroup": "True",
         "hovertemplate": "name=%{x}<br>score=%{y}<extra></extra>",
         "legendgroup": "",
         "marker": {
          "color": "#636efa"
         },
         "name": "",
         "notched": false,
         "offsetgroup": "",
         "orientation": "v",
         "showlegend": false,
         "type": "box",
         "x": [
          "doctr_db_mobilenet_v3_large_crnn_vgg16_bn",
          "doctr_db_mobilenet_v3_large_crnn_vgg16_bn",
          "doctr_db_mobilenet_v3_large_crnn_mobilenet_v3_small",
          "doctr_db_mobilenet_v3_large_crnn_mobilenet_v3_small",
          "doctr_db_resnet50_crnn_vgg16_bn",
          "doctr_db_resnet50_crnn_vgg16_bn",
          "doctr_db_resnet50_crnn_mobilenet_v3_small",
          "doctr_db_resnet50_crnn_mobilenet_v3_small",
          "doctr_db_resnet50_rotation_crnn_vgg16_bn",
          "doctr_db_resnet50_rotation_crnn_vgg16_bn",
          "doctr_db_resnet50_rotation_crnn_mobilenet_v3_small",
          "doctr_db_resnet50_rotation_crnn_mobilenet_v3_small",
          "pytesseract_-l eng+grc -c tessedit_char_blacklist=0123456789 --psm 11_15",
          "pytesseract_-l eng+grc -c tessedit_char_blacklist=0123456789 --psm 11_15",
          "pytesseract_-l eng+grc -c tessedit_char_blacklist=0123456789 --psm 11_15",
          "pytesseract_-l eng+grc -c tessedit_char_blacklist=0123456789 --psm 11_15",
          "pytesseract_-l eng+grc -c tessedit_char_blacklist=0123456789 --psm 11_15",
          "pytesseract_-l eng+grc -c tessedit_char_blacklist=0123456789 --psm 11_15",
          "pytesseract_-l eng+grc -c tessedit_char_blacklist=0123456789 --psm 11_15",
          "pytesseract_-l eng+grc -c tessedit_char_blacklist=0123456789 --psm 11_15",
          "pytesseract_-l eng+grc -c tessedit_char_blacklist=0123456789 --psm 11_15",
          "pytesseract_-l eng+grc -c tessedit_char_blacklist=0123456789 --psm 11_15",
          "pytesseract_-l eng+grc -c tessedit_char_blacklist=0123456789 --psm 11_15",
          "pytesseract_-l eng+grc -c tessedit_char_blacklist=0123456789 --psm 11_15",
          "pytesseract_-l eng+grc -c tessedit_char_blacklist=0123456789 --psm 11_15",
          "pytesseract_-l eng+grc -c tessedit_char_blacklist=0123456789 --psm 11_15",
          "pytesseract_-l eng+grc -c tessedit_char_blacklist=0123456789 --psm 11_15",
          "pytesseract_-l eng+grc -c tessedit_char_blacklist=0123456789 --psm 11_15",
          "pytesseract_-l eng+grc -c tessedit_char_blacklist=0123456789 --psm 11_15",
          "pytesseract_-l eng+grc -c tessedit_char_blacklist=0123456789 --psm 11_15",
          "pytesseract_-l eng+grc -c tessedit_char_blacklist=0123456789 --psm 11_15",
          "pytesseract_-l eng+grc -c tessedit_char_blacklist=0123456789 --psm 11_15",
          "pytesseract_-l eng+grc -c tessedit_char_blacklist=0123456789 --psm 11_15",
          "pytesseract_-l eng+grc -c tessedit_char_blacklist=0123456789 --psm 11_15",
          "pytesseract_-l eng+grc -c tessedit_char_blacklist=0123456789 --psm 11_15",
          "pytesseract_-l eng+grc -c tessedit_char_blacklist=0123456789 --psm 11_15",
          "pytesseract_-l eng+grc -c tessedit_char_blacklist=0123456789 --psm 11_15",
          "pytesseract_-l eng+grc -c tessedit_char_blacklist=0123456789 --psm 11_15",
          "pytesseract_-l eng+grc -c tessedit_char_blacklist=0123456789 --psm 11_15",
          "pytesseract_-l eng+grc -c tessedit_char_blacklist=0123456789 --psm 11_15",
          "pytesseract_-l eng+grc -c tessedit_char_blacklist=0123456789 --psm 11_15",
          "pytesseract_-l eng+grc -c tessedit_char_blacklist=0123456789 --psm 11_15",
          "pytesseract_-l eng+grc -c tessedit_char_blacklist=0123456789 --psm 11_15",
          "pytesseract_-l eng+grc -c tessedit_char_blacklist=0123456789 --psm 11_15",
          "pytesseract_-l eng+grc -c tessedit_char_blacklist=0123456789 --psm 11_15",
          "pytesseract_-l eng+grc -c tessedit_char_blacklist=0123456789 --psm 11_15",
          "pytesseract_-l eng+grc -c tessedit_char_blacklist=0123456789 --psm 11_15",
          "pytesseract_-l eng+grc -c tessedit_char_blacklist=0123456789 --psm 11_15",
          "pytesseract_-l eng+grc -c tessedit_char_blacklist=0123456789 --psm 11_15",
          "pytesseract_-l eng+grc -c tessedit_char_blacklist=0123456789 --psm 11_15",
          "pytesseract_-l eng+grc -c tessedit_char_blacklist=0123456789 --psm 11_15",
          "pytesseract_-l eng+grc -c tessedit_char_blacklist=0123456789 --psm 11_15",
          "pytesseract_-l eng+grc -c tessedit_char_blacklist=0123456789 --psm 11_15",
          "pytesseract_-l eng+grc -c tessedit_char_blacklist=0123456789 --psm 11_15",
          "pytesseract_-l eng+grc -c tessedit_char_blacklist=0123456789 --psm 11_15",
          "pytesseract_-l eng+grc -c tessedit_char_blacklist=0123456789 --psm 11_15",
          "pytesseract_-l eng+grc -c tessedit_char_blacklist=0123456789 --psm 11_15",
          "pytesseract_-l eng+grc -c tessedit_char_blacklist=0123456789 --psm 11_15",
          "pytesseract_-l eng+grc -c tessedit_char_blacklist=0123456789 --psm 11_15",
          "pytesseract_-l eng+grc -c tessedit_char_blacklist=0123456789 --psm 11_15",
          "pytesseract_-l eng+grc -c tessedit_char_blacklist=0123456789 --psm 11_15",
          "pytesseract_-l eng+grc -c tessedit_char_blacklist=0123456789 --psm 11_15",
          "pytesseract_-l eng+grc -c tessedit_char_blacklist=0123456789 --psm 11_15",
          "pytesseract_-l eng+grc -c tessedit_char_blacklist=0123456789 --psm 11_15",
          "pytesseract_-l eng+grc -c tessedit_char_blacklist=0123456789 --psm 11_15",
          "pytesseract_-l eng+grc -c tessedit_char_blacklist=0123456789 --psm 11_15",
          "pytesseract_-l eng+grc -c tessedit_char_blacklist=0123456789 --psm 11_15",
          "pytesseract_-l eng+grc -c tessedit_char_blacklist=0123456789 --psm 11_15",
          "pytesseract_-l eng+grc -c tessedit_char_blacklist=0123456789 --psm 11_15",
          "pytesseract_-l eng+grc -c tessedit_char_blacklist=0123456789 --psm 11_15",
          "pytesseract_-l eng+grc -c tessedit_char_blacklist=0123456789 --psm 11_15",
          "pytesseract_-l eng+grc -c tessedit_char_blacklist=0123456789 --psm 11_15",
          "pytesseract_-l eng+grc -c tessedit_char_blacklist=0123456789 --psm 11_15",
          "pytesseract_-l eng+grc -c tessedit_char_blacklist=0123456789 --psm 11_15",
          "pytesseract_-l eng+grc -c tessedit_char_blacklist=0123456789 --psm 11_15",
          "pytesseract_-l eng+grc -c tessedit_char_blacklist=0123456789 --psm 11_15",
          "pytesseract_-l eng+grc -c tessedit_char_blacklist=0123456789 --psm 11_15",
          "pytesseract_-l eng+grc -c tessedit_char_blacklist=0123456789 --psm 11_15",
          "pytesseract_-l eng+grc -c tessedit_char_blacklist=0123456789 --psm 11_15",
          "pytesseract_-l eng+grc -c tessedit_char_blacklist=0123456789 --psm 11_15",
          "pytesseract_-l eng+grc -c tessedit_char_blacklist=0123456789 --psm 11_15",
          "pytesseract_-l eng+grc -c tessedit_char_blacklist=0123456789 --psm 11_15",
          "pytesseract_-l eng+grc -c tessedit_char_blacklist=0123456789 --psm 11_15",
          "pytesseract_-l eng+grc -c tessedit_char_blacklist=0123456789 --psm 11_15",
          "pytesseract_-l eng+grc -c tessedit_char_blacklist=0123456789 --psm 11_15",
          "pytesseract_-l eng+grc -c tessedit_char_blacklist=0123456789 --psm 11_15",
          "pytesseract_-l eng+grc -c tessedit_char_blacklist=0123456789 --psm 11_15",
          "pytesseract_-l eng+grc -c tessedit_char_blacklist=0123456789 --psm 11_15",
          "pytesseract_-l eng+grc -c tessedit_char_blacklist=0123456789 --psm 11_15",
          "pytesseract_-l eng+grc -c tessedit_char_blacklist=0123456789 --psm 11_15",
          "pytesseract_-l eng+grc -c tessedit_char_blacklist=0123456789 --psm 11_15",
          "pytesseract_-l eng+grc -c tessedit_char_blacklist=0123456789 --psm 11_15",
          "pytesseract_-l eng+grc -c tessedit_char_blacklist=0123456789 --psm 11_15",
          "pytesseract_-l eng+grc -c tessedit_char_blacklist=0123456789 --psm 11_15",
          "pytesseract_-l eng+grc -c tessedit_char_blacklist=0123456789 --psm 11_15",
          "pytesseract_-l eng+grc -c tessedit_char_blacklist=0123456789 --psm 11_15",
          "pytesseract_-l eng+grc -c tessedit_char_blacklist=0123456789 --psm 11_15",
          "pytesseract_-l eng+grc -c tessedit_char_blacklist=0123456789 --psm 11_15",
          "pytesseract_-l eng+grc -c tessedit_char_blacklist=0123456789 --psm 11_15",
          "pytesseract_-l eng+grc -c tessedit_char_blacklist=0123456789 --psm 11_15",
          "pytesseract_-l eng+grc -c tessedit_char_blacklist=0123456789 --psm 11_15",
          "pytesseract_-l eng+grc -c tessedit_char_blacklist=0123456789 --psm 11_15",
          "pytesseract_-l eng+grc -c tessedit_char_blacklist=0123456789 --psm 11_15",
          "pytesseract_-l eng+grc -c tessedit_char_blacklist=0123456789 --psm 11_15",
          "pytesseract_-l eng+grc -c tessedit_char_blacklist=0123456789 --psm 11_15",
          "pytesseract_-l eng+grc -c tessedit_char_blacklist=0123456789 --psm 11_15",
          "pytesseract_-l eng+grc -c tessedit_char_blacklist=0123456789 --psm 11_15",
          "pytesseract_-l eng+grc -c tessedit_char_blacklist=0123456789 --psm 11_15",
          "pytesseract_-l eng+grc -c tessedit_char_blacklist=0123456789 --psm 11_15",
          "pytesseract_-l eng+grc -c tessedit_char_blacklist=0123456789 --psm 11_15",
          "pytesseract_-l eng+grc -c tessedit_char_blacklist=0123456789 --psm 11_15",
          "pytesseract_-l eng+grc -c tessedit_char_blacklist=0123456789 --psm 11_15",
          "pytesseract_-l eng+grc -c tessedit_char_blacklist=0123456789 --psm 11_15",
          "pytesseract_-l eng+grc -c tessedit_char_blacklist=0123456789 --psm 11_15",
          "pytesseract_-l eng+grc -c tessedit_char_blacklist=0123456789 --psm 11_15",
          "pytesseract_-l eng+grc -c tessedit_char_blacklist=0123456789 --psm 11_15",
          "pytesseract_-l eng+grc -c tessedit_char_blacklist=0123456789 --psm 11_15",
          "pytesseract_-l eng+grc -c tessedit_char_blacklist=0123456789 --psm 11_15",
          "pytesseract_-l eng+grc -c tessedit_char_blacklist=0123456789 --psm 11_15",
          "pytesseract_-l eng+grc -c tessedit_char_blacklist=0123456789 --psm 11_15",
          "pytesseract_-l eng+grc -c tessedit_char_blacklist=0123456789 --psm 11_15",
          "pytesseract_-l eng+grc -c tessedit_char_blacklist=0123456789 --psm 11_15",
          "pytesseract_-l eng+grc -c tessedit_char_blacklist=0123456789 --psm 11_15",
          "pytesseract_-l eng+grc -c tessedit_char_blacklist=0123456789 --psm 11_15",
          "pytesseract_-l eng+grc -c tessedit_char_blacklist=0123456789 --psm 11_15",
          "pytesseract_-l eng+grc -c tessedit_char_blacklist=0123456789 --psm 11_15",
          "pytesseract_-l eng+grc -c tessedit_char_blacklist=0123456789 --psm 11_15",
          "pytesseract_-l eng+grc -c tessedit_char_blacklist=0123456789 --psm 11_15",
          "pytesseract_-l eng+grc -c tessedit_char_blacklist=0123456789 --psm 11_15",
          "pytesseract_-l eng+grc -c tessedit_char_blacklist=0123456789 --psm 11_15",
          "pytesseract_-l eng+grc -c tessedit_char_blacklist=0123456789 --psm 11_15",
          "pytesseract_-l eng+grc -c tessedit_char_blacklist=0123456789 --psm 11_15",
          "pytesseract_-l eng+grc -c tessedit_char_blacklist=0123456789 --psm 11_15",
          "pytesseract_-l eng+grc -c tessedit_char_blacklist=0123456789 --psm 11_15",
          "pytesseract_-l eng+grc -c tessedit_char_blacklist=0123456789 --psm 11_15",
          "pytesseract_-l eng+grc -c tessedit_char_blacklist=0123456789 --psm 11_15",
          "pytesseract_-l eng+grc -c tessedit_char_blacklist=0123456789 --psm 11_15",
          "pytesseract_-l eng+grc -c tessedit_char_blacklist=0123456789 --psm 11_15",
          "pytesseract_-l eng+grc -c tessedit_char_blacklist=0123456789 --psm 11_15",
          "pytesseract_-l eng+grc -c tessedit_char_blacklist=0123456789 --psm 11_15",
          "pytesseract_-l eng+grc -c tessedit_char_blacklist=0123456789 --psm 11_15",
          "pytesseract_-l eng+grc -c tessedit_char_blacklist=0123456789 --psm 11_15",
          "pytesseract_-l eng+grc -c tessedit_char_blacklist=0123456789 --psm 11_15",
          "pytesseract_-l eng+grc -c tessedit_char_blacklist=0123456789 --psm 11_15",
          "pytesseract_-l eng+grc -c tessedit_char_blacklist=0123456789 --psm 11_15",
          "pytesseract_-l eng+grc -c tessedit_char_blacklist=0123456789 --psm 11_15",
          "pytesseract_-l eng+grc -c tessedit_char_blacklist=0123456789 --psm 11_15",
          "pytesseract_-l eng+grc -c tessedit_char_blacklist=0123456789 --psm 11_15",
          "pytesseract_-l eng+grc -c tessedit_char_blacklist=0123456789 --psm 11_15",
          "pytesseract_-l eng+grc -c tessedit_char_blacklist=0123456789 --psm 11_15",
          "pytesseract_-l eng+grc -c tessedit_char_blacklist=0123456789 --psm 11_15",
          "pytesseract_-l eng+grc -c tessedit_char_blacklist=0123456789 --psm 11_15",
          "pytesseract_-l eng+grc -c tessedit_char_blacklist=0123456789 --psm 11_15",
          "pytesseract_-l eng+grc -c tessedit_char_blacklist=0123456789 --psm 11_15",
          "pytesseract_-l eng+grc -c tessedit_char_blacklist=0123456789 --psm 11_15",
          "pytesseract_-l eng+grc -c tessedit_char_blacklist=0123456789 --psm 11_15",
          "pytesseract_-l eng+grc -c tessedit_char_blacklist=0123456789 --psm 11_15",
          "pytesseract_-l eng+grc -c tessedit_char_blacklist=0123456789 --psm 11_15",
          "pytesseract_-l eng+grc -c tessedit_char_blacklist=0123456789 --psm 11_15",
          "pytesseract_-l eng+grc -c tessedit_char_blacklist=0123456789 --psm 11_15",
          "pytesseract_-l eng+grc -c tessedit_char_blacklist=0123456789 --psm 11_15",
          "pytesseract_-l eng+grc -c tessedit_char_blacklist=0123456789 --psm 11_15",
          "pytesseract_-l eng+grc -c tessedit_char_blacklist=0123456789 --psm 11_15",
          "pytesseract_-l eng+grc -c tessedit_char_blacklist=0123456789 --psm 11_15",
          "pytesseract_-l eng+grc -c tessedit_char_blacklist=0123456789 --psm 11_15",
          "pytesseract_-l eng+grc -c tessedit_char_blacklist=0123456789 --psm 11_15",
          "pytesseract_-l eng+grc -c tessedit_char_blacklist=0123456789 --psm 11_15",
          "pytesseract_-l eng+grc -c tessedit_char_blacklist=0123456789 --psm 11_15",
          "pytesseract_-l eng+grc -c tessedit_char_blacklist=0123456789 --psm 11_15",
          "pytesseract_-l eng+grc -c tessedit_char_blacklist=0123456789 --psm 11_15",
          "pytesseract_-l eng+grc -c tessedit_char_blacklist=0123456789 --psm 11_15",
          "pytesseract_-l eng+grc -c tessedit_char_blacklist=0123456789 --psm 11_15",
          "pytesseract_-l eng+grc -c tessedit_char_blacklist=0123456789 --psm 11_15",
          "pytesseract_-l eng+grc -c tessedit_char_blacklist=0123456789 --psm 11_15",
          "pytesseract_-l eng+grc -c tessedit_char_blacklist=0123456789 --psm 11_15",
          "pytesseract_-l eng+grc -c tessedit_char_blacklist=0123456789 --psm 11_15",
          "pytesseract_-l eng+grc -c tessedit_char_blacklist=0123456789 --psm 11_15",
          "pytesseract_-l eng+grc -c tessedit_char_blacklist=0123456789 --psm 11_15",
          "pytesseract_-l eng+grc -c tessedit_char_blacklist=0123456789 --psm 11_15",
          "pytesseract_-l eng+grc -c tessedit_char_blacklist=0123456789 --psm 11_15",
          "pytesseract_-l eng+grc -c tessedit_char_blacklist=0123456789 --psm 11_15",
          "pytesseract_-l eng+grc -c tessedit_char_blacklist=0123456789 --psm 11_15",
          "pytesseract_-l eng+grc -c tessedit_char_blacklist=0123456789 --psm 11_15",
          "pytesseract_-l eng+grc -c tessedit_char_blacklist=0123456789 --psm 11_15",
          "pytesseract_-l eng+grc -c tessedit_char_blacklist=0123456789 --psm 11_15",
          "pytesseract_-l eng+grc -c tessedit_char_blacklist=0123456789 --psm 11_15",
          "pytesseract_-l eng+grc -c tessedit_char_blacklist=0123456789 --psm 11_15",
          "pytesseract_-l eng+grc -c tessedit_char_blacklist=0123456789 --psm 11_15",
          "pytesseract_-l eng+grc -c tessedit_char_blacklist=0123456789 --psm 11_15",
          "pytesseract_-l eng+grc -c tessedit_char_blacklist=0123456789 --psm 11_15",
          "pytesseract_-l eng+grc -c tessedit_char_blacklist=0123456789 --psm 11_15",
          "pytesseract_-l eng+grc -c tessedit_char_blacklist=0123456789 --psm 11_15",
          "pytesseract_-l eng+grc -c tessedit_char_blacklist=0123456789 --psm 11_15",
          "pytesseract_-l eng+grc -c tessedit_char_blacklist=0123456789 --psm 11_15",
          "pytesseract_-l eng+grc -c tessedit_char_blacklist=0123456789 --psm 11_15",
          "pytesseract_-l eng+grc -c tessedit_char_blacklist=0123456789 --psm 11_15",
          "pytesseract_-l eng+grc -c tessedit_char_blacklist=0123456789 --psm 11_15",
          "pytesseract_-l eng+grc -c tessedit_char_blacklist=0123456789 --psm 11_15",
          "pytesseract_-l eng+grc -c tessedit_char_blacklist=0123456789 --psm 11_15",
          "pytesseract_-l eng+grc -c tessedit_char_blacklist=0123456789 --psm 11_15",
          "pytesseract_-l eng+grc -c tessedit_char_blacklist=0123456789 --psm 11_15",
          "pytesseract_-l eng+grc -c tessedit_char_blacklist=0123456789 --psm 11_15",
          "pytesseract_-l eng+grc -c tessedit_char_blacklist=0123456789 --psm 11_15",
          "pytesseract_-l eng+grc -c tessedit_char_blacklist=0123456789 --psm 11_15",
          "pytesseract_-l eng+grc -c tessedit_char_blacklist=0123456789 --psm 11_15",
          "pytesseract_-l eng+grc -c tessedit_char_blacklist=0123456789 --psm 11_15",
          "pytesseract_-l eng+grc -c tessedit_char_blacklist=0123456789 --psm 11_15",
          "pytesseract_-l eng+grc -c tessedit_char_blacklist=0123456789 --psm 11_15",
          "pytesseract_-l eng+grc -c tessedit_char_blacklist=0123456789 --psm 11_15",
          "pytesseract_-l eng+grc -c tessedit_char_blacklist=0123456789 --psm 11_15",
          "pytesseract_-l eng+grc -c tessedit_char_blacklist=0123456789 --psm 11_15",
          "pytesseract_-l eng+grc -c tessedit_char_blacklist=0123456789 --psm 11_15",
          "pytesseract_-l eng+grc -c tessedit_char_blacklist=0123456789 --psm 11_15",
          "pytesseract_-l eng+grc -c tessedit_char_blacklist=0123456789 --psm 11_15",
          "pytesseract_-l eng+grc -c tessedit_char_blacklist=0123456789 --psm 11_15",
          "pytesseract_-l eng+grc -c tessedit_char_blacklist=0123456789 --psm 11_15",
          "pytesseract_-l eng+grc -c tessedit_char_blacklist=0123456789 --psm 11_15",
          "pytesseract_-l eng+grc -c tessedit_char_blacklist=0123456789 --psm 11_15",
          "pytesseract_-l eng+grc -c tessedit_char_blacklist=0123456789 --psm 11_15",
          "pytesseract_-l eng+grc -c tessedit_char_blacklist=0123456789 --psm 11_15",
          "pytesseract_-l eng+grc -c tessedit_char_blacklist=0123456789 --psm 11_15",
          "pytesseract_-l eng+grc -c tessedit_char_blacklist=0123456789 --psm 11_15",
          "pytesseract_-l eng+grc -c tessedit_char_blacklist=0123456789 --psm 11_15",
          "pytesseract_-l eng+grc -c tessedit_char_blacklist=0123456789 --psm 11_15",
          "pytesseract_-l eng+grc -c tessedit_char_blacklist=0123456789 --psm 11_15",
          "pytesseract_-l eng+grc -c tessedit_char_blacklist=0123456789 --psm 11_15",
          "pytesseract_-l eng+grc -c tessedit_char_blacklist=0123456789 --psm 11_15",
          "pytesseract_-l eng+grc -c tessedit_char_blacklist=0123456789 --psm 11_15",
          "pytesseract_-l eng+grc -c tessedit_char_blacklist=0123456789 --psm 11_15",
          "pytesseract_-l eng+grc -c tessedit_char_blacklist=0123456789 --psm 11_15",
          "pytesseract_-l eng+grc -c tessedit_char_blacklist=0123456789 --psm 11_15",
          "pytesseract_-l eng+grc -c tessedit_char_blacklist=0123456789 --psm 11_15",
          "pytesseract_-l eng+grc -c tessedit_char_blacklist=0123456789 --psm 11_15",
          "pytesseract_-l eng+grc -c tessedit_char_blacklist=0123456789 --psm 11_15",
          "pytesseract_-l eng+grc -c tessedit_char_blacklist=0123456789 --psm 11_15",
          "pytesseract_-l eng+grc -c tessedit_char_blacklist=0123456789 --psm 11_15",
          "pytesseract_-l eng+grc -c tessedit_char_blacklist=0123456789 --psm 11_15",
          "pytesseract_-l eng+grc -c tessedit_char_blacklist=0123456789 --psm 11_15",
          "pytesseract_-l eng+grc -c tessedit_char_blacklist=0123456789 --psm 11_15",
          "pytesseract_-l eng+grc -c tessedit_char_blacklist=0123456789 --psm 11_15",
          "pytesseract_-l eng+grc -c tessedit_char_blacklist=0123456789 --psm 11_15",
          "pytesseract_-l eng+grc -c tessedit_char_blacklist=0123456789 --psm 11_15",
          "pytesseract_-l eng+grc -c tessedit_char_blacklist=0123456789 --psm 11_15",
          "pytesseract_-l eng+grc -c tessedit_char_blacklist=0123456789 --psm 11_15",
          "pytesseract_-l eng+grc -c tessedit_char_blacklist=0123456789 --psm 11_15",
          "pytesseract_-l eng+grc -c tessedit_char_blacklist=0123456789 --psm 11_15",
          "pytesseract_-l eng+grc -c tessedit_char_blacklist=0123456789 --psm 11_15",
          "pytesseract_-l eng+grc -c tessedit_char_blacklist=0123456789 --psm 11_15",
          "pytesseract_-l eng+grc -c tessedit_char_blacklist=0123456789 --psm 11_15",
          "pytesseract_-l eng+grc -c tessedit_char_blacklist=0123456789 --psm 11_15",
          "pytesseract_-l eng+grc -c tessedit_char_blacklist=0123456789 --psm 11_15",
          "pytesseract_-l eng+grc -c tessedit_char_blacklist=0123456789 --psm 11_15",
          "pytesseract_-l eng+grc -c tessedit_char_blacklist=0123456789 --psm 11_15",
          "pytesseract_-l eng+grc -c tessedit_char_blacklist=0123456789 --psm 11_15",
          "pytesseract_-l eng+grc -c tessedit_char_blacklist=0123456789 --psm 11_15",
          "pytesseract_-l eng+grc -c tessedit_char_blacklist=0123456789 --psm 11_15",
          "pytesseract_-l eng+grc -c tessedit_char_blacklist=0123456789 --psm 11_15",
          "pytesseract_-l eng+grc -c tessedit_char_blacklist=0123456789 --psm 11_15",
          "pytesseract_-l eng+grc -c tessedit_char_blacklist=0123456789 --psm 11_15",
          "pytesseract_-l eng+grc -c tessedit_char_blacklist=0123456789 --psm 11_15",
          "pytesseract_-l eng+grc -c tessedit_char_blacklist=0123456789 --psm 11_15",
          "pytesseract_-l eng+grc -c tessedit_char_blacklist=0123456789 --psm 11_15",
          "pytesseract_-l eng+grc -c tessedit_char_blacklist=0123456789 --psm 11_15",
          "pytesseract_-l eng+grc -c tessedit_char_blacklist=0123456789 --psm 11_15",
          "pytesseract_-l eng+grc -c tessedit_char_blacklist=0123456789 --psm 11_15",
          "pytesseract_-l eng+grc -c tessedit_char_blacklist=0123456789 --psm 11_15",
          "pytesseract_-l eng+grc -c tessedit_char_blacklist=0123456789 --psm 11_15",
          "pytesseract_-l eng+grc -c tessedit_char_blacklist=0123456789 --psm 11_15",
          "pytesseract_-l eng+grc -c tessedit_char_blacklist=0123456789 --psm 11_15",
          "pytesseract_-l eng+grc -c tessedit_char_blacklist=0123456789 --psm 11_15",
          "pytesseract_-l eng+grc -c tessedit_char_blacklist=0123456789 --psm 11_15",
          "pytesseract_-l eng+grc -c tessedit_char_blacklist=0123456789 --psm 11_15",
          "pytesseract_-l eng+grc -c tessedit_char_blacklist=0123456789 --psm 11_15",
          "pytesseract_-l eng+grc -c tessedit_char_blacklist=0123456789 --psm 11_15",
          "pytesseract_-l eng+grc -c tessedit_char_blacklist=0123456789 --psm 11_15",
          "pytesseract_-l eng+grc -c tessedit_char_blacklist=0123456789 --psm 11_15",
          "pytesseract_-l eng+grc -c tessedit_char_blacklist=0123456789 --psm 11_15",
          "pytesseract_-l eng+grc -c tessedit_char_blacklist=0123456789 --psm 11_15",
          "pytesseract_-l eng+grc -c tessedit_char_blacklist=0123456789 --psm 11_15",
          "pytesseract_-l eng+grc -c tessedit_char_blacklist=0123456789 --psm 11_15",
          "pytesseract_-l eng+grc -c tessedit_char_blacklist=0123456789 --psm 11_15",
          "pytesseract_-l eng+grc -c tessedit_char_blacklist=0123456789 --psm 11_15",
          "pytesseract_-l eng+grc -c tessedit_char_blacklist=0123456789 --psm 11_15",
          "pytesseract_-l eng+grc -c tessedit_char_blacklist=0123456789 --psm 11_15",
          "pytesseract_-l eng+grc -c tessedit_char_blacklist=0123456789 --psm 11_15",
          "pytesseract_-l eng+grc -c tessedit_char_blacklist=0123456789 --psm 11_15",
          "pytesseract_-l eng+grc -c tessedit_char_blacklist=0123456789 --psm 11_15",
          "pytesseract_-l eng+grc -c tessedit_char_blacklist=0123456789 --psm 11_15",
          "pytesseract_-l eng+grc -c tessedit_char_blacklist=0123456789 --psm 11_15",
          "pytesseract_-l eng+grc -c tessedit_char_blacklist=0123456789 --psm 11_15",
          "pytesseract_-l eng+grc -c tessedit_char_blacklist=0123456789 --psm 11_15",
          "pytesseract_-l eng+grc -c tessedit_char_blacklist=0123456789 --psm 11_15",
          "pytesseract_-l eng+grc -c tessedit_char_blacklist=0123456789 --psm 11_15",
          "pytesseract_-l eng+grc -c tessedit_char_blacklist=0123456789 --psm 11_15",
          "pytesseract_-l eng+grc -c tessedit_char_blacklist=0123456789 --psm 11_15",
          "pytesseract_-l eng+grc -c tessedit_char_blacklist=0123456789 --psm 11_15",
          "pytesseract_-l eng+grc -c tessedit_char_blacklist=0123456789 --psm 11_15",
          "pytesseract_-l eng+grc -c tessedit_char_blacklist=0123456789 --psm 11_15",
          "pytesseract_-l eng+grc -c tessedit_char_blacklist=0123456789 --psm 11_15",
          "pytesseract_-l eng+grc -c tessedit_char_blacklist=0123456789 --psm 11_15",
          "pytesseract_-l eng+grc -c tessedit_char_blacklist=0123456789 --psm 11_15",
          "pytesseract_-l eng+grc -c tessedit_char_blacklist=0123456789 --psm 11_15",
          "pytesseract_-l eng+grc -c tessedit_char_blacklist=0123456789 --psm 11_15",
          "pytesseract_-l eng+grc -c tessedit_char_blacklist=0123456789 --psm 11_15",
          "pytesseract_-l eng+grc -c tessedit_char_blacklist=0123456789 --psm 11_15",
          "pytesseract_-l eng+grc -c tessedit_char_blacklist=0123456789 --psm 11_15",
          "pytesseract_-l eng+grc -c tessedit_char_blacklist=0123456789 --psm 11_15",
          "pytesseract_-l eng+grc -c tessedit_char_blacklist=0123456789 --psm 11_15",
          "pytesseract_-l eng+grc -c tessedit_char_blacklist=0123456789 --psm 11_15",
          "pytesseract_-l eng+grc -c tessedit_char_blacklist=0123456789 --psm 11_15",
          "pytesseract_-l eng+grc -c tessedit_char_blacklist=0123456789 --psm 11_15",
          "pytesseract_-l eng+grc -c tessedit_char_blacklist=0123456789 --psm 11_15",
          "pytesseract_-l eng+grc -c tessedit_char_blacklist=0123456789 --psm 11_15",
          "pytesseract_-l eng+grc -c tessedit_char_blacklist=0123456789 --psm 11_15",
          "pytesseract_-l eng+grc -c tessedit_char_blacklist=0123456789 --psm 11_15",
          "pytesseract_-l eng+grc -c tessedit_char_blacklist=0123456789 --psm 11_15",
          "pytesseract_-l eng+grc -c tessedit_char_blacklist=0123456789 --psm 11_15",
          "pytesseract_-l eng+grc -c tessedit_char_blacklist=0123456789 --psm 11_15",
          "pytesseract_-l eng+grc -c tessedit_char_blacklist=0123456789 --psm 11_15",
          "pytesseract_-l eng+grc -c tessedit_char_blacklist=0123456789 --psm 11_15",
          "pytesseract_-l eng+grc -c tessedit_char_blacklist=0123456789 --psm 11_15",
          "pytesseract_-l eng+grc -c tessedit_char_blacklist=0123456789 --psm 11_15",
          "pytesseract_-l eng+grc -c tessedit_char_blacklist=0123456789 --psm 11_15",
          "pytesseract_-l eng+grc -c tessedit_char_blacklist=0123456789 --psm 11_15",
          "pytesseract_-l eng+grc -c tessedit_char_blacklist=0123456789 --psm 11_15",
          "pytesseract_-l eng+grc -c tessedit_char_blacklist=0123456789 --psm 11_15",
          "pytesseract_-l eng+grc -c tessedit_char_blacklist=0123456789 --psm 11_15",
          "pytesseract_-l eng+grc -c tessedit_char_blacklist=0123456789 --psm 11_15",
          "pytesseract_-l eng+grc -c tessedit_char_blacklist=0123456789 --psm 11_15",
          "pytesseract_-l eng+grc -c tessedit_char_blacklist=0123456789 --psm 11_15",
          "pytesseract_-l eng+grc -c tessedit_char_blacklist=0123456789 --psm 11_15",
          "pytesseract_-l eng+grc -c tessedit_char_blacklist=0123456789 --psm 11_15",
          "pytesseract_-l eng+grc -c tessedit_char_blacklist=0123456789 --psm 11_15",
          "pytesseract_-l eng+grc -c tessedit_char_blacklist=0123456789 --psm 11_15",
          "pytesseract_-l eng+grc -c tessedit_char_blacklist=0123456789 --psm 11_15",
          "pytesseract_-l eng+grc -c tessedit_char_blacklist=0123456789 --psm 11_15",
          "pytesseract_-l eng+grc -c tessedit_char_blacklist=0123456789 --psm 11_15",
          "pytesseract_-l eng+grc -c tessedit_char_blacklist=0123456789 --psm 11_15",
          "pytesseract_-l eng+grc -c tessedit_char_blacklist=0123456789 --psm 11_15",
          "pytesseract_-l eng+grc -c tessedit_char_blacklist=0123456789 --psm 11_15",
          "pytesseract_-l eng+grc -c tessedit_char_blacklist=0123456789 --psm 11_15",
          "pytesseract_-l eng+grc -c tessedit_char_blacklist=0123456789 --psm 11_15",
          "pytesseract_-l eng+grc -c tessedit_char_blacklist=0123456789 --psm 11_15",
          "pytesseract_-l eng+grc -c tessedit_char_blacklist=0123456789 --psm 11_15",
          "pytesseract_-l eng+grc -c tessedit_char_blacklist=0123456789 --psm 11_15",
          "pytesseract_-l eng+grc -c tessedit_char_blacklist=0123456789 --psm 11_15",
          "pytesseract_-l eng+grc -c tessedit_char_blacklist=0123456789 --psm 11_15",
          "pytesseract_-l eng+grc -c tessedit_char_blacklist=0123456789 --psm 11_15",
          "pytesseract_-l eng+grc -c tessedit_char_blacklist=0123456789 --psm 11_15",
          "pytesseract_-l eng+grc -c tessedit_char_blacklist=0123456789 --psm 11_15",
          "pytesseract_-l eng+grc -c tessedit_char_blacklist=0123456789 --psm 11_15",
          "pytesseract_-l eng+grc -c tessedit_char_blacklist=0123456789 --psm 11_15",
          "pytesseract_-l eng+grc -c tessedit_char_blacklist=0123456789 --psm 11_15",
          "pytesseract_-l eng+grc -c tessedit_char_blacklist=0123456789 --psm 11_15",
          "pytesseract_-l eng+grc -c tessedit_char_blacklist=0123456789 --psm 11_15",
          "pytesseract_-l eng+grc -c tessedit_char_blacklist=0123456789 --psm 11_15",
          "pytesseract_-l eng+grc -c tessedit_char_blacklist=0123456789 --psm 11_15",
          "pytesseract_-l eng+grc -c tessedit_char_blacklist=0123456789 --psm 11_15",
          "pytesseract_-l eng+grc -c tessedit_char_blacklist=0123456789 --psm 11_15",
          "pytesseract_-l eng+grc -c tessedit_char_blacklist=0123456789 --psm 11_15",
          "pytesseract_-l eng+grc -c tessedit_char_blacklist=0123456789 --psm 11_15",
          "pytesseract_-l eng+grc -c tessedit_char_blacklist=0123456789 --psm 11_15",
          "pytesseract_-l eng+grc -c tessedit_char_blacklist=0123456789 --psm 11_15",
          "pytesseract_-l eng+grc -c tessedit_char_blacklist=0123456789 --psm 11_15",
          "pytesseract_-l eng+grc -c tessedit_char_blacklist=0123456789 --psm 11_15",
          "pytesseract_-l eng+grc -c tessedit_char_blacklist=0123456789 --psm 11_15",
          "pytesseract_-l eng+grc -c tessedit_char_blacklist=0123456789 --psm 11_15",
          "pytesseract_-l eng+grc -c tessedit_char_blacklist=0123456789 --psm 11_15",
          "pytesseract_-l eng+grc -c tessedit_char_blacklist=0123456789 --psm 11_15",
          "pytesseract_-l eng+grc -c tessedit_char_blacklist=0123456789 --psm 11_15",
          "pytesseract_-l eng+grc -c tessedit_char_blacklist=0123456789 --psm 11_15",
          "pytesseract_-l eng+grc -c tessedit_char_blacklist=0123456789 --psm 11_15",
          "pytesseract_-l eng+grc -c tessedit_char_blacklist=0123456789 --psm 11_15",
          "pytesseract_-l eng+grc -c tessedit_char_blacklist=0123456789 --psm 11_15",
          "pytesseract_-l eng+grc -c tessedit_char_blacklist=0123456789 --psm 11_15",
          "pytesseract_-l eng+grc -c tessedit_char_blacklist=0123456789 --psm 11_15",
          "pytesseract_-l eng+grc -c tessedit_char_blacklist=0123456789 --psm 11_15",
          "pytesseract_-l eng+grc -c tessedit_char_blacklist=0123456789 --psm 11_15",
          "pytesseract_-l eng+grc -c tessedit_char_blacklist=0123456789 --psm 11_15",
          "pytesseract_-l eng+grc -c tessedit_char_blacklist=0123456789 --psm 11_15",
          "pytesseract_-l eng+grc -c tessedit_char_blacklist=0123456789 --psm 11_15",
          "pytesseract_-l eng+grc -c tessedit_char_blacklist=0123456789 --psm 11_15",
          "pytesseract_-l eng+grc -c tessedit_char_blacklist=0123456789 --psm 11_15",
          "pytesseract_-l eng+grc -c tessedit_char_blacklist=0123456789 --psm 11_15",
          "pytesseract_-l eng+grc -c tessedit_char_blacklist=0123456789 --psm 11_15",
          "pytesseract_-l eng+grc -c tessedit_char_blacklist=0123456789 --psm 11_15",
          "pytesseract_-l eng+grc -c tessedit_char_blacklist=0123456789 --psm 11_15",
          "pytesseract_-l eng+grc -c tessedit_char_blacklist=0123456789 --psm 11_15",
          "pytesseract_-l eng+grc -c tessedit_char_blacklist=0123456789 --psm 11_15",
          "pytesseract_-l eng+grc -c tessedit_char_blacklist=0123456789 --psm 11_15",
          "pytesseract_-l eng+grc -c tessedit_char_blacklist=0123456789 --psm 11_15",
          "pytesseract_-l eng+grc -c tessedit_char_blacklist=0123456789 --psm 11_15",
          "pytesseract_-l eng+grc -c tessedit_char_blacklist=0123456789 --psm 11_15",
          "pytesseract_-l eng+grc -c tessedit_char_blacklist=0123456789 --psm 11_15",
          "pytesseract_-l eng+grc -c tessedit_char_blacklist=0123456789 --psm 11_15",
          "pytesseract_-l eng+grc -c tessedit_char_blacklist=0123456789 --psm 11_15",
          "pytesseract_-l eng+grc -c tessedit_char_blacklist=0123456789 --psm 11_15",
          "pytesseract_-l eng+grc -c tessedit_char_blacklist=0123456789 --psm 11_15",
          "pytesseract_-l eng+grc -c tessedit_char_blacklist=0123456789 --psm 11_15",
          "pytesseract_-l eng+grc -c tessedit_char_blacklist=0123456789 --psm 11_15",
          "pytesseract_-l eng+grc -c tessedit_char_blacklist=0123456789 --psm 11_15",
          "pytesseract_-l eng+grc -c tessedit_char_blacklist=0123456789 --psm 11_15",
          "pytesseract_-l eng+grc -c tessedit_char_blacklist=0123456789 --psm 11_15",
          "pytesseract_-l eng+grc -c tessedit_char_blacklist=0123456789 --psm 11_15",
          "pytesseract_-l eng+grc -c tessedit_char_blacklist=0123456789 --psm 11_15",
          "pytesseract_-l eng+grc -c tessedit_char_blacklist=0123456789 --psm 11_15",
          "pytesseract_-l eng+grc -c tessedit_char_blacklist=0123456789 --psm 11_15",
          "pytesseract_-l eng+grc -c tessedit_char_blacklist=0123456789 --psm 11_15",
          "pytesseract_-l eng+grc -c tessedit_char_blacklist=0123456789 --psm 11_15",
          "pytesseract_-l eng+grc -c tessedit_char_blacklist=0123456789 --psm 11_15",
          "pytesseract_-l eng+grc -c tessedit_char_blacklist=0123456789 --psm 11_15",
          "pytesseract_-l eng+grc -c tessedit_char_blacklist=0123456789 --psm 11_15",
          "pytesseract_-l eng+grc -c tessedit_char_blacklist=0123456789 --psm 11_15",
          "pytesseract_-l eng+grc -c tessedit_char_blacklist=0123456789 --psm 11_15",
          "pytesseract_-l eng+grc -c tessedit_char_blacklist=0123456789 --psm 11_15",
          "pytesseract_-l eng+grc -c tessedit_char_blacklist=0123456789 --psm 11_15",
          "pytesseract_-l eng+grc -c tessedit_char_blacklist=0123456789 --psm 11_15",
          "pytesseract_-l eng+grc -c tessedit_char_blacklist=0123456789 --psm 11_15",
          "pytesseract_-l eng+grc -c tessedit_char_blacklist=0123456789 --psm 11_15",
          "pytesseract_-l eng+grc -c tessedit_char_blacklist=0123456789 --psm 11_15",
          "pytesseract_-l eng+grc -c tessedit_char_blacklist=0123456789 --psm 11_15",
          "pytesseract_-l eng+grc -c tessedit_char_blacklist=0123456789 --psm 11_15",
          "pytesseract_-l eng+grc -c tessedit_char_blacklist=0123456789 --psm 11_15",
          "pytesseract_-l eng+grc -c tessedit_char_blacklist=0123456789 --psm 11_15",
          "pytesseract_-l eng+grc -c tessedit_char_blacklist=0123456789 --psm 11_15",
          "pytesseract_-l eng+grc -c tessedit_char_blacklist=0123456789 --psm 11_15",
          "pytesseract_-l eng+grc -c tessedit_char_blacklist=0123456789 --psm 11_15",
          "pytesseract_-l eng+grc -c tessedit_char_blacklist=0123456789 --psm 11_15",
          "pytesseract_-l eng+grc -c tessedit_char_blacklist=0123456789 --psm 11_15",
          "pytesseract_-l eng+grc -c tessedit_char_blacklist=0123456789 --psm 11_15",
          "pytesseract_-l eng+grc -c tessedit_char_blacklist=0123456789 --psm 11_15",
          "pytesseract_-l eng+grc -c tessedit_char_blacklist=0123456789 --psm 11_15",
          "pytesseract_-l eng+grc -c tessedit_char_blacklist=0123456789 --psm 11_15",
          "pytesseract_-l eng+grc -c tessedit_char_blacklist=0123456789 --psm 11_15",
          "pytesseract_-l eng+grc -c tessedit_char_blacklist=0123456789 --psm 11_15",
          "pytesseract_-l eng+grc -c tessedit_char_blacklist=0123456789 --psm 11_15",
          "pytesseract_-l eng+grc -c tessedit_char_blacklist=0123456789 --psm 11_15",
          "pytesseract_-l eng+grc -c tessedit_char_blacklist=0123456789 --psm 11_15",
          "pytesseract_-l eng+grc -c tessedit_char_blacklist=0123456789 --psm 11_15",
          "pytesseract_-l eng+grc -c tessedit_char_blacklist=0123456789 --psm 11_15",
          "pytesseract_-l eng+grc -c tessedit_char_blacklist=0123456789 --psm 11_15",
          "pytesseract_-l eng+grc -c tessedit_char_blacklist=0123456789 --psm 11_15",
          "pytesseract_-l eng+grc -c tessedit_char_blacklist=0123456789 --psm 11_15",
          "pytesseract_-l eng+grc -c tessedit_char_blacklist=0123456789 --psm 11_15",
          "pytesseract_-l eng+grc -c tessedit_char_blacklist=0123456789 --psm 11_15",
          "pytesseract_-l eng+grc -c tessedit_char_blacklist=0123456789 --psm 11_15",
          "pytesseract_-l eng+grc -c tessedit_char_blacklist=0123456789 --psm 11_15",
          "pytesseract_-l eng+grc -c tessedit_char_blacklist=0123456789 --psm 11_15",
          "pytesseract_-l eng+grc -c tessedit_char_blacklist=0123456789 --psm 11_15",
          "pytesseract_-l eng+grc -c tessedit_char_blacklist=0123456789 --psm 11_15",
          "pytesseract_-l eng+grc -c tessedit_char_blacklist=0123456789 --psm 11_15",
          "pytesseract_-l eng+grc -c tessedit_char_blacklist=0123456789 --psm 11_15",
          "pytesseract_-l eng+grc -c tessedit_char_blacklist=0123456789 --psm 11_15",
          "pytesseract_-l eng+grc -c tessedit_char_blacklist=0123456789 --psm 11_15",
          "pytesseract_-l eng+grc -c tessedit_char_blacklist=0123456789 --psm 11_15",
          "pytesseract_-l eng+grc -c tessedit_char_blacklist=0123456789 --psm 11_15",
          "pytesseract_-l eng+grc -c tessedit_char_blacklist=0123456789 --psm 11_15",
          "pytesseract_-l eng+grc -c tessedit_char_blacklist=0123456789 --psm 11_15",
          "pytesseract_-l eng+grc -c tessedit_char_blacklist=0123456789 --psm 11_15",
          "pytesseract_-l eng+grc -c tessedit_char_blacklist=0123456789 --psm 11_15",
          "pytesseract_-l eng+grc -c tessedit_char_blacklist=0123456789 --psm 11_15",
          "pytesseract_-l eng+grc -c tessedit_char_blacklist=0123456789 --psm 11_15",
          "pytesseract_-l eng+grc -c tessedit_char_blacklist=0123456789 --psm 11_15",
          "pytesseract_-l eng+grc -c tessedit_char_blacklist=0123456789 --psm 11_15",
          "pytesseract_-l eng+grc -c tessedit_char_blacklist=0123456789 --psm 11_15",
          "pytesseract_-l eng+grc -c tessedit_char_blacklist=0123456789 --psm 11_15",
          "pytesseract_-l eng+grc -c tessedit_char_blacklist=0123456789 --psm 11_15",
          "pytesseract_-l eng+grc -c tessedit_char_blacklist=0123456789 --psm 11_15",
          "pytesseract_-l eng+grc -c tessedit_char_blacklist=0123456789 --psm 11_15",
          "pytesseract_-l eng+grc -c tessedit_char_blacklist=0123456789 --psm 11_15",
          "pytesseract_-l eng+grc -c tessedit_char_blacklist=0123456789 --psm 11_15",
          "pytesseract_-l eng+grc -c tessedit_char_blacklist=0123456789 --psm 11_15",
          "pytesseract_-l eng+grc -c tessedit_char_blacklist=0123456789 --psm 11_15",
          "pytesseract_-l eng+grc -c tessedit_char_blacklist=0123456789 --psm 11_15",
          "pytesseract_-l eng+grc -c tessedit_char_blacklist=0123456789 --psm 11_15",
          "pytesseract_-l eng+grc -c tessedit_char_blacklist=0123456789 --psm 11_15",
          "pytesseract_-l eng+grc -c tessedit_char_blacklist=0123456789 --psm 11_15",
          "pytesseract_-l eng+grc -c tessedit_char_blacklist=0123456789 --psm 11_15",
          "pytesseract_-l eng+grc -c tessedit_char_blacklist=0123456789 --psm 11_15",
          "pytesseract_-l eng+grc -c tessedit_char_blacklist=0123456789 --psm 11_15",
          "pytesseract_-l eng+grc -c tessedit_char_blacklist=0123456789 --psm 11_15",
          "pytesseract_-l eng+grc -c tessedit_char_blacklist=0123456789 --psm 11_15",
          "pytesseract_-l eng+grc -c tessedit_char_blacklist=0123456789 --psm 11_15",
          "pytesseract_-l eng+grc -c tessedit_char_blacklist=0123456789 --psm 11_15",
          "pytesseract_-l eng+grc -c tessedit_char_blacklist=0123456789 --psm 11_15",
          "pytesseract_-l eng+grc -c tessedit_char_blacklist=0123456789 --psm 11_15",
          "pytesseract_-l eng+grc -c tessedit_char_blacklist=0123456789 --psm 11_15",
          "pytesseract_-l eng+grc -c tessedit_char_blacklist=0123456789 --psm 11_15",
          "pytesseract_-l eng+grc -c tessedit_char_blacklist=0123456789 --psm 11_15",
          "pytesseract_-l eng+grc -c tessedit_char_blacklist=0123456789 --psm 11_15",
          "pytesseract_-l eng+grc -c tessedit_char_blacklist=0123456789 --psm 11_15",
          "pytesseract_-l eng+grc -c tessedit_char_blacklist=0123456789 --psm 11_15",
          "pytesseract_-l eng+grc -c tessedit_char_blacklist=0123456789 --psm 11_15",
          "pytesseract_-l eng+grc -c tessedit_char_blacklist=0123456789 --psm 11_15",
          "pytesseract_-l eng+grc -c tessedit_char_blacklist=0123456789 --psm 11_15",
          "pytesseract_-l eng+grc -c tessedit_char_blacklist=0123456789 --psm 11_15",
          "pytesseract_-l eng+grc -c tessedit_char_blacklist=0123456789 --psm 11_15",
          "pytesseract_-l eng+grc -c tessedit_char_blacklist=0123456789 --psm 11_15",
          "pytesseract_-l eng+grc -c tessedit_char_blacklist=0123456789 --psm 11_15",
          "pytesseract_-l eng+grc -c tessedit_char_blacklist=0123456789 --psm 11_15",
          "pytesseract_-l eng+grc -c tessedit_char_blacklist=0123456789 --psm 11_15",
          "pytesseract_-l eng+grc -c tessedit_char_blacklist=0123456789 --psm 11_15",
          "pytesseract_-l eng+grc -c tessedit_char_blacklist=0123456789 --psm 11_15",
          "pytesseract_-l eng+grc -c tessedit_char_blacklist=0123456789 --psm 11_15",
          "pytesseract_-l eng+grc -c tessedit_char_blacklist=0123456789 --psm 11_15",
          "pytesseract_-l eng+grc -c tessedit_char_blacklist=0123456789 --psm 11_15",
          "pytesseract_-l eng+grc -c tessedit_char_blacklist=0123456789 --psm 11_15",
          "pytesseract_-l eng+grc -c tessedit_char_blacklist=0123456789 --psm 11_15",
          "pytesseract_-l eng+grc -c tessedit_char_blacklist=0123456789 --psm 11_15",
          "pytesseract_-l eng+grc -c tessedit_char_blacklist=0123456789 --psm 11_15",
          "pytesseract_-l eng+grc -c tessedit_char_blacklist=0123456789 --psm 11_15",
          "pytesseract_-l eng+grc -c tessedit_char_blacklist=0123456789 --psm 11_15",
          "pytesseract_-l eng+grc -c tessedit_char_blacklist=0123456789 --psm 11_15",
          "pytesseract_-l eng+grc -c tessedit_char_blacklist=0123456789 --psm 11_15",
          "pytesseract_-l eng+grc -c tessedit_char_blacklist=0123456789 --psm 11_15",
          "pytesseract_-l eng+grc -c tessedit_char_blacklist=0123456789 --psm 11_15",
          "pytesseract_-l eng+grc -c tessedit_char_blacklist=0123456789 --psm 11_15",
          "pytesseract_-l eng+grc -c tessedit_char_blacklist=0123456789 --psm 11_15",
          "pytesseract_-l eng+grc -c tessedit_char_blacklist=0123456789 --psm 11_15",
          "pytesseract_-l eng+grc -c tessedit_char_blacklist=0123456789 --psm 11_15",
          "pytesseract_-l eng+grc -c tessedit_char_blacklist=0123456789 --psm 11_15",
          "pytesseract_-l eng+grc -c tessedit_char_blacklist=0123456789 --psm 11_15",
          "pytesseract_-l eng+grc -c tessedit_char_blacklist=0123456789 --psm 11_15",
          "pytesseract_-l eng+grc -c tessedit_char_blacklist=0123456789 --psm 11_15",
          "pytesseract_-l eng+grc -c tessedit_char_blacklist=0123456789 --psm 11_15",
          "pytesseract_-l eng+grc -c tessedit_char_blacklist=0123456789 --psm 11_15",
          "pytesseract_-l eng+grc -c tessedit_char_blacklist=0123456789 --psm 11_15",
          "pytesseract_-l eng+grc -c tessedit_char_blacklist=0123456789 --psm 11_15",
          "pytesseract_-l eng+grc -c tessedit_char_blacklist=0123456789 --psm 11_15",
          "pytesseract_-l eng+grc -c tessedit_char_blacklist=0123456789 --psm 11_15",
          "pytesseract_-l eng+grc -c tessedit_char_blacklist=0123456789 --psm 11_15",
          "pytesseract_-l eng+grc -c tessedit_char_blacklist=0123456789 --psm 11_15",
          "pytesseract_-l eng+grc -c tessedit_char_blacklist=0123456789 --psm 11_15",
          "pytesseract_-l eng+grc -c tessedit_char_blacklist=0123456789 --psm 11_15",
          "pytesseract_-l eng+grc -c tessedit_char_blacklist=0123456789 --psm 11_15",
          "pytesseract_-l eng+grc -c tessedit_char_blacklist=0123456789 --psm 11_15",
          "pytesseract_-l eng+grc -c tessedit_char_blacklist=0123456789 --psm 11_15",
          "pytesseract_-l eng+grc -c tessedit_char_blacklist=0123456789 --psm 11_15",
          "pytesseract_-l eng+grc -c tessedit_char_blacklist=0123456789 --psm 11_15",
          "pytesseract_-l eng+grc -c tessedit_char_blacklist=0123456789 --psm 11_15",
          "pytesseract_-l eng+grc -c tessedit_char_blacklist=0123456789 --psm 11_15",
          "pytesseract_-l eng+grc -c tessedit_char_blacklist=0123456789 --psm 11_15",
          "pytesseract_-l eng+grc -c tessedit_char_blacklist=0123456789 --psm 11_15",
          "pytesseract_-l eng+grc -c tessedit_char_blacklist=0123456789 --psm 11_15",
          "pytesseract_-l eng+grc -c tessedit_char_blacklist=0123456789 --psm 11_15",
          "pytesseract_-l eng+grc -c tessedit_char_blacklist=0123456789 --psm 11_15",
          "pytesseract_-l eng+grc -c tessedit_char_blacklist=0123456789 --psm 11_15",
          "pytesseract_-l eng+grc -c tessedit_char_blacklist=0123456789 --psm 11_15",
          "pytesseract_-l eng+grc -c tessedit_char_blacklist=0123456789 --psm 11_15",
          "pytesseract_-l eng+grc -c tessedit_char_blacklist=0123456789 --psm 11_15",
          "pytesseract_-l eng+grc -c tessedit_char_blacklist=0123456789 --psm 11_15",
          "pytesseract_-l eng+grc -c tessedit_char_blacklist=0123456789 --psm 11_15",
          "pytesseract_-l eng+grc -c tessedit_char_blacklist=0123456789 --psm 11_15",
          "pytesseract_-l eng+grc -c tessedit_char_blacklist=0123456789 --psm 11_15",
          "pytesseract_-l eng+grc -c tessedit_char_blacklist=0123456789 --psm 11_15",
          "pytesseract_-l eng+grc -c tessedit_char_blacklist=0123456789 --psm 11_15",
          "pytesseract_-l eng+grc -c tessedit_char_blacklist=0123456789 --psm 11_15",
          "pytesseract_-l eng+grc -c tessedit_char_blacklist=0123456789 --psm 11_15",
          "pytesseract_-l eng+grc -c tessedit_char_blacklist=0123456789 --psm 11_15",
          "pytesseract_-l eng+grc -c tessedit_char_blacklist=0123456789 --psm 11_15",
          "pytesseract_-l eng+grc -c tessedit_char_blacklist=0123456789 --psm 11_15",
          "pytesseract_-l eng+grc -c tessedit_char_blacklist=0123456789 --psm 11_15",
          "pytesseract_-l eng+grc -c tessedit_char_blacklist=0123456789 --psm 11_15",
          "pytesseract_-l eng+grc -c tessedit_char_blacklist=0123456789 --psm 11_15",
          "pytesseract_-l eng+grc -c tessedit_char_blacklist=0123456789 --psm 11_15",
          "pytesseract_-l eng+grc -c tessedit_char_blacklist=0123456789 --psm 11_15",
          "pytesseract_-l eng+grc -c tessedit_char_blacklist=0123456789 --psm 11_15",
          "pytesseract_-l eng+grc -c tessedit_char_blacklist=0123456789 --psm 11_15",
          "pytesseract_-l eng+grc -c tessedit_char_blacklist=0123456789 --psm 11_15",
          "pytesseract_-l eng+grc -c tessedit_char_blacklist=0123456789 --psm 11_15",
          "pytesseract_-l eng+grc -c tessedit_char_blacklist=0123456789 --psm 11_15",
          "pytesseract_-l eng+grc -c tessedit_char_blacklist=0123456789 --psm 11_15",
          "pytesseract_-l eng+grc -c tessedit_char_blacklist=0123456789 --psm 11_15",
          "pytesseract_-l eng+grc -c tessedit_char_blacklist=0123456789 --psm 11_15",
          "pytesseract_-l eng+grc -c tessedit_char_blacklist=0123456789 --psm 11_15",
          "pytesseract_-l eng+grc -c tessedit_char_blacklist=0123456789 --psm 11_15",
          "pytesseract_-l eng+grc -c tessedit_char_blacklist=0123456789 --psm 11_15",
          "pytesseract_-l eng+grc -c tessedit_char_blacklist=0123456789 --psm 11_15",
          "pytesseract_-l eng+grc -c tessedit_char_blacklist=0123456789 --psm 11_15",
          "pytesseract_-l eng+grc -c tessedit_char_blacklist=0123456789 --psm 11_15",
          "pytesseract_-l eng+grc -c tessedit_char_blacklist=0123456789 --psm 11_15",
          "pytesseract_-l eng+grc -c tessedit_char_blacklist=0123456789 --psm 11_15",
          "pytesseract_-l eng+grc -c tessedit_char_blacklist=0123456789 --psm 11_15",
          "pytesseract_-l eng+grc -c tessedit_char_blacklist=0123456789 --psm 11_15",
          "pytesseract_-l eng+grc -c tessedit_char_blacklist=0123456789 --psm 11_15",
          "pytesseract_-l eng+grc -c tessedit_char_blacklist=0123456789 --psm 11_15",
          "pytesseract_-l eng+grc -c tessedit_char_blacklist=0123456789 --psm 11_15",
          "pytesseract_-l eng+grc -c tessedit_char_blacklist=0123456789 --psm 11_15",
          "pytesseract_-l eng+grc -c tessedit_char_blacklist=0123456789 --psm 11_15",
          "pytesseract_-l eng+grc -c tessedit_char_blacklist=0123456789 --psm 11_15",
          "pytesseract_-l eng+grc -c tessedit_char_blacklist=0123456789 --psm 11_15",
          "pytesseract_-l eng+grc -c tessedit_char_blacklist=0123456789 --psm 11_15",
          "pytesseract_-l eng+grc -c tessedit_char_blacklist=0123456789 --psm 11_15",
          "pytesseract_-l eng+grc -c tessedit_char_blacklist=0123456789 --psm 11_15",
          "pytesseract_-l eng+grc -c tessedit_char_blacklist=0123456789 --psm 11_15",
          "pytesseract_-l eng+grc -c tessedit_char_blacklist=0123456789 --psm 11_15",
          "pytesseract_-l eng+grc -c tessedit_char_blacklist=0123456789 --psm 11_15",
          "pytesseract_-l eng+grc -c tessedit_char_blacklist=0123456789 --psm 11_15",
          "pytesseract_-l eng+grc -c tessedit_char_blacklist=0123456789 --psm 11_15",
          "pytesseract_-l eng+grc -c tessedit_char_blacklist=0123456789 --psm 11_15",
          "pytesseract_-l eng+grc -c tessedit_char_blacklist=0123456789 --psm 11_15",
          "pytesseract_-l eng+grc -c tessedit_char_blacklist=0123456789 --psm 11_15",
          "pytesseract_-l eng+grc -c tessedit_char_blacklist=0123456789 --psm 11_15",
          "pytesseract_-l eng+grc -c tessedit_char_blacklist=0123456789 --psm 11_15",
          "pytesseract_-l eng+grc -c tessedit_char_blacklist=0123456789 --psm 11_15",
          "pytesseract_-l eng+grc -c tessedit_char_blacklist=0123456789 --psm 11_15",
          "pytesseract_-l eng+grc -c tessedit_char_blacklist=0123456789 --psm 11_15",
          "pytesseract_-l eng+grc -c tessedit_char_blacklist=0123456789 --psm 11_15",
          "pytesseract_-l eng+grc -c tessedit_char_blacklist=0123456789 --psm 11_15",
          "pytesseract_-l eng+grc -c tessedit_char_blacklist=0123456789 --psm 11_15",
          "pytesseract_-l eng+grc -c tessedit_char_blacklist=0123456789 --psm 11_15",
          "pytesseract_-l eng+grc -c tessedit_char_blacklist=0123456789 --psm 11_15",
          "pytesseract_-l eng+grc -c tessedit_char_blacklist=0123456789 --psm 11_15",
          "pytesseract_-l eng+grc -c tessedit_char_blacklist=0123456789 --psm 11_15",
          "pytesseract_-l eng+grc -c tessedit_char_blacklist=0123456789 --psm 11_15",
          "pytesseract_-l eng+grc -c tessedit_char_blacklist=0123456789 --psm 11_15",
          "pytesseract_-l eng+grc -c tessedit_char_blacklist=0123456789 --psm 11_15",
          "pytesseract_-l eng+grc -c tessedit_char_blacklist=0123456789 --psm 11_15",
          "pytesseract_-l eng+grc -c tessedit_char_blacklist=0123456789 --psm 11_15",
          "pytesseract_-l eng+grc -c tessedit_char_blacklist=0123456789 --psm 11_15",
          "pytesseract_-l eng+grc -c tessedit_char_blacklist=0123456789 --psm 11_15",
          "pytesseract_-l eng+grc -c tessedit_char_blacklist=0123456789 --psm 11_15",
          "pytesseract_-l eng+grc -c tessedit_char_blacklist=0123456789 --psm 11_15",
          "pytesseract_-l eng+grc -c tessedit_char_blacklist=0123456789 --psm 11_15",
          "pytesseract_-l eng+grc -c tessedit_char_blacklist=0123456789 --psm 11_15",
          "pytesseract_-l eng+grc -c tessedit_char_blacklist=0123456789 --psm 11_15",
          "pytesseract_-l eng+grc -c tessedit_char_blacklist=0123456789 --psm 11_15",
          "pytesseract_-l eng+grc -c tessedit_char_blacklist=0123456789 --psm 11_15",
          "pytesseract_-l eng+grc -c tessedit_char_blacklist=0123456789 --psm 11_15",
          "pytesseract_-l eng+grc -c tessedit_char_blacklist=0123456789 --psm 11_15",
          "pytesseract_-l eng+grc -c tessedit_char_blacklist=0123456789 --psm 11_15",
          "pytesseract_-l eng+grc -c tessedit_char_blacklist=0123456789 --psm 11_15",
          "pytesseract_-l eng+grc -c tessedit_char_blacklist=0123456789 --psm 11_15",
          "pytesseract_-l eng+grc -c tessedit_char_blacklist=0123456789 --psm 11_15",
          "pytesseract_-l eng+grc -c tessedit_char_blacklist=0123456789 --psm 11_15",
          "pytesseract_-l eng+grc -c tessedit_char_blacklist=0123456789 --psm 11_15",
          "pytesseract_-l eng+grc -c tessedit_char_blacklist=0123456789 --psm 11_15",
          "pytesseract_-l eng+grc -c tessedit_char_blacklist=0123456789 --psm 11_15",
          "pytesseract_-l eng+grc -c tessedit_char_blacklist=0123456789 --psm 11_15",
          "pytesseract_-l eng+grc -c tessedit_char_blacklist=0123456789 --psm 11_15",
          "pytesseract_-l eng+grc -c tessedit_char_blacklist=0123456789 --psm 11_15",
          "pytesseract_-l eng+grc -c tessedit_char_blacklist=0123456789 --psm 11_15",
          "pytesseract_-l eng+grc -c tessedit_char_blacklist=0123456789 --psm 11_15",
          "pytesseract_-l eng+grc -c tessedit_char_blacklist=0123456789 --psm 11_15",
          "pytesseract_-l eng+grc -c tessedit_char_blacklist=0123456789 --psm 11_15",
          "pytesseract_-l eng+grc -c tessedit_char_blacklist=0123456789 --psm 11_15",
          "pytesseract_-l eng+grc -c tessedit_char_blacklist=0123456789 --psm 11_15",
          "pytesseract_-l eng+grc -c tessedit_char_blacklist=0123456789 --psm 11_15",
          "pytesseract_-l eng+grc -c tessedit_char_blacklist=0123456789 --psm 11_15",
          "pytesseract_-l eng+grc -c tessedit_char_blacklist=0123456789 --psm 11_15",
          "pytesseract_-l eng+grc -c tessedit_char_blacklist=0123456789 --psm 11_15",
          "pytesseract_-l eng+grc -c tessedit_char_blacklist=0123456789 --psm 11_15",
          "pytesseract_-l eng+grc -c tessedit_char_blacklist=0123456789 --psm 11_15",
          "pytesseract_-l eng+grc -c tessedit_char_blacklist=0123456789 --psm 11_15",
          "pytesseract_-l eng+grc -c tessedit_char_blacklist=0123456789 --psm 11_15",
          "pytesseract_-l eng+grc -c tessedit_char_blacklist=0123456789 --psm 11_15",
          "pytesseract_-l eng+grc -c tessedit_char_blacklist=0123456789 --psm 11_15",
          "pytesseract_-l eng+grc -c tessedit_char_blacklist=0123456789 --psm 11_15",
          "pytesseract_-l eng+grc -c tessedit_char_blacklist=0123456789 --psm 11_15",
          "pytesseract_-l eng+grc -c tessedit_char_blacklist=0123456789 --psm 11_15",
          "pytesseract_-l eng+grc -c tessedit_char_blacklist=0123456789 --psm 11_15",
          "pytesseract_-l eng+grc -c tessedit_char_blacklist=0123456789 --psm 11_15",
          "pytesseract_-l eng+grc -c tessedit_char_blacklist=0123456789 --psm 11_15",
          "pytesseract_-l eng+grc -c tessedit_char_blacklist=0123456789 --psm 11_15",
          "pytesseract_-l eng+grc -c tessedit_char_blacklist=0123456789 --psm 11_15",
          "pytesseract_-l eng+grc -c tessedit_char_blacklist=0123456789 --psm 11_15",
          "pytesseract_-l eng+grc -c tessedit_char_blacklist=0123456789 --psm 11_15",
          "pytesseract_-l eng+grc -c tessedit_char_blacklist=0123456789 --psm 11_15",
          "pytesseract_-l eng+grc -c tessedit_char_blacklist=0123456789 --psm 11_15",
          "pytesseract_-l eng+grc -c tessedit_char_blacklist=0123456789 --psm 11_15",
          "pytesseract_-l eng+grc -c tessedit_char_blacklist=0123456789 --psm 11_15",
          "pytesseract_-l eng+grc -c tessedit_char_blacklist=0123456789 --psm 11_15",
          "pytesseract_-l eng+grc -c tessedit_char_blacklist=0123456789 --psm 11_15",
          "pytesseract_-l eng+grc -c tessedit_char_blacklist=0123456789 --psm 11_15",
          "pytesseract_-l eng+grc -c tessedit_char_blacklist=0123456789 --psm 11_15",
          "pytesseract_-l eng+grc -c tessedit_char_blacklist=0123456789 --psm 11_15",
          "pytesseract_-l eng+grc -c tessedit_char_blacklist=0123456789 --psm 11_15",
          "pytesseract_-l eng+grc -c tessedit_char_blacklist=0123456789 --psm 11_15",
          "pytesseract_-l eng+grc -c tessedit_char_blacklist=0123456789 --psm 11_15",
          "pytesseract_-l eng+grc -c tessedit_char_blacklist=0123456789 --psm 11_15",
          "pytesseract_-l eng+grc -c tessedit_char_blacklist=0123456789 --psm 11_15",
          "pytesseract_-l eng+grc -c tessedit_char_blacklist=0123456789 --psm 11_15",
          "pytesseract_-l eng+grc -c tessedit_char_blacklist=0123456789 --psm 11_15",
          "pytesseract_-l eng+grc -c tessedit_char_blacklist=0123456789 --psm 11_15",
          "pytesseract_-l eng+grc -c tessedit_char_blacklist=0123456789 --psm 11_15",
          "pytesseract_-l eng+grc -c tessedit_char_blacklist=0123456789 --psm 11_15",
          "pytesseract_-l eng+grc -c tessedit_char_blacklist=0123456789 --psm 11_15",
          "pytesseract_-l eng+grc -c tessedit_char_blacklist=0123456789 --psm 11_15",
          "pytesseract_-l eng+grc -c tessedit_char_blacklist=0123456789 --psm 11_15",
          "pytesseract_-l eng+grc -c tessedit_char_blacklist=0123456789 --psm 11_15",
          "pytesseract_-l eng+grc -c tessedit_char_blacklist=0123456789 --psm 11_15",
          "pytesseract_-l eng+grc -c tessedit_char_blacklist=0123456789 --psm 11_15",
          "pytesseract_-l eng+grc -c tessedit_char_blacklist=0123456789 --psm 11_15",
          "pytesseract_-l eng+grc -c tessedit_char_blacklist=0123456789 --psm 11_15",
          "pytesseract_-l eng+grc -c tessedit_char_blacklist=0123456789 --psm 11_15",
          "pytesseract_-l eng+grc -c tessedit_char_blacklist=0123456789 --psm 11_15",
          "pytesseract_-l eng+grc -c tessedit_char_blacklist=0123456789 --psm 11_15",
          "pytesseract_-l eng+grc -c tessedit_char_blacklist=0123456789 --psm 11_15",
          "pytesseract_-l eng+grc -c tessedit_char_blacklist=0123456789 --psm 11_15",
          "pytesseract_-l eng+grc -c tessedit_char_blacklist=0123456789 --psm 11_15",
          "pytesseract_-l eng+grc -c tessedit_char_blacklist=0123456789 --psm 11_15",
          "pytesseract_-l eng+grc -c tessedit_char_blacklist=0123456789 --psm 11_15",
          "pytesseract_-l eng+grc -c tessedit_char_blacklist=0123456789 --psm 11_15",
          "pytesseract_-l eng+grc -c tessedit_char_blacklist=0123456789 --psm 11_15",
          "pytesseract_-l eng+grc -c tessedit_char_blacklist=0123456789 --psm 11_15",
          "pytesseract_-l eng+grc -c tessedit_char_blacklist=0123456789 --psm 11_15",
          "pytesseract_-l eng+grc -c tessedit_char_blacklist=0123456789 --psm 11_15",
          "pytesseract_-l eng+grc -c tessedit_char_blacklist=0123456789 --psm 11_15",
          "pytesseract_-l eng+grc -c tessedit_char_blacklist=0123456789 --psm 11_15",
          "pytesseract_-l eng+grc -c tessedit_char_blacklist=0123456789 --psm 11_15",
          "pytesseract_-l eng+grc -c tessedit_char_blacklist=0123456789 --psm 11_15",
          "pytesseract_-l eng+grc -c tessedit_char_blacklist=0123456789 --psm 11_15"
         ],
         "x0": " ",
         "xaxis": "x",
         "y": [
          0.234375,
          0.625,
          0.234375,
          0.625,
          0.234375,
          0.625,
          0.234375,
          0.625,
          0.234375,
          0.625,
          0.234375,
          0.625,
          1,
          0,
          0,
          0,
          0,
          0.5,
          0,
          0,
          0,
          0,
          0,
          1,
          0.2,
          0.5,
          0.25,
          1,
          1,
          1,
          0.5,
          1,
          1,
          0,
          1,
          1,
          0,
          1,
          0.5,
          0.5,
          1,
          0,
          1,
          0.5,
          1,
          0,
          0,
          1,
          1,
          1,
          1,
          0.5,
          0.75,
          0.3333333333333333,
          0.5,
          0.3333333333333333,
          1,
          0,
          0,
          1,
          1,
          1,
          1,
          0,
          0,
          0,
          0.5,
          0.2,
          1,
          0.3333333333333333,
          0,
          1,
          0,
          0,
          0,
          1,
          0,
          0.75,
          0,
          0.75,
          1,
          0.75,
          0.5,
          0,
          0,
          0.5,
          0,
          1,
          0,
          0,
          0,
          0,
          0,
          0.5,
          1,
          0,
          0.5,
          0.25,
          0,
          0,
          0,
          0.25,
          1,
          0,
          0,
          0.25,
          0,
          1,
          0.75,
          0.25,
          0.25,
          1,
          0,
          0,
          0,
          0,
          1,
          1,
          1,
          1,
          0,
          0,
          0,
          1,
          0.3333333333333333,
          0,
          0,
          0.6666666666666666,
          0,
          1,
          0,
          0,
          1,
          0,
          1,
          0,
          0,
          1,
          0,
          1,
          0,
          1,
          0.3333333333333333,
          0.25,
          0.3333333333333333,
          0.6666666666666666,
          1,
          0,
          1,
          1,
          0,
          0,
          0.3333333333333333,
          0,
          1,
          0,
          1,
          1,
          0.5,
          1,
          1,
          0.6666666666666666,
          1,
          1,
          0,
          1,
          1,
          1,
          1,
          1,
          0.5,
          0,
          0,
          0,
          1,
          1,
          0.5,
          1,
          0,
          0,
          0,
          1,
          0,
          1,
          0.25,
          0,
          0.6666666666666666,
          0.3333333333333333,
          1,
          0.3333333333333333,
          0,
          0,
          1,
          1,
          0.5,
          1,
          0.75,
          0,
          0,
          0,
          0.5,
          0,
          0.5,
          0.5,
          0,
          0,
          0,
          1,
          1,
          1,
          1,
          0,
          0,
          1,
          0.6666666666666666,
          1,
          1,
          0.5,
          0.3333333333333333,
          0.5,
          1,
          0,
          1,
          0.6666666666666666,
          0,
          1,
          0,
          0.25,
          1,
          0,
          1,
          1,
          0.3333333333333333,
          0,
          0,
          0,
          1,
          0.5,
          0,
          0,
          0,
          1,
          1,
          0.3333333333333333,
          0,
          0,
          0.3333333333333333,
          0,
          0,
          0,
          0,
          1,
          1,
          1,
          0.3333333333333333,
          1,
          0.6666666666666666,
          1,
          0,
          1,
          1,
          0,
          0,
          1,
          1,
          0,
          1,
          0,
          0,
          0.5,
          0,
          1,
          0.3333333333333333,
          0.5,
          0,
          1,
          1,
          0,
          0,
          1,
          0,
          0.5,
          0.3333333333333333,
          1,
          0,
          1,
          0,
          0.5,
          0,
          1,
          0,
          0,
          1,
          1,
          1,
          0,
          1,
          0.6666666666666666,
          1,
          1,
          0,
          1,
          1,
          0.3333333333333333,
          0.3333333333333333,
          1,
          0,
          0.4,
          0.5,
          1,
          0.3333333333333333,
          0.25,
          0,
          1,
          0.3333333333333333,
          1,
          0.25,
          1,
          1,
          0.75,
          0,
          0,
          0,
          0,
          0.5,
          1,
          1,
          0.3333333333333333,
          0.25,
          1,
          0,
          0,
          1,
          0,
          1,
          0.3333333333333333,
          0.25,
          0.5,
          1.25,
          1,
          0,
          1,
          0,
          1,
          0,
          1,
          1,
          0,
          1,
          0,
          0,
          0,
          0,
          0,
          0,
          1,
          0,
          1,
          0.3333333333333333,
          1,
          0,
          1,
          1,
          1,
          1,
          0.5,
          1,
          0,
          0,
          0,
          0,
          0.3333333333333333,
          1,
          0,
          0,
          0,
          0,
          0.3333333333333333,
          0.5,
          1,
          0.5,
          0,
          0.5,
          0,
          0,
          1,
          0,
          1,
          0.6666666666666666,
          0.25,
          0,
          0.5,
          0.3333333333333333,
          0.3333333333333333,
          0,
          0,
          1,
          0,
          1,
          1,
          1,
          0.3333333333333333,
          0,
          0.25,
          0,
          1,
          0,
          0.6666666666666666,
          1,
          0.5,
          0.6666666666666666,
          1,
          1,
          0,
          1,
          0.25,
          1,
          0,
          0,
          0.6666666666666666,
          0,
          1,
          0,
          1,
          1,
          1,
          1,
          0,
          0.3333333333333333,
          1,
          0,
          1,
          1,
          0,
          0,
          0,
          0.3333333333333333,
          0.6666666666666666,
          0,
          0,
          0.3333333333333333,
          0,
          0,
          0,
          1,
          1,
          0.5,
          1,
          1,
          0,
          0.6666666666666666,
          1,
          1,
          0.25,
          0.3333333333333333,
          0,
          0.6666666666666666,
          1,
          0.6666666666666666,
          0,
          0,
          1,
          0.3333333333333333,
          0,
          1,
          0.3333333333333333,
          1,
          1,
          0,
          0.5,
          1,
          1,
          1,
          0,
          1,
          1,
          1,
          0,
          0.5,
          1,
          0,
          1,
          1,
          0.25,
          0.5,
          1,
          0,
          1,
          1,
          0,
          1,
          0.25,
          1,
          0.5,
          1,
          0,
          0.25,
          0,
          1,
          1,
          1,
          0.25,
          1,
          0,
          1,
          0,
          0,
          0.5,
          0.5,
          1,
          0,
          1,
          0.75,
          1,
          0.25,
          0,
          0,
          0.3333333333333333,
          1,
          1,
          0.5,
          0.25,
          0.3333333333333333,
          0.3333333333333333,
          0,
          0,
          0,
          0,
          1,
          0.6666666666666666,
          1,
          1,
          0.5,
          1,
          0,
          0.5,
          1,
          0,
          0,
          0.5,
          0.5,
          0,
          0,
          1,
          0,
          0.5,
          0,
          1,
          1,
          1,
          0,
          0,
          0,
          0,
          0,
          1,
          0,
          1,
          0.5,
          1,
          0,
          0,
          0.5,
          0,
          0.3333333333333333,
          1,
          0.3333333333333333,
          0.6666666666666666,
          0.3333333333333333,
          1,
          0,
          1,
          0.6666666666666666,
          1,
          0.25,
          0,
          0,
          1,
          0,
          0.5,
          1,
          1,
          0,
          0,
          0,
          1,
          1,
          0,
          0,
          1,
          0,
          0.75,
          1,
          0.5,
          1,
          1,
          0,
          0.3333333333333333,
          0.5,
          1,
          0,
          0,
          0.3333333333333333,
          0.6666666666666666,
          0,
          0.5,
          0.25,
          1,
          0,
          0,
          1,
          1,
          0.5,
          0.3333333333333333,
          0.3333333333333333,
          0.3333333333333333,
          0,
          1,
          0.5,
          0.5,
          0,
          0.3333333333333333,
          0.3333333333333333,
          0.3333333333333333,
          0,
          0.6666666666666666,
          1,
          0.3333333333333333,
          0.6666666666666666,
          1,
          1,
          1,
          0,
          1,
          0.5,
          1,
          0,
          0.6666666666666666,
          1,
          1,
          1,
          0,
          1,
          0,
          0.5,
          1,
          0,
          1,
          0,
          0,
          1,
          0.3333333333333333,
          0,
          0,
          1,
          1,
          0,
          1,
          0.6666666666666666,
          0,
          0,
          0,
          1,
          0.25,
          0,
          0,
          0.25,
          0.75,
          1,
          0.5,
          1,
          1,
          1,
          1,
          0,
          0,
          0,
          0,
          1,
          0,
          1,
          0.25,
          0,
          0.5,
          0,
          1,
          0,
          0.25,
          0,
          0,
          1,
          0,
          0.25,
          0.5,
          0,
          0.6666666666666666,
          1,
          0.25,
          0,
          0,
          0,
          1,
          0.6666666666666666,
          0.6666666666666666,
          0,
          0,
          1,
          0.8,
          0.6666666666666666,
          0.3333333333333333,
          1,
          1
         ],
         "y0": " ",
         "yaxis": "y"
        }
       ],
       "layout": {
        "boxmode": "group",
        "legend": {
         "tracegroupgap": 0
        },
        "margin": {
         "t": 60
        },
        "template": {
         "data": {
          "bar": [
           {
            "error_x": {
             "color": "#2a3f5f"
            },
            "error_y": {
             "color": "#2a3f5f"
            },
            "marker": {
             "line": {
              "color": "#E5ECF6",
              "width": 0.5
             },
             "pattern": {
              "fillmode": "overlay",
              "size": 10,
              "solidity": 0.2
             }
            },
            "type": "bar"
           }
          ],
          "barpolar": [
           {
            "marker": {
             "line": {
              "color": "#E5ECF6",
              "width": 0.5
             },
             "pattern": {
              "fillmode": "overlay",
              "size": 10,
              "solidity": 0.2
             }
            },
            "type": "barpolar"
           }
          ],
          "carpet": [
           {
            "aaxis": {
             "endlinecolor": "#2a3f5f",
             "gridcolor": "white",
             "linecolor": "white",
             "minorgridcolor": "white",
             "startlinecolor": "#2a3f5f"
            },
            "baxis": {
             "endlinecolor": "#2a3f5f",
             "gridcolor": "white",
             "linecolor": "white",
             "minorgridcolor": "white",
             "startlinecolor": "#2a3f5f"
            },
            "type": "carpet"
           }
          ],
          "choropleth": [
           {
            "colorbar": {
             "outlinewidth": 0,
             "ticks": ""
            },
            "type": "choropleth"
           }
          ],
          "contour": [
           {
            "colorbar": {
             "outlinewidth": 0,
             "ticks": ""
            },
            "colorscale": [
             [
              0,
              "#0d0887"
             ],
             [
              0.1111111111111111,
              "#46039f"
             ],
             [
              0.2222222222222222,
              "#7201a8"
             ],
             [
              0.3333333333333333,
              "#9c179e"
             ],
             [
              0.4444444444444444,
              "#bd3786"
             ],
             [
              0.5555555555555556,
              "#d8576b"
             ],
             [
              0.6666666666666666,
              "#ed7953"
             ],
             [
              0.7777777777777778,
              "#fb9f3a"
             ],
             [
              0.8888888888888888,
              "#fdca26"
             ],
             [
              1,
              "#f0f921"
             ]
            ],
            "type": "contour"
           }
          ],
          "contourcarpet": [
           {
            "colorbar": {
             "outlinewidth": 0,
             "ticks": ""
            },
            "type": "contourcarpet"
           }
          ],
          "heatmap": [
           {
            "colorbar": {
             "outlinewidth": 0,
             "ticks": ""
            },
            "colorscale": [
             [
              0,
              "#0d0887"
             ],
             [
              0.1111111111111111,
              "#46039f"
             ],
             [
              0.2222222222222222,
              "#7201a8"
             ],
             [
              0.3333333333333333,
              "#9c179e"
             ],
             [
              0.4444444444444444,
              "#bd3786"
             ],
             [
              0.5555555555555556,
              "#d8576b"
             ],
             [
              0.6666666666666666,
              "#ed7953"
             ],
             [
              0.7777777777777778,
              "#fb9f3a"
             ],
             [
              0.8888888888888888,
              "#fdca26"
             ],
             [
              1,
              "#f0f921"
             ]
            ],
            "type": "heatmap"
           }
          ],
          "heatmapgl": [
           {
            "colorbar": {
             "outlinewidth": 0,
             "ticks": ""
            },
            "colorscale": [
             [
              0,
              "#0d0887"
             ],
             [
              0.1111111111111111,
              "#46039f"
             ],
             [
              0.2222222222222222,
              "#7201a8"
             ],
             [
              0.3333333333333333,
              "#9c179e"
             ],
             [
              0.4444444444444444,
              "#bd3786"
             ],
             [
              0.5555555555555556,
              "#d8576b"
             ],
             [
              0.6666666666666666,
              "#ed7953"
             ],
             [
              0.7777777777777778,
              "#fb9f3a"
             ],
             [
              0.8888888888888888,
              "#fdca26"
             ],
             [
              1,
              "#f0f921"
             ]
            ],
            "type": "heatmapgl"
           }
          ],
          "histogram": [
           {
            "marker": {
             "pattern": {
              "fillmode": "overlay",
              "size": 10,
              "solidity": 0.2
             }
            },
            "type": "histogram"
           }
          ],
          "histogram2d": [
           {
            "colorbar": {
             "outlinewidth": 0,
             "ticks": ""
            },
            "colorscale": [
             [
              0,
              "#0d0887"
             ],
             [
              0.1111111111111111,
              "#46039f"
             ],
             [
              0.2222222222222222,
              "#7201a8"
             ],
             [
              0.3333333333333333,
              "#9c179e"
             ],
             [
              0.4444444444444444,
              "#bd3786"
             ],
             [
              0.5555555555555556,
              "#d8576b"
             ],
             [
              0.6666666666666666,
              "#ed7953"
             ],
             [
              0.7777777777777778,
              "#fb9f3a"
             ],
             [
              0.8888888888888888,
              "#fdca26"
             ],
             [
              1,
              "#f0f921"
             ]
            ],
            "type": "histogram2d"
           }
          ],
          "histogram2dcontour": [
           {
            "colorbar": {
             "outlinewidth": 0,
             "ticks": ""
            },
            "colorscale": [
             [
              0,
              "#0d0887"
             ],
             [
              0.1111111111111111,
              "#46039f"
             ],
             [
              0.2222222222222222,
              "#7201a8"
             ],
             [
              0.3333333333333333,
              "#9c179e"
             ],
             [
              0.4444444444444444,
              "#bd3786"
             ],
             [
              0.5555555555555556,
              "#d8576b"
             ],
             [
              0.6666666666666666,
              "#ed7953"
             ],
             [
              0.7777777777777778,
              "#fb9f3a"
             ],
             [
              0.8888888888888888,
              "#fdca26"
             ],
             [
              1,
              "#f0f921"
             ]
            ],
            "type": "histogram2dcontour"
           }
          ],
          "mesh3d": [
           {
            "colorbar": {
             "outlinewidth": 0,
             "ticks": ""
            },
            "type": "mesh3d"
           }
          ],
          "parcoords": [
           {
            "line": {
             "colorbar": {
              "outlinewidth": 0,
              "ticks": ""
             }
            },
            "type": "parcoords"
           }
          ],
          "pie": [
           {
            "automargin": true,
            "type": "pie"
           }
          ],
          "scatter": [
           {
            "fillpattern": {
             "fillmode": "overlay",
             "size": 10,
             "solidity": 0.2
            },
            "type": "scatter"
           }
          ],
          "scatter3d": [
           {
            "line": {
             "colorbar": {
              "outlinewidth": 0,
              "ticks": ""
             }
            },
            "marker": {
             "colorbar": {
              "outlinewidth": 0,
              "ticks": ""
             }
            },
            "type": "scatter3d"
           }
          ],
          "scattercarpet": [
           {
            "marker": {
             "colorbar": {
              "outlinewidth": 0,
              "ticks": ""
             }
            },
            "type": "scattercarpet"
           }
          ],
          "scattergeo": [
           {
            "marker": {
             "colorbar": {
              "outlinewidth": 0,
              "ticks": ""
             }
            },
            "type": "scattergeo"
           }
          ],
          "scattergl": [
           {
            "marker": {
             "colorbar": {
              "outlinewidth": 0,
              "ticks": ""
             }
            },
            "type": "scattergl"
           }
          ],
          "scattermapbox": [
           {
            "marker": {
             "colorbar": {
              "outlinewidth": 0,
              "ticks": ""
             }
            },
            "type": "scattermapbox"
           }
          ],
          "scatterpolar": [
           {
            "marker": {
             "colorbar": {
              "outlinewidth": 0,
              "ticks": ""
             }
            },
            "type": "scatterpolar"
           }
          ],
          "scatterpolargl": [
           {
            "marker": {
             "colorbar": {
              "outlinewidth": 0,
              "ticks": ""
             }
            },
            "type": "scatterpolargl"
           }
          ],
          "scatterternary": [
           {
            "marker": {
             "colorbar": {
              "outlinewidth": 0,
              "ticks": ""
             }
            },
            "type": "scatterternary"
           }
          ],
          "surface": [
           {
            "colorbar": {
             "outlinewidth": 0,
             "ticks": ""
            },
            "colorscale": [
             [
              0,
              "#0d0887"
             ],
             [
              0.1111111111111111,
              "#46039f"
             ],
             [
              0.2222222222222222,
              "#7201a8"
             ],
             [
              0.3333333333333333,
              "#9c179e"
             ],
             [
              0.4444444444444444,
              "#bd3786"
             ],
             [
              0.5555555555555556,
              "#d8576b"
             ],
             [
              0.6666666666666666,
              "#ed7953"
             ],
             [
              0.7777777777777778,
              "#fb9f3a"
             ],
             [
              0.8888888888888888,
              "#fdca26"
             ],
             [
              1,
              "#f0f921"
             ]
            ],
            "type": "surface"
           }
          ],
          "table": [
           {
            "cells": {
             "fill": {
              "color": "#EBF0F8"
             },
             "line": {
              "color": "white"
             }
            },
            "header": {
             "fill": {
              "color": "#C8D4E3"
             },
             "line": {
              "color": "white"
             }
            },
            "type": "table"
           }
          ]
         },
         "layout": {
          "annotationdefaults": {
           "arrowcolor": "#2a3f5f",
           "arrowhead": 0,
           "arrowwidth": 1
          },
          "autotypenumbers": "strict",
          "coloraxis": {
           "colorbar": {
            "outlinewidth": 0,
            "ticks": ""
           }
          },
          "colorscale": {
           "diverging": [
            [
             0,
             "#8e0152"
            ],
            [
             0.1,
             "#c51b7d"
            ],
            [
             0.2,
             "#de77ae"
            ],
            [
             0.3,
             "#f1b6da"
            ],
            [
             0.4,
             "#fde0ef"
            ],
            [
             0.5,
             "#f7f7f7"
            ],
            [
             0.6,
             "#e6f5d0"
            ],
            [
             0.7,
             "#b8e186"
            ],
            [
             0.8,
             "#7fbc41"
            ],
            [
             0.9,
             "#4d9221"
            ],
            [
             1,
             "#276419"
            ]
           ],
           "sequential": [
            [
             0,
             "#0d0887"
            ],
            [
             0.1111111111111111,
             "#46039f"
            ],
            [
             0.2222222222222222,
             "#7201a8"
            ],
            [
             0.3333333333333333,
             "#9c179e"
            ],
            [
             0.4444444444444444,
             "#bd3786"
            ],
            [
             0.5555555555555556,
             "#d8576b"
            ],
            [
             0.6666666666666666,
             "#ed7953"
            ],
            [
             0.7777777777777778,
             "#fb9f3a"
            ],
            [
             0.8888888888888888,
             "#fdca26"
            ],
            [
             1,
             "#f0f921"
            ]
           ],
           "sequentialminus": [
            [
             0,
             "#0d0887"
            ],
            [
             0.1111111111111111,
             "#46039f"
            ],
            [
             0.2222222222222222,
             "#7201a8"
            ],
            [
             0.3333333333333333,
             "#9c179e"
            ],
            [
             0.4444444444444444,
             "#bd3786"
            ],
            [
             0.5555555555555556,
             "#d8576b"
            ],
            [
             0.6666666666666666,
             "#ed7953"
            ],
            [
             0.7777777777777778,
             "#fb9f3a"
            ],
            [
             0.8888888888888888,
             "#fdca26"
            ],
            [
             1,
             "#f0f921"
            ]
           ]
          },
          "colorway": [
           "#636efa",
           "#EF553B",
           "#00cc96",
           "#ab63fa",
           "#FFA15A",
           "#19d3f3",
           "#FF6692",
           "#B6E880",
           "#FF97FF",
           "#FECB52"
          ],
          "font": {
           "color": "#2a3f5f"
          },
          "geo": {
           "bgcolor": "white",
           "lakecolor": "white",
           "landcolor": "#E5ECF6",
           "showlakes": true,
           "showland": true,
           "subunitcolor": "white"
          },
          "hoverlabel": {
           "align": "left"
          },
          "hovermode": "closest",
          "mapbox": {
           "style": "light"
          },
          "paper_bgcolor": "white",
          "plot_bgcolor": "#E5ECF6",
          "polar": {
           "angularaxis": {
            "gridcolor": "white",
            "linecolor": "white",
            "ticks": ""
           },
           "bgcolor": "#E5ECF6",
           "radialaxis": {
            "gridcolor": "white",
            "linecolor": "white",
            "ticks": ""
           }
          },
          "scene": {
           "xaxis": {
            "backgroundcolor": "#E5ECF6",
            "gridcolor": "white",
            "gridwidth": 2,
            "linecolor": "white",
            "showbackground": true,
            "ticks": "",
            "zerolinecolor": "white"
           },
           "yaxis": {
            "backgroundcolor": "#E5ECF6",
            "gridcolor": "white",
            "gridwidth": 2,
            "linecolor": "white",
            "showbackground": true,
            "ticks": "",
            "zerolinecolor": "white"
           },
           "zaxis": {
            "backgroundcolor": "#E5ECF6",
            "gridcolor": "white",
            "gridwidth": 2,
            "linecolor": "white",
            "showbackground": true,
            "ticks": "",
            "zerolinecolor": "white"
           }
          },
          "shapedefaults": {
           "line": {
            "color": "#2a3f5f"
           }
          },
          "ternary": {
           "aaxis": {
            "gridcolor": "white",
            "linecolor": "white",
            "ticks": ""
           },
           "baxis": {
            "gridcolor": "white",
            "linecolor": "white",
            "ticks": ""
           },
           "bgcolor": "#E5ECF6",
           "caxis": {
            "gridcolor": "white",
            "linecolor": "white",
            "ticks": ""
           }
          },
          "title": {
           "x": 0.05
          },
          "xaxis": {
           "automargin": true,
           "gridcolor": "white",
           "linecolor": "white",
           "ticks": "",
           "title": {
            "standoff": 15
           },
           "zerolinecolor": "white",
           "zerolinewidth": 2
          },
          "yaxis": {
           "automargin": true,
           "gridcolor": "white",
           "linecolor": "white",
           "ticks": "",
           "title": {
            "standoff": 15
           },
           "zerolinecolor": "white",
           "zerolinewidth": 2
          }
         }
        },
        "xaxis": {
         "anchor": "y",
         "domain": [
          0,
          1
         ],
         "title": {
          "text": "name"
         }
        },
        "yaxis": {
         "anchor": "x",
         "domain": [
          0,
          1
         ],
         "title": {
          "text": "score"
         }
        }
       }
      }
     },
     "metadata": {},
     "output_type": "display_data"
    }
   ],
   "source": [
    "px.box(df, x=\"name\", y=\"score\")"
   ]
  },
  {
   "cell_type": "code",
   "execution_count": 37,
   "metadata": {},
   "outputs": [
    {
     "data": {
      "text/html": [
       "<div>\n",
       "<style scoped>\n",
       "    .dataframe tbody tr th:only-of-type {\n",
       "        vertical-align: middle;\n",
       "    }\n",
       "\n",
       "    .dataframe tbody tr th {\n",
       "        vertical-align: top;\n",
       "    }\n",
       "\n",
       "    .dataframe thead th {\n",
       "        text-align: right;\n",
       "    }\n",
       "</style>\n",
       "<table border=\"1\" class=\"dataframe\">\n",
       "  <thead>\n",
       "    <tr style=\"text-align: right;\">\n",
       "      <th></th>\n",
       "      <th>name</th>\n",
       "      <th>time</th>\n",
       "      <th>score</th>\n",
       "    </tr>\n",
       "  </thead>\n",
       "  <tbody>\n",
       "    <tr>\n",
       "      <th>0</th>\n",
       "      <td>doctr_db_mobilenet_v3_large_crnn_vgg16_bn</td>\n",
       "      <td>27.167138</td>\n",
       "      <td>0.234375</td>\n",
       "    </tr>\n",
       "    <tr>\n",
       "      <th>1</th>\n",
       "      <td>doctr_db_mobilenet_v3_large_crnn_vgg16_bn</td>\n",
       "      <td>27.905646</td>\n",
       "      <td>0.625000</td>\n",
       "    </tr>\n",
       "    <tr>\n",
       "      <th>2</th>\n",
       "      <td>doctr_db_mobilenet_v3_large_crnn_mobilenet_v3_...</td>\n",
       "      <td>26.846239</td>\n",
       "      <td>0.234375</td>\n",
       "    </tr>\n",
       "    <tr>\n",
       "      <th>3</th>\n",
       "      <td>doctr_db_mobilenet_v3_large_crnn_mobilenet_v3_...</td>\n",
       "      <td>26.641702</td>\n",
       "      <td>0.625000</td>\n",
       "    </tr>\n",
       "    <tr>\n",
       "      <th>4</th>\n",
       "      <td>doctr_db_resnet50_crnn_vgg16_bn</td>\n",
       "      <td>25.507383</td>\n",
       "      <td>0.234375</td>\n",
       "    </tr>\n",
       "    <tr>\n",
       "      <th>...</th>\n",
       "      <td>...</td>\n",
       "      <td>...</td>\n",
       "      <td>...</td>\n",
       "    </tr>\n",
       "    <tr>\n",
       "      <th>707</th>\n",
       "      <td>pytesseract_-l eng+grc -c tessedit_char_blackl...</td>\n",
       "      <td>0.289097</td>\n",
       "      <td>0.800000</td>\n",
       "    </tr>\n",
       "    <tr>\n",
       "      <th>708</th>\n",
       "      <td>pytesseract_-l eng+grc -c tessedit_char_blackl...</td>\n",
       "      <td>0.320714</td>\n",
       "      <td>0.666667</td>\n",
       "    </tr>\n",
       "    <tr>\n",
       "      <th>709</th>\n",
       "      <td>pytesseract_-l eng+grc -c tessedit_char_blackl...</td>\n",
       "      <td>0.323732</td>\n",
       "      <td>0.333333</td>\n",
       "    </tr>\n",
       "    <tr>\n",
       "      <th>710</th>\n",
       "      <td>pytesseract_-l eng+grc -c tessedit_char_blackl...</td>\n",
       "      <td>0.265807</td>\n",
       "      <td>1.000000</td>\n",
       "    </tr>\n",
       "    <tr>\n",
       "      <th>711</th>\n",
       "      <td>pytesseract_-l eng+grc -c tessedit_char_blackl...</td>\n",
       "      <td>0.274597</td>\n",
       "      <td>1.000000</td>\n",
       "    </tr>\n",
       "  </tbody>\n",
       "</table>\n",
       "<p>712 rows × 3 columns</p>\n",
       "</div>"
      ],
      "text/plain": [
       "                                                  name       time     score\n",
       "0            doctr_db_mobilenet_v3_large_crnn_vgg16_bn  27.167138  0.234375\n",
       "1            doctr_db_mobilenet_v3_large_crnn_vgg16_bn  27.905646  0.625000\n",
       "2    doctr_db_mobilenet_v3_large_crnn_mobilenet_v3_...  26.846239  0.234375\n",
       "3    doctr_db_mobilenet_v3_large_crnn_mobilenet_v3_...  26.641702  0.625000\n",
       "4                      doctr_db_resnet50_crnn_vgg16_bn  25.507383  0.234375\n",
       "..                                                 ...        ...       ...\n",
       "707  pytesseract_-l eng+grc -c tessedit_char_blackl...   0.289097  0.800000\n",
       "708  pytesseract_-l eng+grc -c tessedit_char_blackl...   0.320714  0.666667\n",
       "709  pytesseract_-l eng+grc -c tessedit_char_blackl...   0.323732  0.333333\n",
       "710  pytesseract_-l eng+grc -c tessedit_char_blackl...   0.265807  1.000000\n",
       "711  pytesseract_-l eng+grc -c tessedit_char_blackl...   0.274597  1.000000\n",
       "\n",
       "[712 rows x 3 columns]"
      ]
     },
     "execution_count": 37,
     "metadata": {},
     "output_type": "execute_result"
    }
   ],
   "source": [
    "df"
   ]
  },
  {
   "cell_type": "code",
   "execution_count": null,
   "metadata": {},
   "outputs": [],
   "source": []
  }
 ],
 "metadata": {
  "kernelspec": {
   "display_name": "Python 3.7.9 ('wwids120')",
   "language": "python",
   "name": "python3"
  },
  "language_info": {
   "codemirror_mode": {
    "name": "ipython",
    "version": 3
   },
   "file_extension": ".py",
   "mimetype": "text/x-python",
   "name": "python",
   "nbconvert_exporter": "python",
   "pygments_lexer": "ipython3",
   "version": "3.7.9"
  },
  "orig_nbformat": 4,
  "vscode": {
   "interpreter": {
    "hash": "35d08d83409fd0a22278ebdf7130d121858b16b7cfa8705524b5bf3adc3876fe"
   }
  }
 },
 "nbformat": 4,
 "nbformat_minor": 2
}
